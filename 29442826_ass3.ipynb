{
 "cells": [
  {
   "cell_type": "markdown",
   "metadata": {},
   "source": [
    "# FIT5196 Assessment 3: Data Integration & Data Reshaping\n",
    "#### Student Name: Tan Kah Wang\n",
    "#### Student ID: 29442826\n",
    "\n",
    "Date: 25/10/2018\n",
    "\n",
    "Environment: Python 3.6.6 and Jupyter notebook\n",
    "Libraries used: \n",
    "* pandas (for data integration using dataframes, included in Anaconda Python 3.6.6) \n",
    "* numpy (for data integration, included in Anaconda Python 3.6.6)\n",
    "* xml.etree.ElementTree (for reading in xml files, included in Anaconda Python 3.6.6)\n",
    "* json (for reading in json files, included in Anaconda Python 3.6.6)\n",
    "* datetime (for converting time string into time, included in Anaconda Python 3.6.6)\n",
    "* shapefile (for reading in shapefiles, included in Anaconda Python 3.6.6)\n",
    "* shapely.geometry (for creating Point instance, included in Anaconda Python 3.6.6)\n",
    "* shapely.geometry.polygon (for creating Polygon instances, included in Anaconda Python 3.6.6)\n",
    "\n",
    "# Task 1 - Data Integration\n",
    "\n",
    "## A1. Introduction\n",
    "In the first task, we are given 7 datasets in various formats and we are supposed to integrate these 7 datasets into one final dataframe. The data is about housing information in Victoria, Australia."
   ]
  },
  {
   "cell_type": "markdown",
   "metadata": {},
   "source": [
    "## A2. Import libraries"
   ]
  },
  {
   "cell_type": "code",
   "execution_count": 1,
   "metadata": {},
   "outputs": [],
   "source": [
    "import pandas as pd\n",
    "import numpy as np\n",
    "import xml.etree.ElementTree as etree\n",
    "import json\n",
    "import datetime as dt\n",
    "import shapefile\n",
    "from shapely.geometry import Point\n",
    "from shapely.geometry.polygon import Polygon"
   ]
  },
  {
   "cell_type": "markdown",
   "metadata": {},
   "source": [
    "## A3. Reading in housing data\n",
    "We are given two housing datasets and they are in xml and json format. <br>\n",
    "In this section, we will load both datasets in and integrate them into one housing dataset.\n",
    "\n",
    "### A3.1 Reading in real_state.xml\n",
    "Using `xml.etree.ElementTree` package, we parse the data in and explore the structure of the dataset. <br>\n",
    "Notice there are 10 childrens under the root in this dataset."
   ]
  },
  {
   "cell_type": "code",
   "execution_count": 2,
   "metadata": {
    "scrolled": true
   },
   "outputs": [
    {
     "name": "stdout",
     "output_type": "stream",
     "text": [
      "the total number of rows:  10\n",
      "<Element 'bathrooms' at 0x0000019BF6EBA9A8>\n",
      "<Element 'price' at 0x0000019BF6F6AD68>\n",
      "<Element 'bedrooms' at 0x0000019BF6FEF138>\n",
      "<Element 'parking_space' at 0x0000019BF706B458>\n",
      "<Element 'year' at 0x0000019BF70E5778>\n",
      "<Element 'lat' at 0x0000019BF715FA98>\n",
      "<Element 'lng' at 0x0000019BF71DEDB8>\n",
      "<Element 'property_type' at 0x0000019BF7261138>\n",
      "<Element 'addr_street' at 0x0000019BF72DD458>\n",
      "<Element 'property_id' at 0x0000019BF735AA48>\n"
     ]
    }
   ],
   "source": [
    "tree = etree.parse(\"./real_state.xml\")  \n",
    "root = tree.getroot()\n",
    "print (\"the total number of rows: \", len(root))\n",
    "for child in root:           \n",
    "    print (child)"
   ]
  },
  {
   "cell_type": "markdown",
   "metadata": {},
   "source": [
    "We can then extract the 10 children into individual lists so that we can combine the 10 columns into a pandas dataframe."
   ]
  },
  {
   "cell_type": "code",
   "execution_count": 3,
   "metadata": {},
   "outputs": [],
   "source": [
    "# bathrooms is the first child\n",
    "bathrooms = [] \n",
    "for i in range (0,len(root[0])):\n",
    "    bathrooms.append(float(root[0][i].text)) \n",
    "# price is the second child\n",
    "price = [] \n",
    "for i in range (0,len(root[1])):\n",
    "    price.append(float(root[1][i].text))\n",
    "# bedrooms is the third child\n",
    "bedrooms = [] \n",
    "for i in range (0,len(root[2])):\n",
    "    bedrooms.append(float(root[2][i].text))\n",
    "# parking_space is the fourth child\n",
    "parking_space = [] \n",
    "for i in range (0,len(root[3])):\n",
    "    parking_space.append(float(root[3][i].text))\n",
    "# year is the fifth child\n",
    "year = [] \n",
    "for i in range (0,len(root[4])):\n",
    "    year.append(float(root[4][i].text))\n",
    "# lat is the sixth child\n",
    "lat = [] \n",
    "for i in range (0,len(root[5])):\n",
    "    lat.append(float(root[5][i].text))\n",
    "# lng is the seventh child\n",
    "lng = [] \n",
    "for i in range (0,len(root[6])):\n",
    "    lng.append(float(root[6][i].text))\n",
    "# property_type is the eigth child\n",
    "property_type = [] \n",
    "for i in range (0,len(root[7])):\n",
    "    property_type.append(root[7][i].text)\n",
    "# addr_street is the ninth child\n",
    "addr_street = [] \n",
    "for i in range (0,len(root[8])):\n",
    "    addr_street.append(root[8][i].text)\n",
    "# property_id is the tenth child\n",
    "property_id = [] \n",
    "for i in range (0,len(root[9])):\n",
    "    property_id.append(float(root[9][i].text))"
   ]
  },
  {
   "cell_type": "markdown",
   "metadata": {},
   "source": [
    "We then store the 10 lists which contain the 10 individual columns into a pandas dataframe."
   ]
  },
  {
   "cell_type": "code",
   "execution_count": 4,
   "metadata": {},
   "outputs": [
    {
     "data": {
      "text/html": [
       "<div>\n",
       "<style scoped>\n",
       "    .dataframe tbody tr th:only-of-type {\n",
       "        vertical-align: middle;\n",
       "    }\n",
       "\n",
       "    .dataframe tbody tr th {\n",
       "        vertical-align: top;\n",
       "    }\n",
       "\n",
       "    .dataframe thead th {\n",
       "        text-align: right;\n",
       "    }\n",
       "</style>\n",
       "<table border=\"1\" class=\"dataframe\">\n",
       "  <thead>\n",
       "    <tr style=\"text-align: right;\">\n",
       "      <th></th>\n",
       "      <th>property_id</th>\n",
       "      <th>lat</th>\n",
       "      <th>lng</th>\n",
       "      <th>addr_street</th>\n",
       "      <th>price</th>\n",
       "      <th>property_type</th>\n",
       "      <th>year</th>\n",
       "      <th>bedrooms</th>\n",
       "      <th>bathrooms</th>\n",
       "      <th>parking_space</th>\n",
       "    </tr>\n",
       "  </thead>\n",
       "  <tbody>\n",
       "    <tr>\n",
       "      <th>0</th>\n",
       "      <td>45745.0</td>\n",
       "      <td>-37.721855</td>\n",
       "      <td>145.120599</td>\n",
       "      <td>1/41 Coventry Street</td>\n",
       "      <td>7440000.0</td>\n",
       "      <td>house</td>\n",
       "      <td>2012.0</td>\n",
       "      <td>3.0</td>\n",
       "      <td>1.0</td>\n",
       "      <td>1.0</td>\n",
       "    </tr>\n",
       "    <tr>\n",
       "      <th>1</th>\n",
       "      <td>36585.0</td>\n",
       "      <td>-37.672008</td>\n",
       "      <td>145.024414</td>\n",
       "      <td>83 Derrick Street</td>\n",
       "      <td>3285000.0</td>\n",
       "      <td>house</td>\n",
       "      <td>2012.0</td>\n",
       "      <td>3.0</td>\n",
       "      <td>1.0</td>\n",
       "      <td>1.0</td>\n",
       "    </tr>\n",
       "    <tr>\n",
       "      <th>2</th>\n",
       "      <td>35545.0</td>\n",
       "      <td>-37.728758</td>\n",
       "      <td>145.018468</td>\n",
       "      <td>748 Plenty Road</td>\n",
       "      <td>7700000.0</td>\n",
       "      <td>house</td>\n",
       "      <td>2014.0</td>\n",
       "      <td>3.0</td>\n",
       "      <td>1.0</td>\n",
       "      <td>1.0</td>\n",
       "    </tr>\n",
       "    <tr>\n",
       "      <th>3</th>\n",
       "      <td>88657.0</td>\n",
       "      <td>-37.950095</td>\n",
       "      <td>145.045347</td>\n",
       "      <td>22 View Street</td>\n",
       "      <td>21000000.0</td>\n",
       "      <td>house</td>\n",
       "      <td>2016.0</td>\n",
       "      <td>4.0</td>\n",
       "      <td>2.0</td>\n",
       "      <td>2.0</td>\n",
       "    </tr>\n",
       "    <tr>\n",
       "      <th>4</th>\n",
       "      <td>19711.0</td>\n",
       "      <td>-37.678000</td>\n",
       "      <td>144.900481</td>\n",
       "      <td>33 Raleigh Street</td>\n",
       "      <td>6320000.0</td>\n",
       "      <td>house</td>\n",
       "      <td>2014.0</td>\n",
       "      <td>4.0</td>\n",
       "      <td>2.0</td>\n",
       "      <td>1.0</td>\n",
       "    </tr>\n",
       "  </tbody>\n",
       "</table>\n",
       "</div>"
      ],
      "text/plain": [
       "   property_id        lat         lng           addr_street       price  \\\n",
       "0      45745.0 -37.721855  145.120599  1/41 Coventry Street   7440000.0   \n",
       "1      36585.0 -37.672008  145.024414     83 Derrick Street   3285000.0   \n",
       "2      35545.0 -37.728758  145.018468       748 Plenty Road   7700000.0   \n",
       "3      88657.0 -37.950095  145.045347        22 View Street  21000000.0   \n",
       "4      19711.0 -37.678000  144.900481     33 Raleigh Street   6320000.0   \n",
       "\n",
       "  property_type    year  bedrooms  bathrooms  parking_space  \n",
       "0         house  2012.0       3.0        1.0            1.0  \n",
       "1         house  2012.0       3.0        1.0            1.0  \n",
       "2         house  2014.0       3.0        1.0            1.0  \n",
       "3         house  2016.0       4.0        2.0            2.0  \n",
       "4         house  2014.0       4.0        2.0            1.0  "
      ]
     },
     "execution_count": 4,
     "metadata": {},
     "output_type": "execute_result"
    }
   ],
   "source": [
    "# using a dictionary to store the data\n",
    "xmlDict = {}\n",
    "xmlDict['bathrooms'] = bathrooms\n",
    "xmlDict['price'] = price\n",
    "xmlDict['bedrooms'] = bedrooms\n",
    "xmlDict['parking_space'] = parking_space\n",
    "xmlDict['year'] = year\n",
    "xmlDict['lat'] = lat\n",
    "xmlDict['lng'] = lng\n",
    "xmlDict['property_type'] = property_type\n",
    "xmlDict['addr_street'] = addr_street\n",
    "xmlDict['property_id'] = property_id\n",
    "real_state_df = pd.DataFrame(xmlDict,columns=['property_id','lat','lng','addr_street','price','property_type','year','bedrooms','bathrooms','parking_space'])\n",
    "real_state_df.head()"
   ]
  },
  {
   "cell_type": "markdown",
   "metadata": {},
   "source": [
    "We check if there are any null values in the dataframe.<br><br>\n",
    "Notice that the dataset has 1009 rows but we have some columns with only 1005 of entries, indicating 4 null values."
   ]
  },
  {
   "cell_type": "code",
   "execution_count": 5,
   "metadata": {},
   "outputs": [
    {
     "name": "stdout",
     "output_type": "stream",
     "text": [
      "<class 'pandas.core.frame.DataFrame'>\n",
      "RangeIndex: 1009 entries, 0 to 1008\n",
      "Data columns (total 10 columns):\n",
      "property_id      1005 non-null float64\n",
      "lat              1005 non-null float64\n",
      "lng              1005 non-null float64\n",
      "addr_street      1009 non-null object\n",
      "price            1005 non-null float64\n",
      "property_type    1009 non-null object\n",
      "year             1005 non-null float64\n",
      "bedrooms         1005 non-null float64\n",
      "bathrooms        1005 non-null float64\n",
      "parking_space    1005 non-null float64\n",
      "dtypes: float64(8), object(2)\n",
      "memory usage: 78.9+ KB\n"
     ]
    }
   ],
   "source": [
    "real_state_df.info()"
   ]
  },
  {
   "cell_type": "markdown",
   "metadata": {},
   "source": [
    "We notice that the null values happened across all columns for the 4 rows.<br>\n",
    "Also note that some null values are captured as `nan` and not numpy `NaN`."
   ]
  },
  {
   "cell_type": "code",
   "execution_count": 6,
   "metadata": {},
   "outputs": [
    {
     "data": {
      "text/html": [
       "<div>\n",
       "<style scoped>\n",
       "    .dataframe tbody tr th:only-of-type {\n",
       "        vertical-align: middle;\n",
       "    }\n",
       "\n",
       "    .dataframe tbody tr th {\n",
       "        vertical-align: top;\n",
       "    }\n",
       "\n",
       "    .dataframe thead th {\n",
       "        text-align: right;\n",
       "    }\n",
       "</style>\n",
       "<table border=\"1\" class=\"dataframe\">\n",
       "  <thead>\n",
       "    <tr style=\"text-align: right;\">\n",
       "      <th></th>\n",
       "      <th>property_id</th>\n",
       "      <th>lat</th>\n",
       "      <th>lng</th>\n",
       "      <th>addr_street</th>\n",
       "      <th>price</th>\n",
       "      <th>property_type</th>\n",
       "      <th>year</th>\n",
       "      <th>bedrooms</th>\n",
       "      <th>bathrooms</th>\n",
       "      <th>parking_space</th>\n",
       "    </tr>\n",
       "  </thead>\n",
       "  <tbody>\n",
       "    <tr>\n",
       "      <th>136</th>\n",
       "      <td>NaN</td>\n",
       "      <td>NaN</td>\n",
       "      <td>NaN</td>\n",
       "      <td>nan</td>\n",
       "      <td>NaN</td>\n",
       "      <td>nan</td>\n",
       "      <td>NaN</td>\n",
       "      <td>NaN</td>\n",
       "      <td>NaN</td>\n",
       "      <td>NaN</td>\n",
       "    </tr>\n",
       "    <tr>\n",
       "      <th>369</th>\n",
       "      <td>NaN</td>\n",
       "      <td>NaN</td>\n",
       "      <td>NaN</td>\n",
       "      <td>nan</td>\n",
       "      <td>NaN</td>\n",
       "      <td>nan</td>\n",
       "      <td>NaN</td>\n",
       "      <td>NaN</td>\n",
       "      <td>NaN</td>\n",
       "      <td>NaN</td>\n",
       "    </tr>\n",
       "    <tr>\n",
       "      <th>402</th>\n",
       "      <td>NaN</td>\n",
       "      <td>NaN</td>\n",
       "      <td>NaN</td>\n",
       "      <td>nan</td>\n",
       "      <td>NaN</td>\n",
       "      <td>nan</td>\n",
       "      <td>NaN</td>\n",
       "      <td>NaN</td>\n",
       "      <td>NaN</td>\n",
       "      <td>NaN</td>\n",
       "    </tr>\n",
       "    <tr>\n",
       "      <th>656</th>\n",
       "      <td>NaN</td>\n",
       "      <td>NaN</td>\n",
       "      <td>NaN</td>\n",
       "      <td>nan</td>\n",
       "      <td>NaN</td>\n",
       "      <td>nan</td>\n",
       "      <td>NaN</td>\n",
       "      <td>NaN</td>\n",
       "      <td>NaN</td>\n",
       "      <td>NaN</td>\n",
       "    </tr>\n",
       "  </tbody>\n",
       "</table>\n",
       "</div>"
      ],
      "text/plain": [
       "     property_id  lat  lng addr_street  price property_type  year  bedrooms  \\\n",
       "136          NaN  NaN  NaN         nan    NaN           nan   NaN       NaN   \n",
       "369          NaN  NaN  NaN         nan    NaN           nan   NaN       NaN   \n",
       "402          NaN  NaN  NaN         nan    NaN           nan   NaN       NaN   \n",
       "656          NaN  NaN  NaN         nan    NaN           nan   NaN       NaN   \n",
       "\n",
       "     bathrooms  parking_space  \n",
       "136        NaN            NaN  \n",
       "369        NaN            NaN  \n",
       "402        NaN            NaN  \n",
       "656        NaN            NaN  "
      ]
     },
     "execution_count": 6,
     "metadata": {},
     "output_type": "execute_result"
    }
   ],
   "source": [
    "real_state_df.loc[real_state_df['property_id'].isnull(),:]"
   ]
  },
  {
   "cell_type": "markdown",
   "metadata": {},
   "source": [
    "Since they are all null throughout the columns, we remove them from the dataset."
   ]
  },
  {
   "cell_type": "code",
   "execution_count": 7,
   "metadata": {},
   "outputs": [],
   "source": [
    "# replace those in 'nan' to numpy 'NaN'\n",
    "real_state_df.replace('nan',np.NaN, inplace=True)\n",
    "# we drop these 4 rows\n",
    "real_state_df.dropna(axis=0,how='all',inplace=True)"
   ]
  },
  {
   "cell_type": "markdown",
   "metadata": {},
   "source": [
    "### A3.2 Reading in real_state.json\n",
    "Using `json` package, we parse the data in and explore the structure of the dataset.<br><br>\n",
    "Notice there are 10 keys in this file and they are the same as those in `real_state.xml` file."
   ]
  },
  {
   "cell_type": "code",
   "execution_count": 8,
   "metadata": {},
   "outputs": [
    {
     "data": {
      "text/plain": [
       "dict_keys(['property_id', 'lat', 'lng', 'addr_street', 'price', 'property_type', 'year', 'bedrooms', 'bathrooms', 'parking_space'])"
      ]
     },
     "execution_count": 8,
     "metadata": {},
     "output_type": "execute_result"
    }
   ],
   "source": [
    "with open('real_state.json') as output:\n",
    "    json_data = json.load(output)\n",
    "    \n",
    "json_data[0].keys()"
   ]
  },
  {
   "cell_type": "markdown",
   "metadata": {},
   "source": [
    "We then extract the 10 keys and their values into 10 individual list so that we can combine them into a pandas dataframe afterwhich."
   ]
  },
  {
   "cell_type": "code",
   "execution_count": 9,
   "metadata": {},
   "outputs": [],
   "source": [
    "# extract the 10 list of values under the 10 keys and store them in a dataframe\n",
    "property_id=[]\n",
    "lat=[]\n",
    "lng=[]\n",
    "addr_street=[]\n",
    "price=[]\n",
    "property_type=[]\n",
    "year=[]\n",
    "bedrooms=[]\n",
    "bathrooms=[]\n",
    "parking_space=[]\n",
    "for i in range (0,len(json_data)):\n",
    "    property_id.append(json_data[i]['property_id'])\n",
    "    lat.append(json_data[i]['lat'])\n",
    "    lng.append(json_data[i]['lng'])\n",
    "    addr_street.append(json_data[i]['addr_street'])\n",
    "    price.append(json_data[i]['price'])\n",
    "    property_type.append(json_data[i]['property_type'])\n",
    "    year.append(json_data[i]['year'])\n",
    "    bedrooms.append(json_data[i]['bedrooms'])\n",
    "    bathrooms.append(json_data[i]['bathrooms'])\n",
    "    parking_space.append(json_data[i]['parking_space'])"
   ]
  },
  {
   "cell_type": "markdown",
   "metadata": {},
   "source": [
    "With the 10 individual lists, we do the same as in Section A3.1 by combining them into a pandas dataframe through a dictionary."
   ]
  },
  {
   "cell_type": "code",
   "execution_count": 10,
   "metadata": {},
   "outputs": [
    {
     "data": {
      "text/html": [
       "<div>\n",
       "<style scoped>\n",
       "    .dataframe tbody tr th:only-of-type {\n",
       "        vertical-align: middle;\n",
       "    }\n",
       "\n",
       "    .dataframe tbody tr th {\n",
       "        vertical-align: top;\n",
       "    }\n",
       "\n",
       "    .dataframe thead th {\n",
       "        text-align: right;\n",
       "    }\n",
       "</style>\n",
       "<table border=\"1\" class=\"dataframe\">\n",
       "  <thead>\n",
       "    <tr style=\"text-align: right;\">\n",
       "      <th></th>\n",
       "      <th>property_id</th>\n",
       "      <th>lat</th>\n",
       "      <th>lng</th>\n",
       "      <th>addr_street</th>\n",
       "      <th>price</th>\n",
       "      <th>property_type</th>\n",
       "      <th>year</th>\n",
       "      <th>bedrooms</th>\n",
       "      <th>bathrooms</th>\n",
       "      <th>parking_space</th>\n",
       "    </tr>\n",
       "  </thead>\n",
       "  <tbody>\n",
       "    <tr>\n",
       "      <th>0</th>\n",
       "      <td>3132.0</td>\n",
       "      <td>-37.820307</td>\n",
       "      <td>144.880124</td>\n",
       "      <td>225 Francis Street</td>\n",
       "      <td>8472000.0</td>\n",
       "      <td>house</td>\n",
       "      <td>2014.0</td>\n",
       "      <td>4.0</td>\n",
       "      <td>2.0</td>\n",
       "      <td>2.0</td>\n",
       "    </tr>\n",
       "    <tr>\n",
       "      <th>1</th>\n",
       "      <td>15440.0</td>\n",
       "      <td>-37.725515</td>\n",
       "      <td>144.916847</td>\n",
       "      <td>66 Mascoma Street</td>\n",
       "      <td>5320000.0</td>\n",
       "      <td>house</td>\n",
       "      <td>2010.0</td>\n",
       "      <td>3.0</td>\n",
       "      <td>1.0</td>\n",
       "      <td>1.0</td>\n",
       "    </tr>\n",
       "    <tr>\n",
       "      <th>2</th>\n",
       "      <td>54582.0</td>\n",
       "      <td>-37.815360</td>\n",
       "      <td>145.035926</td>\n",
       "      <td>5 Xavier Avenue</td>\n",
       "      <td>21510000.0</td>\n",
       "      <td>house</td>\n",
       "      <td>2015.0</td>\n",
       "      <td>3.0</td>\n",
       "      <td>2.0</td>\n",
       "      <td>2.0</td>\n",
       "    </tr>\n",
       "    <tr>\n",
       "      <th>3</th>\n",
       "      <td>89228.0</td>\n",
       "      <td>-37.952620</td>\n",
       "      <td>145.005864</td>\n",
       "      <td>15 Sims Street</td>\n",
       "      <td>32480000.0</td>\n",
       "      <td>house</td>\n",
       "      <td>2013.0</td>\n",
       "      <td>5.0</td>\n",
       "      <td>3.0</td>\n",
       "      <td>2.0</td>\n",
       "    </tr>\n",
       "    <tr>\n",
       "      <th>4</th>\n",
       "      <td>22064.0</td>\n",
       "      <td>-37.746765</td>\n",
       "      <td>144.967028</td>\n",
       "      <td>16 Sheffield Street</td>\n",
       "      <td>7836000.0</td>\n",
       "      <td>house</td>\n",
       "      <td>2011.0</td>\n",
       "      <td>3.0</td>\n",
       "      <td>1.0</td>\n",
       "      <td>0.0</td>\n",
       "    </tr>\n",
       "  </tbody>\n",
       "</table>\n",
       "</div>"
      ],
      "text/plain": [
       "   property_id        lat         lng          addr_street       price  \\\n",
       "0       3132.0 -37.820307  144.880124   225 Francis Street   8472000.0   \n",
       "1      15440.0 -37.725515  144.916847    66 Mascoma Street   5320000.0   \n",
       "2      54582.0 -37.815360  145.035926      5 Xavier Avenue  21510000.0   \n",
       "3      89228.0 -37.952620  145.005864       15 Sims Street  32480000.0   \n",
       "4      22064.0 -37.746765  144.967028  16 Sheffield Street   7836000.0   \n",
       "\n",
       "  property_type    year  bedrooms  bathrooms  parking_space  \n",
       "0         house  2014.0       4.0        2.0            2.0  \n",
       "1         house  2010.0       3.0        1.0            1.0  \n",
       "2         house  2015.0       3.0        2.0            2.0  \n",
       "3         house  2013.0       5.0        3.0            2.0  \n",
       "4         house  2011.0       3.0        1.0            0.0  "
      ]
     },
     "execution_count": 10,
     "metadata": {},
     "output_type": "execute_result"
    }
   ],
   "source": [
    "# using a dictionary to store the data\n",
    "jsonDict = {}  \n",
    "jsonDict['bathrooms'] = bathrooms\n",
    "jsonDict['price'] = price\n",
    "jsonDict['bedrooms'] = bedrooms\n",
    "jsonDict['parking_space'] = parking_space\n",
    "jsonDict['year'] = year\n",
    "jsonDict['lat'] = lat\n",
    "jsonDict['lng'] = lng\n",
    "jsonDict['property_type'] = property_type\n",
    "jsonDict['addr_street'] = addr_street\n",
    "jsonDict['property_id'] = property_id\n",
    "    \n",
    "temp_df = pd.DataFrame(jsonDict,columns=['property_id','lat','lng','addr_street','price','property_type','year','bedrooms','bathrooms','parking_space'])\n",
    "temp_df.head()"
   ]
  },
  {
   "cell_type": "markdown",
   "metadata": {},
   "source": [
    "We check for null values in the dataset.<br><br>\n",
    "Notice that we have 1010 total number of rows but we only have 1006 entries for all the columns.<br>\n",
    "Hence, possibility of 4 missing values across the 10 columns."
   ]
  },
  {
   "cell_type": "code",
   "execution_count": 11,
   "metadata": {},
   "outputs": [
    {
     "name": "stdout",
     "output_type": "stream",
     "text": [
      "<class 'pandas.core.frame.DataFrame'>\n",
      "RangeIndex: 1010 entries, 0 to 1009\n",
      "Data columns (total 10 columns):\n",
      "property_id      1006 non-null float64\n",
      "lat              1006 non-null float64\n",
      "lng              1006 non-null float64\n",
      "addr_street      1006 non-null object\n",
      "price            1006 non-null float64\n",
      "property_type    1006 non-null object\n",
      "year             1006 non-null float64\n",
      "bedrooms         1006 non-null float64\n",
      "bathrooms        1006 non-null float64\n",
      "parking_space    1006 non-null float64\n",
      "dtypes: float64(8), object(2)\n",
      "memory usage: 79.0+ KB\n"
     ]
    }
   ],
   "source": [
    "temp_df.info()"
   ]
  },
  {
   "cell_type": "markdown",
   "metadata": {},
   "source": [
    "Again, the null values happened across all columns in these 4 rows.<br>\n",
    "Note that some null values are captured as `None` instead of numpy `NaN`."
   ]
  },
  {
   "cell_type": "code",
   "execution_count": 12,
   "metadata": {},
   "outputs": [
    {
     "data": {
      "text/html": [
       "<div>\n",
       "<style scoped>\n",
       "    .dataframe tbody tr th:only-of-type {\n",
       "        vertical-align: middle;\n",
       "    }\n",
       "\n",
       "    .dataframe tbody tr th {\n",
       "        vertical-align: top;\n",
       "    }\n",
       "\n",
       "    .dataframe thead th {\n",
       "        text-align: right;\n",
       "    }\n",
       "</style>\n",
       "<table border=\"1\" class=\"dataframe\">\n",
       "  <thead>\n",
       "    <tr style=\"text-align: right;\">\n",
       "      <th></th>\n",
       "      <th>property_id</th>\n",
       "      <th>lat</th>\n",
       "      <th>lng</th>\n",
       "      <th>addr_street</th>\n",
       "      <th>price</th>\n",
       "      <th>property_type</th>\n",
       "      <th>year</th>\n",
       "      <th>bedrooms</th>\n",
       "      <th>bathrooms</th>\n",
       "      <th>parking_space</th>\n",
       "    </tr>\n",
       "  </thead>\n",
       "  <tbody>\n",
       "    <tr>\n",
       "      <th>270</th>\n",
       "      <td>NaN</td>\n",
       "      <td>NaN</td>\n",
       "      <td>NaN</td>\n",
       "      <td>None</td>\n",
       "      <td>NaN</td>\n",
       "      <td>None</td>\n",
       "      <td>NaN</td>\n",
       "      <td>NaN</td>\n",
       "      <td>NaN</td>\n",
       "      <td>NaN</td>\n",
       "    </tr>\n",
       "    <tr>\n",
       "      <th>325</th>\n",
       "      <td>NaN</td>\n",
       "      <td>NaN</td>\n",
       "      <td>NaN</td>\n",
       "      <td>None</td>\n",
       "      <td>NaN</td>\n",
       "      <td>None</td>\n",
       "      <td>NaN</td>\n",
       "      <td>NaN</td>\n",
       "      <td>NaN</td>\n",
       "      <td>NaN</td>\n",
       "    </tr>\n",
       "    <tr>\n",
       "      <th>482</th>\n",
       "      <td>NaN</td>\n",
       "      <td>NaN</td>\n",
       "      <td>NaN</td>\n",
       "      <td>None</td>\n",
       "      <td>NaN</td>\n",
       "      <td>None</td>\n",
       "      <td>NaN</td>\n",
       "      <td>NaN</td>\n",
       "      <td>NaN</td>\n",
       "      <td>NaN</td>\n",
       "    </tr>\n",
       "    <tr>\n",
       "      <th>848</th>\n",
       "      <td>NaN</td>\n",
       "      <td>NaN</td>\n",
       "      <td>NaN</td>\n",
       "      <td>None</td>\n",
       "      <td>NaN</td>\n",
       "      <td>None</td>\n",
       "      <td>NaN</td>\n",
       "      <td>NaN</td>\n",
       "      <td>NaN</td>\n",
       "      <td>NaN</td>\n",
       "    </tr>\n",
       "  </tbody>\n",
       "</table>\n",
       "</div>"
      ],
      "text/plain": [
       "     property_id  lat  lng addr_street  price property_type  year  bedrooms  \\\n",
       "270          NaN  NaN  NaN        None    NaN          None   NaN       NaN   \n",
       "325          NaN  NaN  NaN        None    NaN          None   NaN       NaN   \n",
       "482          NaN  NaN  NaN        None    NaN          None   NaN       NaN   \n",
       "848          NaN  NaN  NaN        None    NaN          None   NaN       NaN   \n",
       "\n",
       "     bathrooms  parking_space  \n",
       "270        NaN            NaN  \n",
       "325        NaN            NaN  \n",
       "482        NaN            NaN  \n",
       "848        NaN            NaN  "
      ]
     },
     "execution_count": 12,
     "metadata": {},
     "output_type": "execute_result"
    }
   ],
   "source": [
    "temp_df.loc[temp_df['property_id'].isnull(),:]"
   ]
  },
  {
   "cell_type": "markdown",
   "metadata": {},
   "source": [
    "Since they are all null throughout the columns, we remove them from the dataset."
   ]
  },
  {
   "cell_type": "code",
   "execution_count": 13,
   "metadata": {},
   "outputs": [],
   "source": [
    "temp_df.dropna(axis=0,how='all',inplace=True)"
   ]
  },
  {
   "cell_type": "markdown",
   "metadata": {},
   "source": [
    "### A3.3 Integrating real_state_xml and real_state_json\n",
    "Once we have loaded both the xml and json files, we integrate both of them into a single pandas dataframe."
   ]
  },
  {
   "cell_type": "code",
   "execution_count": 14,
   "metadata": {},
   "outputs": [],
   "source": [
    "real_state_df=pd.concat([real_state_df,temp_df],ignore_index=True)"
   ]
  },
  {
   "cell_type": "markdown",
   "metadata": {},
   "source": [
    "We change the data types of the 10 columns so that we can integrate the other datasets into this dataframe in the later sections."
   ]
  },
  {
   "cell_type": "code",
   "execution_count": 15,
   "metadata": {},
   "outputs": [],
   "source": [
    "# change the data types\n",
    "real_state_df.loc[:,['property_id','price','year','bedrooms','bathrooms','parking_space']]=real_state_df.loc[:,['property_id','price','year','bedrooms','bathrooms','parking_space']].astype(np.int64)"
   ]
  },
  {
   "cell_type": "markdown",
   "metadata": {},
   "source": [
    "After data integration of two datasets, we check if there are duplicated records in `property_id` as it is supposed to be unique.\n",
    "\n",
    "Notice that there were 34 duplicated `property_id`."
   ]
  },
  {
   "cell_type": "code",
   "execution_count": 16,
   "metadata": {},
   "outputs": [
    {
     "data": {
      "text/plain": [
       "34"
      ]
     },
     "execution_count": 16,
     "metadata": {},
     "output_type": "execute_result"
    }
   ],
   "source": [
    "sum(real_state_df.property_id.duplicated())"
   ]
  },
  {
   "cell_type": "markdown",
   "metadata": {},
   "source": [
    "Looking at the first 10 records, the rows with duplicated `property_id` have the same entries in all the remaining 9 columns as well."
   ]
  },
  {
   "cell_type": "code",
   "execution_count": 17,
   "metadata": {},
   "outputs": [
    {
     "data": {
      "text/html": [
       "<div>\n",
       "<style scoped>\n",
       "    .dataframe tbody tr th:only-of-type {\n",
       "        vertical-align: middle;\n",
       "    }\n",
       "\n",
       "    .dataframe tbody tr th {\n",
       "        vertical-align: top;\n",
       "    }\n",
       "\n",
       "    .dataframe thead th {\n",
       "        text-align: right;\n",
       "    }\n",
       "</style>\n",
       "<table border=\"1\" class=\"dataframe\">\n",
       "  <thead>\n",
       "    <tr style=\"text-align: right;\">\n",
       "      <th></th>\n",
       "      <th>property_id</th>\n",
       "      <th>lat</th>\n",
       "      <th>lng</th>\n",
       "      <th>addr_street</th>\n",
       "      <th>price</th>\n",
       "      <th>property_type</th>\n",
       "      <th>year</th>\n",
       "      <th>bedrooms</th>\n",
       "      <th>bathrooms</th>\n",
       "      <th>parking_space</th>\n",
       "    </tr>\n",
       "  </thead>\n",
       "  <tbody>\n",
       "    <tr>\n",
       "      <th>1005</th>\n",
       "      <td>3132</td>\n",
       "      <td>-37.820307</td>\n",
       "      <td>144.880124</td>\n",
       "      <td>225 Francis Street</td>\n",
       "      <td>8472000</td>\n",
       "      <td>house</td>\n",
       "      <td>2014</td>\n",
       "      <td>4</td>\n",
       "      <td>2</td>\n",
       "      <td>2</td>\n",
       "    </tr>\n",
       "    <tr>\n",
       "      <th>997</th>\n",
       "      <td>3132</td>\n",
       "      <td>-37.820307</td>\n",
       "      <td>144.880124</td>\n",
       "      <td>225 Francis Street</td>\n",
       "      <td>8472000</td>\n",
       "      <td>house</td>\n",
       "      <td>2014</td>\n",
       "      <td>4</td>\n",
       "      <td>2</td>\n",
       "      <td>2</td>\n",
       "    </tr>\n",
       "    <tr>\n",
       "      <th>1980</th>\n",
       "      <td>3973</td>\n",
       "      <td>-37.818369</td>\n",
       "      <td>144.878920</td>\n",
       "      <td>94 Severn Street</td>\n",
       "      <td>14400000</td>\n",
       "      <td>house</td>\n",
       "      <td>2011</td>\n",
       "      <td>5</td>\n",
       "      <td>3</td>\n",
       "      <td>2</td>\n",
       "    </tr>\n",
       "    <tr>\n",
       "      <th>1089</th>\n",
       "      <td>3973</td>\n",
       "      <td>-37.818369</td>\n",
       "      <td>144.878920</td>\n",
       "      <td>94 Severn Street</td>\n",
       "      <td>14400000</td>\n",
       "      <td>house</td>\n",
       "      <td>2011</td>\n",
       "      <td>5</td>\n",
       "      <td>3</td>\n",
       "      <td>2</td>\n",
       "    </tr>\n",
       "    <tr>\n",
       "      <th>1650</th>\n",
       "      <td>6036</td>\n",
       "      <td>-37.783688</td>\n",
       "      <td>144.841359</td>\n",
       "      <td>107 Cornwall Road</td>\n",
       "      <td>14064000</td>\n",
       "      <td>house</td>\n",
       "      <td>2015</td>\n",
       "      <td>4</td>\n",
       "      <td>2</td>\n",
       "      <td>2</td>\n",
       "    </tr>\n",
       "    <tr>\n",
       "      <th>246</th>\n",
       "      <td>6036</td>\n",
       "      <td>-37.783688</td>\n",
       "      <td>144.841359</td>\n",
       "      <td>107 Cornwall Road</td>\n",
       "      <td>14064000</td>\n",
       "      <td>house</td>\n",
       "      <td>2015</td>\n",
       "      <td>4</td>\n",
       "      <td>2</td>\n",
       "      <td>2</td>\n",
       "    </tr>\n",
       "    <tr>\n",
       "      <th>249</th>\n",
       "      <td>10062</td>\n",
       "      <td>-37.790617</td>\n",
       "      <td>144.932319</td>\n",
       "      <td>14 Barnett Street,</td>\n",
       "      <td>9152000</td>\n",
       "      <td>house</td>\n",
       "      <td>2014</td>\n",
       "      <td>2</td>\n",
       "      <td>1</td>\n",
       "      <td>0</td>\n",
       "    </tr>\n",
       "    <tr>\n",
       "      <th>1019</th>\n",
       "      <td>10062</td>\n",
       "      <td>-37.790617</td>\n",
       "      <td>144.932319</td>\n",
       "      <td>14 Barnett Street,</td>\n",
       "      <td>9152000</td>\n",
       "      <td>house</td>\n",
       "      <td>2014</td>\n",
       "      <td>2</td>\n",
       "      <td>1</td>\n",
       "      <td>0</td>\n",
       "    </tr>\n",
       "    <tr>\n",
       "      <th>215</th>\n",
       "      <td>10497</td>\n",
       "      <td>-37.791180</td>\n",
       "      <td>144.928051</td>\n",
       "      <td>39 McCracken St</td>\n",
       "      <td>8910000</td>\n",
       "      <td>house</td>\n",
       "      <td>2011</td>\n",
       "      <td>3</td>\n",
       "      <td>1</td>\n",
       "      <td>2</td>\n",
       "    </tr>\n",
       "    <tr>\n",
       "      <th>1023</th>\n",
       "      <td>10497</td>\n",
       "      <td>-37.791180</td>\n",
       "      <td>144.928051</td>\n",
       "      <td>39 McCracken St</td>\n",
       "      <td>8910000</td>\n",
       "      <td>house</td>\n",
       "      <td>2011</td>\n",
       "      <td>3</td>\n",
       "      <td>1</td>\n",
       "      <td>2</td>\n",
       "    </tr>\n",
       "  </tbody>\n",
       "</table>\n",
       "</div>"
      ],
      "text/plain": [
       "      property_id        lat         lng         addr_street     price  \\\n",
       "1005         3132 -37.820307  144.880124  225 Francis Street   8472000   \n",
       "997          3132 -37.820307  144.880124  225 Francis Street   8472000   \n",
       "1980         3973 -37.818369  144.878920    94 Severn Street  14400000   \n",
       "1089         3973 -37.818369  144.878920    94 Severn Street  14400000   \n",
       "1650         6036 -37.783688  144.841359   107 Cornwall Road  14064000   \n",
       "246          6036 -37.783688  144.841359   107 Cornwall Road  14064000   \n",
       "249         10062 -37.790617  144.932319  14 Barnett Street,   9152000   \n",
       "1019        10062 -37.790617  144.932319  14 Barnett Street,   9152000   \n",
       "215         10497 -37.791180  144.928051     39 McCracken St   8910000   \n",
       "1023        10497 -37.791180  144.928051     39 McCracken St   8910000   \n",
       "\n",
       "     property_type  year  bedrooms  bathrooms  parking_space  \n",
       "1005         house  2014         4          2              2  \n",
       "997          house  2014         4          2              2  \n",
       "1980         house  2011         5          3              2  \n",
       "1089         house  2011         5          3              2  \n",
       "1650         house  2015         4          2              2  \n",
       "246          house  2015         4          2              2  \n",
       "249          house  2014         2          1              0  \n",
       "1019         house  2014         2          1              0  \n",
       "215          house  2011         3          1              2  \n",
       "1023         house  2011         3          1              2  "
      ]
     },
     "execution_count": 17,
     "metadata": {},
     "output_type": "execute_result"
    }
   ],
   "source": [
    "real_state_df.loc[(real_state_df.duplicated(['property_id'],keep=False)),:].sort_values('property_id').head(10)"
   ]
  },
  {
   "cell_type": "markdown",
   "metadata": {},
   "source": [
    "Hence, we remove the 34 duplicated records from the dataframe."
   ]
  },
  {
   "cell_type": "code",
   "execution_count": 18,
   "metadata": {},
   "outputs": [
    {
     "data": {
      "text/plain": [
       "(1943, 10)"
      ]
     },
     "execution_count": 18,
     "metadata": {},
     "output_type": "execute_result"
    }
   ],
   "source": [
    "# store the first index of each Id with duplicated rows\n",
    "first_duplicated_id=real_state_df.loc[(real_state_df.duplicated(['property_id'],keep=False)),:].sort_values('property_id').index.tolist()\n",
    "# drop only one of the two duplicated rows with the same Id\n",
    "real_state_df=real_state_df.drop(first_duplicated_id)\n",
    "# reset the index once again after dropping rows\n",
    "real_state_df=real_state_df.reset_index(drop=True)\n",
    "# we are working with 1943 properties (i.e. no of rows)\n",
    "real_state_df.shape"
   ]
  },
  {
   "cell_type": "markdown",
   "metadata": {},
   "source": [
    "After removing the duplicates, the integration of both datasets gives us 1943 rows and 10 columns."
   ]
  },
  {
   "cell_type": "markdown",
   "metadata": {},
   "source": [
    "## A4. Integrating hospitals.xlsx\n",
    "We are given hospitals data which is in .xlsx format and we can use it to calculate `hospital_id` and `distance_to_hospital` which are required in the final dataframe.\n",
    "\n",
    "We first read in the data.\n",
    "Since it's a .xlsx file, we need to extract the data from the right spreadsheet.<br>\n",
    "There's only one sheet in this file `Sheet1`, hence we will parse the hospitals' data in using this sheet."
   ]
  },
  {
   "cell_type": "code",
   "execution_count": 19,
   "metadata": {},
   "outputs": [
    {
     "name": "stdout",
     "output_type": "stream",
     "text": [
      "['Sheet1']\n"
     ]
    },
    {
     "data": {
      "text/html": [
       "<div>\n",
       "<style scoped>\n",
       "    .dataframe tbody tr th:only-of-type {\n",
       "        vertical-align: middle;\n",
       "    }\n",
       "\n",
       "    .dataframe tbody tr th {\n",
       "        vertical-align: top;\n",
       "    }\n",
       "\n",
       "    .dataframe thead th {\n",
       "        text-align: right;\n",
       "    }\n",
       "</style>\n",
       "<table border=\"1\" class=\"dataframe\">\n",
       "  <thead>\n",
       "    <tr style=\"text-align: right;\">\n",
       "      <th></th>\n",
       "      <th>id</th>\n",
       "      <th>lat</th>\n",
       "      <th>lng</th>\n",
       "      <th>name</th>\n",
       "    </tr>\n",
       "  </thead>\n",
       "  <tbody>\n",
       "    <tr>\n",
       "      <th>0</th>\n",
       "      <td>hospital_001</td>\n",
       "      <td>-37.990622</td>\n",
       "      <td>145.072836</td>\n",
       "      <td>Como Private Hospital</td>\n",
       "    </tr>\n",
       "    <tr>\n",
       "      <th>1</th>\n",
       "      <td>hospital_002</td>\n",
       "      <td>-37.855469</td>\n",
       "      <td>145.268183</td>\n",
       "      <td>Mountain District Private Hospital</td>\n",
       "    </tr>\n",
       "    <tr>\n",
       "      <th>2</th>\n",
       "      <td>hospital_003</td>\n",
       "      <td>-37.792230</td>\n",
       "      <td>144.889128</td>\n",
       "      <td>Western Hospital</td>\n",
       "    </tr>\n",
       "    <tr>\n",
       "      <th>3</th>\n",
       "      <td>hospital_004</td>\n",
       "      <td>-37.756042</td>\n",
       "      <td>145.061896</td>\n",
       "      <td>Mercy Hospital for Women</td>\n",
       "    </tr>\n",
       "    <tr>\n",
       "      <th>4</th>\n",
       "      <td>hospital_005</td>\n",
       "      <td>-37.760623</td>\n",
       "      <td>144.815624</td>\n",
       "      <td>Sunshine Hospital</td>\n",
       "    </tr>\n",
       "  </tbody>\n",
       "</table>\n",
       "</div>"
      ],
      "text/plain": [
       "             id        lat         lng                                name\n",
       "0  hospital_001 -37.990622  145.072836               Como Private Hospital\n",
       "1  hospital_002 -37.855469  145.268183  Mountain District Private Hospital\n",
       "2  hospital_003 -37.792230  144.889128                    Western Hospital\n",
       "3  hospital_004 -37.756042  145.061896            Mercy Hospital for Women\n",
       "4  hospital_005 -37.760623  144.815624                   Sunshine Hospital"
      ]
     },
     "execution_count": 19,
     "metadata": {},
     "output_type": "execute_result"
    }
   ],
   "source": [
    "# read in hospitals.xlsx\n",
    "temp_hospitals = pd.ExcelFile('./hospitals.xlsx')\n",
    "# explore the sheets in this xlsx file\n",
    "print(temp_hospitals.sheet_names)\n",
    "# parse 'Sheet1' into a pandas dataframe\n",
    "hospitals=temp_hospitals.parse('Sheet1')\n",
    "hospitals.head()"
   ]
  },
  {
   "cell_type": "markdown",
   "metadata": {},
   "source": [
    "Since in the hospitals data, it contains the latitude and longitude of the hospitals.<br>\n",
    "Hence we can calculate the nearest hospital to each property based on the latitude and longitude of the property.\n",
    "\n",
    "To calculate the distance, we write a function that calculate the distance in metres between two set of coordinates using the haversine formula [1]."
   ]
  },
  {
   "cell_type": "code",
   "execution_count": 20,
   "metadata": {},
   "outputs": [],
   "source": [
    "# haversine formula that calculate distance between 2 set of coordinates, obtained from reference source [1]\n",
    "from numpy import radians, cos, sin, arcsin, sqrt\n",
    "def haversine(lon1, lat1, lon2, lat2):\n",
    "    \"\"\"\n",
    "    Calculate the great circle distance between two points \n",
    "    on the earth (specified in decimal degrees)\n",
    "    \"\"\"\n",
    "    # convert decimal degrees to radians \n",
    "    lon1, lat1, lon2, lat2 = map(radians, [lon1, lat1, lon2, lat2])\n",
    "    # haversine formula \n",
    "    dlon = lon2 - lon1 \n",
    "    dlat = lat2 - lat1 \n",
    "    a = sin(dlat/2)**2 + cos(lat1) * cos(lat2) * sin(dlon/2)**2\n",
    "    c = 2 * arcsin(sqrt(a)) \n",
    "    m = 6378 * c * 1000\n",
    "    return round(m,3)"
   ]
  },
  {
   "cell_type": "markdown",
   "metadata": {},
   "source": [
    "We then write a function that first calculate all the distances between each property and all the hospitals using the `haversine` function defined earlier. Afterwhich, this function will find the nearest hospital based on the smallest distance, and return the nearest hospital's id and distance from the property to this hospital."
   ]
  },
  {
   "cell_type": "code",
   "execution_count": 21,
   "metadata": {},
   "outputs": [],
   "source": [
    "# write a function that calculate the distance from each hospital with each property's lat & lng based on haversine formula\n",
    "# and returns the hospital_id and distance that is the smallest\n",
    "def find_nearest_hospital(dataframe):\n",
    "    all_dist=[]\n",
    "    # store all the distance to each hospital in a list\n",
    "    for i in range(0,len(hospitals)):\n",
    "        all_dist.append(haversine(dataframe['lng'],dataframe['lat'],hospitals.iloc[i,2],hospitals.iloc[i,1]))\n",
    "    # find the minimum distance\n",
    "    min_dist=min(all_dist)\n",
    "    # find the hospital id with this minimum distance (i.e. the closest hospital)\n",
    "    close_hosp=hospitals.iloc[all_dist.index(min_dist),0]\n",
    "    return pd.Series([close_hosp,min_dist])"
   ]
  },
  {
   "cell_type": "markdown",
   "metadata": {},
   "source": [
    "We then apply this function `find_nearest_hospital` on the `real_state_df` dataframe and create columns `hospital_id` and `distance_to_hospital` which stores the nearest hospital id and distance from this hospital to the property."
   ]
  },
  {
   "cell_type": "code",
   "execution_count": 22,
   "metadata": {},
   "outputs": [
    {
     "data": {
      "text/html": [
       "<div>\n",
       "<style scoped>\n",
       "    .dataframe tbody tr th:only-of-type {\n",
       "        vertical-align: middle;\n",
       "    }\n",
       "\n",
       "    .dataframe tbody tr th {\n",
       "        vertical-align: top;\n",
       "    }\n",
       "\n",
       "    .dataframe thead th {\n",
       "        text-align: right;\n",
       "    }\n",
       "</style>\n",
       "<table border=\"1\" class=\"dataframe\">\n",
       "  <thead>\n",
       "    <tr style=\"text-align: right;\">\n",
       "      <th></th>\n",
       "      <th>property_id</th>\n",
       "      <th>lat</th>\n",
       "      <th>lng</th>\n",
       "      <th>addr_street</th>\n",
       "      <th>price</th>\n",
       "      <th>property_type</th>\n",
       "      <th>year</th>\n",
       "      <th>bedrooms</th>\n",
       "      <th>bathrooms</th>\n",
       "      <th>parking_space</th>\n",
       "      <th>hospital_id</th>\n",
       "      <th>distance_to_hospital</th>\n",
       "    </tr>\n",
       "  </thead>\n",
       "  <tbody>\n",
       "    <tr>\n",
       "      <th>0</th>\n",
       "      <td>45745</td>\n",
       "      <td>-37.721855</td>\n",
       "      <td>145.120599</td>\n",
       "      <td>1/41 Coventry Street</td>\n",
       "      <td>7440000</td>\n",
       "      <td>house</td>\n",
       "      <td>2012</td>\n",
       "      <td>3</td>\n",
       "      <td>1</td>\n",
       "      <td>1</td>\n",
       "      <td>hospital_075</td>\n",
       "      <td>2269</td>\n",
       "    </tr>\n",
       "    <tr>\n",
       "      <th>1</th>\n",
       "      <td>36585</td>\n",
       "      <td>-37.672008</td>\n",
       "      <td>145.024414</td>\n",
       "      <td>83 Derrick Street</td>\n",
       "      <td>3285000</td>\n",
       "      <td>house</td>\n",
       "      <td>2012</td>\n",
       "      <td>3</td>\n",
       "      <td>1</td>\n",
       "      <td>1</td>\n",
       "      <td>hospital_053</td>\n",
       "      <td>2379</td>\n",
       "    </tr>\n",
       "    <tr>\n",
       "      <th>2</th>\n",
       "      <td>35545</td>\n",
       "      <td>-37.728758</td>\n",
       "      <td>145.018468</td>\n",
       "      <td>748 Plenty Road</td>\n",
       "      <td>7700000</td>\n",
       "      <td>house</td>\n",
       "      <td>2014</td>\n",
       "      <td>3</td>\n",
       "      <td>1</td>\n",
       "      <td>1</td>\n",
       "      <td>hospital_139</td>\n",
       "      <td>2186</td>\n",
       "    </tr>\n",
       "    <tr>\n",
       "      <th>3</th>\n",
       "      <td>88657</td>\n",
       "      <td>-37.950095</td>\n",
       "      <td>145.045347</td>\n",
       "      <td>22 View Street</td>\n",
       "      <td>21000000</td>\n",
       "      <td>house</td>\n",
       "      <td>2016</td>\n",
       "      <td>4</td>\n",
       "      <td>2</td>\n",
       "      <td>2</td>\n",
       "      <td>hospital_082</td>\n",
       "      <td>1530</td>\n",
       "    </tr>\n",
       "    <tr>\n",
       "      <th>4</th>\n",
       "      <td>19711</td>\n",
       "      <td>-37.678000</td>\n",
       "      <td>144.900481</td>\n",
       "      <td>33 Raleigh Street</td>\n",
       "      <td>6320000</td>\n",
       "      <td>house</td>\n",
       "      <td>2014</td>\n",
       "      <td>4</td>\n",
       "      <td>2</td>\n",
       "      <td>1</td>\n",
       "      <td>hospital_104</td>\n",
       "      <td>3510</td>\n",
       "    </tr>\n",
       "  </tbody>\n",
       "</table>\n",
       "</div>"
      ],
      "text/plain": [
       "   property_id        lat         lng           addr_street     price  \\\n",
       "0        45745 -37.721855  145.120599  1/41 Coventry Street   7440000   \n",
       "1        36585 -37.672008  145.024414     83 Derrick Street   3285000   \n",
       "2        35545 -37.728758  145.018468       748 Plenty Road   7700000   \n",
       "3        88657 -37.950095  145.045347        22 View Street  21000000   \n",
       "4        19711 -37.678000  144.900481     33 Raleigh Street   6320000   \n",
       "\n",
       "  property_type  year  bedrooms  bathrooms  parking_space   hospital_id  \\\n",
       "0         house  2012         3          1              1  hospital_075   \n",
       "1         house  2012         3          1              1  hospital_053   \n",
       "2         house  2014         3          1              1  hospital_139   \n",
       "3         house  2016         4          2              2  hospital_082   \n",
       "4         house  2014         4          2              1  hospital_104   \n",
       "\n",
       "   distance_to_hospital  \n",
       "0                  2269  \n",
       "1                  2379  \n",
       "2                  2186  \n",
       "3                  1530  \n",
       "4                  3510  "
      ]
     },
     "execution_count": 22,
     "metadata": {},
     "output_type": "execute_result"
    }
   ],
   "source": [
    "# create column hospital_id that stores the id of the nearest hospital to the property\n",
    "real_state_df['hospital_id']=real_state_df.apply(find_nearest_hospital,axis=1)[0]\n",
    "# create column distance_to_hospital that stores the distance from the property to the nearest hospital\n",
    "real_state_df['distance_to_hospital']=np.int64(real_state_df.apply(find_nearest_hospital,axis=1)[1])\n",
    "# returns first 5 rows of the data\n",
    "real_state_df.head()"
   ]
  },
  {
   "cell_type": "markdown",
   "metadata": {},
   "source": [
    "## A5. Integrating shopingcenters.json\n",
    "We are given shopping centers data which is in .json format and we can use it to calculate `shopping_center_id` and `distance_to_sc` which are required in the final dataframe.\n",
    "\n",
    "We first read in the data and there are 3 keys in total."
   ]
  },
  {
   "cell_type": "code",
   "execution_count": 23,
   "metadata": {},
   "outputs": [
    {
     "data": {
      "text/plain": [
       "dict_keys(['sc_id', 'lat', 'lng'])"
      ]
     },
     "execution_count": 23,
     "metadata": {},
     "output_type": "execute_result"
    }
   ],
   "source": [
    "with open('shopingcenters.json') as output:\n",
    "    sc_data = json.load(output)\n",
    "    \n",
    "sc_data[0].keys()"
   ]
  },
  {
   "cell_type": "markdown",
   "metadata": {},
   "source": [
    "We create 3 list of values for each of the 3 keys and then store this 3 lists into a pandas dataframe."
   ]
  },
  {
   "cell_type": "code",
   "execution_count": 24,
   "metadata": {},
   "outputs": [
    {
     "data": {
      "text/html": [
       "<div>\n",
       "<style scoped>\n",
       "    .dataframe tbody tr th:only-of-type {\n",
       "        vertical-align: middle;\n",
       "    }\n",
       "\n",
       "    .dataframe tbody tr th {\n",
       "        vertical-align: top;\n",
       "    }\n",
       "\n",
       "    .dataframe thead th {\n",
       "        text-align: right;\n",
       "    }\n",
       "</style>\n",
       "<table border=\"1\" class=\"dataframe\">\n",
       "  <thead>\n",
       "    <tr style=\"text-align: right;\">\n",
       "      <th></th>\n",
       "      <th>sc_id</th>\n",
       "      <th>lat</th>\n",
       "      <th>lng</th>\n",
       "    </tr>\n",
       "  </thead>\n",
       "  <tbody>\n",
       "    <tr>\n",
       "      <th>0</th>\n",
       "      <td>SC_001</td>\n",
       "      <td>-37.767915</td>\n",
       "      <td>145.041790</td>\n",
       "    </tr>\n",
       "    <tr>\n",
       "      <th>1</th>\n",
       "      <td>SC_002</td>\n",
       "      <td>-37.819375</td>\n",
       "      <td>145.171472</td>\n",
       "    </tr>\n",
       "    <tr>\n",
       "      <th>2</th>\n",
       "      <td>SC_003</td>\n",
       "      <td>-37.971131</td>\n",
       "      <td>145.089065</td>\n",
       "    </tr>\n",
       "    <tr>\n",
       "      <th>3</th>\n",
       "      <td>SC_004</td>\n",
       "      <td>-35.280406</td>\n",
       "      <td>149.132550</td>\n",
       "    </tr>\n",
       "    <tr>\n",
       "      <th>4</th>\n",
       "      <td>SC_005</td>\n",
       "      <td>-37.574572</td>\n",
       "      <td>144.920452</td>\n",
       "    </tr>\n",
       "  </tbody>\n",
       "</table>\n",
       "</div>"
      ],
      "text/plain": [
       "    sc_id        lat         lng\n",
       "0  SC_001 -37.767915  145.041790\n",
       "1  SC_002 -37.819375  145.171472\n",
       "2  SC_003 -37.971131  145.089065\n",
       "3  SC_004 -35.280406  149.132550\n",
       "4  SC_005 -37.574572  144.920452"
      ]
     },
     "execution_count": 24,
     "metadata": {},
     "output_type": "execute_result"
    }
   ],
   "source": [
    "sc_id=[]\n",
    "lat=[]\n",
    "lng=[]\n",
    "for i in range (0,len(sc_data)):\n",
    "    sc_id.append(sc_data[i]['sc_id'])\n",
    "    lat.append(sc_data[i]['lat'])\n",
    "    lng.append(sc_data[i]['lng'])\n",
    "    \n",
    "scDict = {}  \n",
    "scDict['sc_id'] = sc_id\n",
    "scDict['lat'] = lat\n",
    "scDict['lng'] = lng\n",
    "    \n",
    "shoppingcenters = pd.DataFrame(scDict,columns=['sc_id','lat','lng'])\n",
    "shoppingcenters.head()"
   ]
  },
  {
   "cell_type": "markdown",
   "metadata": {},
   "source": [
    "We then write a function that first calculate all the distances between each property and all the shopping centers using the `haversine` function defined earlier in Section A4. Afterwhich, this function will find the nearest shopping center based on the smallest distance, and return the nearest shopping center's id and distance from the property to this shopping center."
   ]
  },
  {
   "cell_type": "code",
   "execution_count": 25,
   "metadata": {},
   "outputs": [],
   "source": [
    "# write a function that calculate the distance from each shopping center with each property's lat & lng based on \n",
    "# haversine formula and returns the shopping_center_id and distance that is the smallest\n",
    "def find_nearest_sc(dataframe):\n",
    "    all_dist=[]\n",
    "    # store the distances of each shopping center to the property\n",
    "    for i in range(0,len(shoppingcenters)):\n",
    "        all_dist.append(haversine(dataframe['lng'],dataframe['lat'],shoppingcenters.iloc[i,2],shoppingcenters.iloc[i,1]))\n",
    "    # find the minimum distance\n",
    "    min_dist=min(all_dist)\n",
    "    # find the shopping center id with this minimum distance (i.e. the closest shopping center)\n",
    "    close_sc=shoppingcenters.iloc[all_dist.index(min_dist),0]\n",
    "    return pd.Series([close_sc,min_dist])"
   ]
  },
  {
   "cell_type": "markdown",
   "metadata": {},
   "source": [
    "We then apply this function `find_nearest_sc` on the `real_state_df` dataframe and create columns `shopping_center_id` and `distance_to_sc` which stores the nearest shopping center id and distance from this shopping center to the property."
   ]
  },
  {
   "cell_type": "code",
   "execution_count": 26,
   "metadata": {},
   "outputs": [
    {
     "data": {
      "text/html": [
       "<div>\n",
       "<style scoped>\n",
       "    .dataframe tbody tr th:only-of-type {\n",
       "        vertical-align: middle;\n",
       "    }\n",
       "\n",
       "    .dataframe tbody tr th {\n",
       "        vertical-align: top;\n",
       "    }\n",
       "\n",
       "    .dataframe thead th {\n",
       "        text-align: right;\n",
       "    }\n",
       "</style>\n",
       "<table border=\"1\" class=\"dataframe\">\n",
       "  <thead>\n",
       "    <tr style=\"text-align: right;\">\n",
       "      <th></th>\n",
       "      <th>property_id</th>\n",
       "      <th>lat</th>\n",
       "      <th>lng</th>\n",
       "      <th>addr_street</th>\n",
       "      <th>price</th>\n",
       "      <th>property_type</th>\n",
       "      <th>year</th>\n",
       "      <th>bedrooms</th>\n",
       "      <th>bathrooms</th>\n",
       "      <th>parking_space</th>\n",
       "      <th>hospital_id</th>\n",
       "      <th>distance_to_hospital</th>\n",
       "      <th>shopping_center_id</th>\n",
       "      <th>distance_to_sc</th>\n",
       "    </tr>\n",
       "  </thead>\n",
       "  <tbody>\n",
       "    <tr>\n",
       "      <th>0</th>\n",
       "      <td>45745</td>\n",
       "      <td>-37.721855</td>\n",
       "      <td>145.120599</td>\n",
       "      <td>1/41 Coventry Street</td>\n",
       "      <td>7440000</td>\n",
       "      <td>house</td>\n",
       "      <td>2012</td>\n",
       "      <td>3</td>\n",
       "      <td>1</td>\n",
       "      <td>1</td>\n",
       "      <td>hospital_075</td>\n",
       "      <td>2269</td>\n",
       "      <td>SC_009</td>\n",
       "      <td>5490</td>\n",
       "    </tr>\n",
       "    <tr>\n",
       "      <th>1</th>\n",
       "      <td>36585</td>\n",
       "      <td>-37.672008</td>\n",
       "      <td>145.024414</td>\n",
       "      <td>83 Derrick Street</td>\n",
       "      <td>3285000</td>\n",
       "      <td>house</td>\n",
       "      <td>2012</td>\n",
       "      <td>3</td>\n",
       "      <td>1</td>\n",
       "      <td>1</td>\n",
       "      <td>hospital_053</td>\n",
       "      <td>2379</td>\n",
       "      <td>SC_062</td>\n",
       "      <td>5839</td>\n",
       "    </tr>\n",
       "    <tr>\n",
       "      <th>2</th>\n",
       "      <td>35545</td>\n",
       "      <td>-37.728758</td>\n",
       "      <td>145.018468</td>\n",
       "      <td>748 Plenty Road</td>\n",
       "      <td>7700000</td>\n",
       "      <td>house</td>\n",
       "      <td>2014</td>\n",
       "      <td>3</td>\n",
       "      <td>1</td>\n",
       "      <td>1</td>\n",
       "      <td>hospital_139</td>\n",
       "      <td>2186</td>\n",
       "      <td>SC_047</td>\n",
       "      <td>1508</td>\n",
       "    </tr>\n",
       "    <tr>\n",
       "      <th>3</th>\n",
       "      <td>88657</td>\n",
       "      <td>-37.950095</td>\n",
       "      <td>145.045347</td>\n",
       "      <td>22 View Street</td>\n",
       "      <td>21000000</td>\n",
       "      <td>house</td>\n",
       "      <td>2016</td>\n",
       "      <td>4</td>\n",
       "      <td>2</td>\n",
       "      <td>2</td>\n",
       "      <td>hospital_082</td>\n",
       "      <td>1530</td>\n",
       "      <td>SC_079</td>\n",
       "      <td>390</td>\n",
       "    </tr>\n",
       "    <tr>\n",
       "      <th>4</th>\n",
       "      <td>19711</td>\n",
       "      <td>-37.678000</td>\n",
       "      <td>144.900481</td>\n",
       "      <td>33 Raleigh Street</td>\n",
       "      <td>6320000</td>\n",
       "      <td>house</td>\n",
       "      <td>2014</td>\n",
       "      <td>4</td>\n",
       "      <td>2</td>\n",
       "      <td>1</td>\n",
       "      <td>hospital_104</td>\n",
       "      <td>3510</td>\n",
       "      <td>SC_059</td>\n",
       "      <td>1778</td>\n",
       "    </tr>\n",
       "  </tbody>\n",
       "</table>\n",
       "</div>"
      ],
      "text/plain": [
       "   property_id        lat         lng           addr_street     price  \\\n",
       "0        45745 -37.721855  145.120599  1/41 Coventry Street   7440000   \n",
       "1        36585 -37.672008  145.024414     83 Derrick Street   3285000   \n",
       "2        35545 -37.728758  145.018468       748 Plenty Road   7700000   \n",
       "3        88657 -37.950095  145.045347        22 View Street  21000000   \n",
       "4        19711 -37.678000  144.900481     33 Raleigh Street   6320000   \n",
       "\n",
       "  property_type  year  bedrooms  bathrooms  parking_space   hospital_id  \\\n",
       "0         house  2012         3          1              1  hospital_075   \n",
       "1         house  2012         3          1              1  hospital_053   \n",
       "2         house  2014         3          1              1  hospital_139   \n",
       "3         house  2016         4          2              2  hospital_082   \n",
       "4         house  2014         4          2              1  hospital_104   \n",
       "\n",
       "   distance_to_hospital shopping_center_id  distance_to_sc  \n",
       "0                  2269             SC_009            5490  \n",
       "1                  2379             SC_062            5839  \n",
       "2                  2186             SC_047            1508  \n",
       "3                  1530             SC_079             390  \n",
       "4                  3510             SC_059            1778  "
      ]
     },
     "execution_count": 26,
     "metadata": {},
     "output_type": "execute_result"
    }
   ],
   "source": [
    "# create column shopping_center_id that stores the id of the nearest shopping center to the property\n",
    "real_state_df['shopping_center_id']=real_state_df.apply(find_nearest_sc,axis=1)[0]\n",
    "# create column distance_to_sc that stores the distance from the property to the nearest shopping center\n",
    "real_state_df['distance_to_sc']=np.int64(real_state_df.apply(find_nearest_sc,axis=1)[1])\n",
    "# returns first 5 rows of the dataframe\n",
    "real_state_df.head()"
   ]
  },
  {
   "cell_type": "markdown",
   "metadata": {},
   "source": [
    "## A6. Integrating supermarkets.html\n",
    "We are given supermarkets data which is in .html format and we can use it to calculate `supermarket_id` and `distance_to_supermaket` which are required in the final dataframe.\n",
    "\n",
    "We read in the data using `pd.read_html` function."
   ]
  },
  {
   "cell_type": "code",
   "execution_count": 27,
   "metadata": {},
   "outputs": [
    {
     "data": {
      "text/html": [
       "<div>\n",
       "<style scoped>\n",
       "    .dataframe tbody tr th:only-of-type {\n",
       "        vertical-align: middle;\n",
       "    }\n",
       "\n",
       "    .dataframe tbody tr th {\n",
       "        vertical-align: top;\n",
       "    }\n",
       "\n",
       "    .dataframe thead th {\n",
       "        text-align: right;\n",
       "    }\n",
       "</style>\n",
       "<table border=\"1\" class=\"dataframe\">\n",
       "  <thead>\n",
       "    <tr style=\"text-align: right;\">\n",
       "      <th></th>\n",
       "      <th>Unnamed: 0</th>\n",
       "      <th>id</th>\n",
       "      <th>lat</th>\n",
       "      <th>lng</th>\n",
       "      <th>type</th>\n",
       "    </tr>\n",
       "  </thead>\n",
       "  <tbody>\n",
       "    <tr>\n",
       "      <th>0</th>\n",
       "      <td>0</td>\n",
       "      <td>S_001</td>\n",
       "      <td>-37.883978</td>\n",
       "      <td>144.735287</td>\n",
       "      <td>Woolworths</td>\n",
       "    </tr>\n",
       "    <tr>\n",
       "      <th>1</th>\n",
       "      <td>1</td>\n",
       "      <td>S_002</td>\n",
       "      <td>-41.161591</td>\n",
       "      <td>147.514797</td>\n",
       "      <td>Woolworths</td>\n",
       "    </tr>\n",
       "    <tr>\n",
       "      <th>2</th>\n",
       "      <td>2</td>\n",
       "      <td>S_003</td>\n",
       "      <td>-37.984078</td>\n",
       "      <td>145.077167</td>\n",
       "      <td>Woolworths</td>\n",
       "    </tr>\n",
       "    <tr>\n",
       "      <th>3</th>\n",
       "      <td>3</td>\n",
       "      <td>S_004</td>\n",
       "      <td>-37.707023</td>\n",
       "      <td>144.938740</td>\n",
       "      <td>Woolworths</td>\n",
       "    </tr>\n",
       "    <tr>\n",
       "      <th>4</th>\n",
       "      <td>4</td>\n",
       "      <td>S_005</td>\n",
       "      <td>-37.597670</td>\n",
       "      <td>144.938413</td>\n",
       "      <td>Woolworths</td>\n",
       "    </tr>\n",
       "  </tbody>\n",
       "</table>\n",
       "</div>"
      ],
      "text/plain": [
       "   Unnamed: 0     id        lat         lng        type\n",
       "0           0  S_001 -37.883978  144.735287  Woolworths\n",
       "1           1  S_002 -41.161591  147.514797  Woolworths\n",
       "2           2  S_003 -37.984078  145.077167  Woolworths\n",
       "3           3  S_004 -37.707023  144.938740  Woolworths\n",
       "4           4  S_005 -37.597670  144.938413  Woolworths"
      ]
     },
     "execution_count": 27,
     "metadata": {},
     "output_type": "execute_result"
    }
   ],
   "source": [
    "sm_data = pd.read_html(\"file:./supermarkets.html\",index_col=None)\n",
    "supermarkets=sm_data[0]\n",
    "supermarkets.head()"
   ]
  },
  {
   "cell_type": "markdown",
   "metadata": {},
   "source": [
    "We drop the first column since it's not useful in our integration."
   ]
  },
  {
   "cell_type": "code",
   "execution_count": 28,
   "metadata": {},
   "outputs": [
    {
     "data": {
      "text/html": [
       "<div>\n",
       "<style scoped>\n",
       "    .dataframe tbody tr th:only-of-type {\n",
       "        vertical-align: middle;\n",
       "    }\n",
       "\n",
       "    .dataframe tbody tr th {\n",
       "        vertical-align: top;\n",
       "    }\n",
       "\n",
       "    .dataframe thead th {\n",
       "        text-align: right;\n",
       "    }\n",
       "</style>\n",
       "<table border=\"1\" class=\"dataframe\">\n",
       "  <thead>\n",
       "    <tr style=\"text-align: right;\">\n",
       "      <th></th>\n",
       "      <th>id</th>\n",
       "      <th>lat</th>\n",
       "      <th>lng</th>\n",
       "      <th>type</th>\n",
       "    </tr>\n",
       "  </thead>\n",
       "  <tbody>\n",
       "    <tr>\n",
       "      <th>0</th>\n",
       "      <td>S_001</td>\n",
       "      <td>-37.883978</td>\n",
       "      <td>144.735287</td>\n",
       "      <td>Woolworths</td>\n",
       "    </tr>\n",
       "    <tr>\n",
       "      <th>1</th>\n",
       "      <td>S_002</td>\n",
       "      <td>-41.161591</td>\n",
       "      <td>147.514797</td>\n",
       "      <td>Woolworths</td>\n",
       "    </tr>\n",
       "    <tr>\n",
       "      <th>2</th>\n",
       "      <td>S_003</td>\n",
       "      <td>-37.984078</td>\n",
       "      <td>145.077167</td>\n",
       "      <td>Woolworths</td>\n",
       "    </tr>\n",
       "    <tr>\n",
       "      <th>3</th>\n",
       "      <td>S_004</td>\n",
       "      <td>-37.707023</td>\n",
       "      <td>144.938740</td>\n",
       "      <td>Woolworths</td>\n",
       "    </tr>\n",
       "    <tr>\n",
       "      <th>4</th>\n",
       "      <td>S_005</td>\n",
       "      <td>-37.597670</td>\n",
       "      <td>144.938413</td>\n",
       "      <td>Woolworths</td>\n",
       "    </tr>\n",
       "  </tbody>\n",
       "</table>\n",
       "</div>"
      ],
      "text/plain": [
       "      id        lat         lng        type\n",
       "0  S_001 -37.883978  144.735287  Woolworths\n",
       "1  S_002 -41.161591  147.514797  Woolworths\n",
       "2  S_003 -37.984078  145.077167  Woolworths\n",
       "3  S_004 -37.707023  144.938740  Woolworths\n",
       "4  S_005 -37.597670  144.938413  Woolworths"
      ]
     },
     "execution_count": 28,
     "metadata": {},
     "output_type": "execute_result"
    }
   ],
   "source": [
    "# drop the first column\n",
    "supermarkets=supermarkets.drop(['Unnamed: 0'],axis=1)\n",
    "supermarkets.head()"
   ]
  },
  {
   "cell_type": "markdown",
   "metadata": {},
   "source": [
    "We then write a function that first calculate all the distances between each property and all the supermarkets using the `haversine` function defined earlier in Section A4. Afterwhich, this function will find the nearest supermarket based on the smallest distance, and return the nearest supermarket's id and distance from the property to this supermarket."
   ]
  },
  {
   "cell_type": "code",
   "execution_count": 29,
   "metadata": {},
   "outputs": [],
   "source": [
    "# write a function that calculate the distance from each supermarket with each property's lat & lng based on \n",
    "# haversine formula and returns the supermarket_id and distance that is the smallest\n",
    "def find_nearest_super(dataframe):\n",
    "    all_dist=[]\n",
    "    # store the distances of each supermarket to the property\n",
    "    for i in range(0,len(supermarkets)):\n",
    "        all_dist.append(haversine(dataframe['lng'],dataframe['lat'],supermarkets.iloc[i,2],supermarkets.iloc[i,1]))\n",
    "    # find the minimum distance\n",
    "    min_dist=min(all_dist)\n",
    "    # find the supermarket id with this minimum distance (i.e. the closest supermarket)\n",
    "    close_super=supermarkets.iloc[all_dist.index(min_dist),0]\n",
    "    return pd.Series([close_super,min_dist])"
   ]
  },
  {
   "cell_type": "markdown",
   "metadata": {},
   "source": [
    "We then apply this function `find_nearest_super` on the `real_state_df` dataframe and create columns `supermarket_id` and `distance_to_supermaket` which stores the nearest supermarket id and distance from this supermarket to the property."
   ]
  },
  {
   "cell_type": "code",
   "execution_count": 30,
   "metadata": {},
   "outputs": [
    {
     "data": {
      "text/html": [
       "<div>\n",
       "<style scoped>\n",
       "    .dataframe tbody tr th:only-of-type {\n",
       "        vertical-align: middle;\n",
       "    }\n",
       "\n",
       "    .dataframe tbody tr th {\n",
       "        vertical-align: top;\n",
       "    }\n",
       "\n",
       "    .dataframe thead th {\n",
       "        text-align: right;\n",
       "    }\n",
       "</style>\n",
       "<table border=\"1\" class=\"dataframe\">\n",
       "  <thead>\n",
       "    <tr style=\"text-align: right;\">\n",
       "      <th></th>\n",
       "      <th>property_id</th>\n",
       "      <th>lat</th>\n",
       "      <th>lng</th>\n",
       "      <th>addr_street</th>\n",
       "      <th>price</th>\n",
       "      <th>property_type</th>\n",
       "      <th>year</th>\n",
       "      <th>bedrooms</th>\n",
       "      <th>bathrooms</th>\n",
       "      <th>parking_space</th>\n",
       "      <th>hospital_id</th>\n",
       "      <th>distance_to_hospital</th>\n",
       "      <th>shopping_center_id</th>\n",
       "      <th>distance_to_sc</th>\n",
       "      <th>supermarket_id</th>\n",
       "      <th>distance_to_supermaket</th>\n",
       "    </tr>\n",
       "  </thead>\n",
       "  <tbody>\n",
       "    <tr>\n",
       "      <th>0</th>\n",
       "      <td>45745</td>\n",
       "      <td>-37.721855</td>\n",
       "      <td>145.120599</td>\n",
       "      <td>1/41 Coventry Street</td>\n",
       "      <td>7440000</td>\n",
       "      <td>house</td>\n",
       "      <td>2012</td>\n",
       "      <td>3</td>\n",
       "      <td>1</td>\n",
       "      <td>1</td>\n",
       "      <td>hospital_075</td>\n",
       "      <td>2269</td>\n",
       "      <td>SC_009</td>\n",
       "      <td>5490</td>\n",
       "      <td>S_210</td>\n",
       "      <td>2622</td>\n",
       "    </tr>\n",
       "    <tr>\n",
       "      <th>1</th>\n",
       "      <td>36585</td>\n",
       "      <td>-37.672008</td>\n",
       "      <td>145.024414</td>\n",
       "      <td>83 Derrick Street</td>\n",
       "      <td>3285000</td>\n",
       "      <td>house</td>\n",
       "      <td>2012</td>\n",
       "      <td>3</td>\n",
       "      <td>1</td>\n",
       "      <td>1</td>\n",
       "      <td>hospital_053</td>\n",
       "      <td>2379</td>\n",
       "      <td>SC_062</td>\n",
       "      <td>5839</td>\n",
       "      <td>S_228</td>\n",
       "      <td>658</td>\n",
       "    </tr>\n",
       "    <tr>\n",
       "      <th>2</th>\n",
       "      <td>35545</td>\n",
       "      <td>-37.728758</td>\n",
       "      <td>145.018468</td>\n",
       "      <td>748 Plenty Road</td>\n",
       "      <td>7700000</td>\n",
       "      <td>house</td>\n",
       "      <td>2014</td>\n",
       "      <td>3</td>\n",
       "      <td>1</td>\n",
       "      <td>1</td>\n",
       "      <td>hospital_139</td>\n",
       "      <td>2186</td>\n",
       "      <td>SC_047</td>\n",
       "      <td>1508</td>\n",
       "      <td>S_225</td>\n",
       "      <td>999</td>\n",
       "    </tr>\n",
       "    <tr>\n",
       "      <th>3</th>\n",
       "      <td>88657</td>\n",
       "      <td>-37.950095</td>\n",
       "      <td>145.045347</td>\n",
       "      <td>22 View Street</td>\n",
       "      <td>21000000</td>\n",
       "      <td>house</td>\n",
       "      <td>2016</td>\n",
       "      <td>4</td>\n",
       "      <td>2</td>\n",
       "      <td>2</td>\n",
       "      <td>hospital_082</td>\n",
       "      <td>1530</td>\n",
       "      <td>SC_079</td>\n",
       "      <td>390</td>\n",
       "      <td>S_069</td>\n",
       "      <td>390</td>\n",
       "    </tr>\n",
       "    <tr>\n",
       "      <th>4</th>\n",
       "      <td>19711</td>\n",
       "      <td>-37.678000</td>\n",
       "      <td>144.900481</td>\n",
       "      <td>33 Raleigh Street</td>\n",
       "      <td>6320000</td>\n",
       "      <td>house</td>\n",
       "      <td>2014</td>\n",
       "      <td>4</td>\n",
       "      <td>2</td>\n",
       "      <td>1</td>\n",
       "      <td>hospital_104</td>\n",
       "      <td>3510</td>\n",
       "      <td>SC_059</td>\n",
       "      <td>1778</td>\n",
       "      <td>S_153</td>\n",
       "      <td>1865</td>\n",
       "    </tr>\n",
       "  </tbody>\n",
       "</table>\n",
       "</div>"
      ],
      "text/plain": [
       "   property_id        lat         lng           addr_street     price  \\\n",
       "0        45745 -37.721855  145.120599  1/41 Coventry Street   7440000   \n",
       "1        36585 -37.672008  145.024414     83 Derrick Street   3285000   \n",
       "2        35545 -37.728758  145.018468       748 Plenty Road   7700000   \n",
       "3        88657 -37.950095  145.045347        22 View Street  21000000   \n",
       "4        19711 -37.678000  144.900481     33 Raleigh Street   6320000   \n",
       "\n",
       "  property_type  year  bedrooms  bathrooms  parking_space   hospital_id  \\\n",
       "0         house  2012         3          1              1  hospital_075   \n",
       "1         house  2012         3          1              1  hospital_053   \n",
       "2         house  2014         3          1              1  hospital_139   \n",
       "3         house  2016         4          2              2  hospital_082   \n",
       "4         house  2014         4          2              1  hospital_104   \n",
       "\n",
       "   distance_to_hospital shopping_center_id  distance_to_sc supermarket_id  \\\n",
       "0                  2269             SC_009            5490          S_210   \n",
       "1                  2379             SC_062            5839          S_228   \n",
       "2                  2186             SC_047            1508          S_225   \n",
       "3                  1530             SC_079             390          S_069   \n",
       "4                  3510             SC_059            1778          S_153   \n",
       "\n",
       "   distance_to_supermaket  \n",
       "0                    2622  \n",
       "1                     658  \n",
       "2                     999  \n",
       "3                     390  \n",
       "4                    1865  "
      ]
     },
     "execution_count": 30,
     "metadata": {},
     "output_type": "execute_result"
    }
   ],
   "source": [
    "# create column supermarket_id that stores the id of the nearest supermarket to the property\n",
    "real_state_df['supermarket_id']=real_state_df.apply(find_nearest_super,axis=1)[0]\n",
    "# create column distance_to_supermarket that stores the distance from the property to the nearest supermarket\n",
    "real_state_df['distance_to_supermaket']=np.int64(real_state_df.apply(find_nearest_super,axis=1)[1])\n",
    "# returns first 5 rows of the dataframe\n",
    "real_state_df.head()"
   ]
  },
  {
   "cell_type": "markdown",
   "metadata": {},
   "source": [
    "## A7. Integrating GTFS Melbourne Train data\n",
    "We are given a set of GTFS Melbourne Train data in which we can use to calculate the columns `train_station_id`, `distance_to_train_station`,` travel_min_to_CBD` and `transfer_flag` which are required in the final dataframe.\n",
    "\n",
    "We first read in `stops.txt` file."
   ]
  },
  {
   "cell_type": "code",
   "execution_count": 31,
   "metadata": {},
   "outputs": [
    {
     "data": {
      "text/html": [
       "<div>\n",
       "<style scoped>\n",
       "    .dataframe tbody tr th:only-of-type {\n",
       "        vertical-align: middle;\n",
       "    }\n",
       "\n",
       "    .dataframe tbody tr th {\n",
       "        vertical-align: top;\n",
       "    }\n",
       "\n",
       "    .dataframe thead th {\n",
       "        text-align: right;\n",
       "    }\n",
       "</style>\n",
       "<table border=\"1\" class=\"dataframe\">\n",
       "  <thead>\n",
       "    <tr style=\"text-align: right;\">\n",
       "      <th></th>\n",
       "      <th>stop_id</th>\n",
       "      <th>stop_name</th>\n",
       "      <th>stop_short_name</th>\n",
       "      <th>stop_lat</th>\n",
       "      <th>stop_lon</th>\n",
       "    </tr>\n",
       "  </thead>\n",
       "  <tbody>\n",
       "    <tr>\n",
       "      <th>0</th>\n",
       "      <td>15351</td>\n",
       "      <td>Sunbury Railway Station</td>\n",
       "      <td>Sunbury</td>\n",
       "      <td>-37.579091</td>\n",
       "      <td>144.727319</td>\n",
       "    </tr>\n",
       "    <tr>\n",
       "      <th>1</th>\n",
       "      <td>15353</td>\n",
       "      <td>Diggers Rest Railway Station</td>\n",
       "      <td>Diggers Rest</td>\n",
       "      <td>-37.627017</td>\n",
       "      <td>144.719922</td>\n",
       "    </tr>\n",
       "    <tr>\n",
       "      <th>2</th>\n",
       "      <td>19827</td>\n",
       "      <td>Stony Point Railway Station</td>\n",
       "      <td>Crib Point</td>\n",
       "      <td>-38.374235</td>\n",
       "      <td>145.221837</td>\n",
       "    </tr>\n",
       "    <tr>\n",
       "      <th>3</th>\n",
       "      <td>19828</td>\n",
       "      <td>Crib Point Railway Station</td>\n",
       "      <td>Crib Point</td>\n",
       "      <td>-38.366123</td>\n",
       "      <td>145.204043</td>\n",
       "    </tr>\n",
       "    <tr>\n",
       "      <th>4</th>\n",
       "      <td>19829</td>\n",
       "      <td>Morradoo Railway Station</td>\n",
       "      <td>Crib Point</td>\n",
       "      <td>-38.354033</td>\n",
       "      <td>145.189602</td>\n",
       "    </tr>\n",
       "  </tbody>\n",
       "</table>\n",
       "</div>"
      ],
      "text/plain": [
       "   stop_id                     stop_name stop_short_name   stop_lat  \\\n",
       "0    15351       Sunbury Railway Station         Sunbury -37.579091   \n",
       "1    15353  Diggers Rest Railway Station    Diggers Rest -37.627017   \n",
       "2    19827   Stony Point Railway Station      Crib Point -38.374235   \n",
       "3    19828    Crib Point Railway Station      Crib Point -38.366123   \n",
       "4    19829      Morradoo Railway Station      Crib Point -38.354033   \n",
       "\n",
       "     stop_lon  \n",
       "0  144.727319  \n",
       "1  144.719922  \n",
       "2  145.221837  \n",
       "3  145.204043  \n",
       "4  145.189602  "
      ]
     },
     "execution_count": 31,
     "metadata": {},
     "output_type": "execute_result"
    }
   ],
   "source": [
    "stops = pd.read_csv(\"./stops.txt\", sep=\",\")\n",
    "stops.head()"
   ]
  },
  {
   "cell_type": "markdown",
   "metadata": {},
   "source": [
    "We then write a function that first calculate all the distances between each property and all the stops using the `haversine` function defined earlier in Section A4. Afterwhich, this function will find the nearest train station based on the smallest distance, and return the nearest stop id and distance from the property to this train station."
   ]
  },
  {
   "cell_type": "code",
   "execution_count": 32,
   "metadata": {},
   "outputs": [],
   "source": [
    "# write a function that calculate the distance from each train stops with each property's lat & lng based on \n",
    "# haversine formula and returns the stop_id and distance that is the smallest\n",
    "def find_nearest_train(dataframe):\n",
    "    all_dist=[]\n",
    "    # store the distances of each train station to the property\n",
    "    for i in range(0,len(stops)):\n",
    "        all_dist.append(haversine(dataframe['lng'],dataframe['lat'],stops.iloc[i,4],stops.iloc[i,3]))\n",
    "    # find the minimum distance\n",
    "    min_dist=min(all_dist)\n",
    "    # find the stop id with this minimum distance (i.e. the closest train station)\n",
    "    close_train=stops.iloc[all_dist.index(min_dist),0]\n",
    "    return pd.Series([close_train,min_dist])"
   ]
  },
  {
   "cell_type": "markdown",
   "metadata": {},
   "source": [
    "We then apply this function `find_nearest_train` on the `real_state_df` dataframe and create columns `train_station_id` and `distance_to_train_station` which stores the nearest train station id and distance from this train station to the property."
   ]
  },
  {
   "cell_type": "code",
   "execution_count": 33,
   "metadata": {},
   "outputs": [
    {
     "data": {
      "text/html": [
       "<div>\n",
       "<style scoped>\n",
       "    .dataframe tbody tr th:only-of-type {\n",
       "        vertical-align: middle;\n",
       "    }\n",
       "\n",
       "    .dataframe tbody tr th {\n",
       "        vertical-align: top;\n",
       "    }\n",
       "\n",
       "    .dataframe thead th {\n",
       "        text-align: right;\n",
       "    }\n",
       "</style>\n",
       "<table border=\"1\" class=\"dataframe\">\n",
       "  <thead>\n",
       "    <tr style=\"text-align: right;\">\n",
       "      <th></th>\n",
       "      <th>property_id</th>\n",
       "      <th>lat</th>\n",
       "      <th>lng</th>\n",
       "      <th>addr_street</th>\n",
       "      <th>price</th>\n",
       "      <th>property_type</th>\n",
       "      <th>year</th>\n",
       "      <th>bedrooms</th>\n",
       "      <th>bathrooms</th>\n",
       "      <th>parking_space</th>\n",
       "      <th>hospital_id</th>\n",
       "      <th>distance_to_hospital</th>\n",
       "      <th>shopping_center_id</th>\n",
       "      <th>distance_to_sc</th>\n",
       "      <th>supermarket_id</th>\n",
       "      <th>distance_to_supermaket</th>\n",
       "      <th>train_station_id</th>\n",
       "      <th>distance_to_train_station</th>\n",
       "    </tr>\n",
       "  </thead>\n",
       "  <tbody>\n",
       "    <tr>\n",
       "      <th>0</th>\n",
       "      <td>45745</td>\n",
       "      <td>-37.721855</td>\n",
       "      <td>145.120599</td>\n",
       "      <td>1/41 Coventry Street</td>\n",
       "      <td>7440000</td>\n",
       "      <td>house</td>\n",
       "      <td>2012</td>\n",
       "      <td>3</td>\n",
       "      <td>1</td>\n",
       "      <td>1</td>\n",
       "      <td>hospital_075</td>\n",
       "      <td>2269</td>\n",
       "      <td>SC_009</td>\n",
       "      <td>5490</td>\n",
       "      <td>S_210</td>\n",
       "      <td>2622</td>\n",
       "      <td>19986</td>\n",
       "      <td>734</td>\n",
       "    </tr>\n",
       "    <tr>\n",
       "      <th>1</th>\n",
       "      <td>36585</td>\n",
       "      <td>-37.672008</td>\n",
       "      <td>145.024414</td>\n",
       "      <td>83 Derrick Street</td>\n",
       "      <td>3285000</td>\n",
       "      <td>house</td>\n",
       "      <td>2012</td>\n",
       "      <td>3</td>\n",
       "      <td>1</td>\n",
       "      <td>1</td>\n",
       "      <td>hospital_053</td>\n",
       "      <td>2379</td>\n",
       "      <td>SC_062</td>\n",
       "      <td>5839</td>\n",
       "      <td>S_228</td>\n",
       "      <td>658</td>\n",
       "      <td>20006</td>\n",
       "      <td>935</td>\n",
       "    </tr>\n",
       "    <tr>\n",
       "      <th>2</th>\n",
       "      <td>35545</td>\n",
       "      <td>-37.728758</td>\n",
       "      <td>145.018468</td>\n",
       "      <td>748 Plenty Road</td>\n",
       "      <td>7700000</td>\n",
       "      <td>house</td>\n",
       "      <td>2014</td>\n",
       "      <td>3</td>\n",
       "      <td>1</td>\n",
       "      <td>1</td>\n",
       "      <td>hospital_139</td>\n",
       "      <td>2186</td>\n",
       "      <td>SC_047</td>\n",
       "      <td>1508</td>\n",
       "      <td>S_225</td>\n",
       "      <td>999</td>\n",
       "      <td>20011</td>\n",
       "      <td>1382</td>\n",
       "    </tr>\n",
       "    <tr>\n",
       "      <th>3</th>\n",
       "      <td>88657</td>\n",
       "      <td>-37.950095</td>\n",
       "      <td>145.045347</td>\n",
       "      <td>22 View Street</td>\n",
       "      <td>21000000</td>\n",
       "      <td>house</td>\n",
       "      <td>2016</td>\n",
       "      <td>4</td>\n",
       "      <td>2</td>\n",
       "      <td>2</td>\n",
       "      <td>hospital_082</td>\n",
       "      <td>1530</td>\n",
       "      <td>SC_079</td>\n",
       "      <td>390</td>\n",
       "      <td>S_069</td>\n",
       "      <td>390</td>\n",
       "      <td>19872</td>\n",
       "      <td>357</td>\n",
       "    </tr>\n",
       "    <tr>\n",
       "      <th>4</th>\n",
       "      <td>19711</td>\n",
       "      <td>-37.678000</td>\n",
       "      <td>144.900481</td>\n",
       "      <td>33 Raleigh Street</td>\n",
       "      <td>6320000</td>\n",
       "      <td>house</td>\n",
       "      <td>2014</td>\n",
       "      <td>4</td>\n",
       "      <td>2</td>\n",
       "      <td>1</td>\n",
       "      <td>hospital_104</td>\n",
       "      <td>3510</td>\n",
       "      <td>SC_059</td>\n",
       "      <td>1778</td>\n",
       "      <td>S_153</td>\n",
       "      <td>1865</td>\n",
       "      <td>20030</td>\n",
       "      <td>1776</td>\n",
       "    </tr>\n",
       "  </tbody>\n",
       "</table>\n",
       "</div>"
      ],
      "text/plain": [
       "   property_id        lat         lng           addr_street     price  \\\n",
       "0        45745 -37.721855  145.120599  1/41 Coventry Street   7440000   \n",
       "1        36585 -37.672008  145.024414     83 Derrick Street   3285000   \n",
       "2        35545 -37.728758  145.018468       748 Plenty Road   7700000   \n",
       "3        88657 -37.950095  145.045347        22 View Street  21000000   \n",
       "4        19711 -37.678000  144.900481     33 Raleigh Street   6320000   \n",
       "\n",
       "  property_type  year  bedrooms  bathrooms  parking_space   hospital_id  \\\n",
       "0         house  2012         3          1              1  hospital_075   \n",
       "1         house  2012         3          1              1  hospital_053   \n",
       "2         house  2014         3          1              1  hospital_139   \n",
       "3         house  2016         4          2              2  hospital_082   \n",
       "4         house  2014         4          2              1  hospital_104   \n",
       "\n",
       "   distance_to_hospital shopping_center_id  distance_to_sc supermarket_id  \\\n",
       "0                  2269             SC_009            5490          S_210   \n",
       "1                  2379             SC_062            5839          S_228   \n",
       "2                  2186             SC_047            1508          S_225   \n",
       "3                  1530             SC_079             390          S_069   \n",
       "4                  3510             SC_059            1778          S_153   \n",
       "\n",
       "   distance_to_supermaket  train_station_id  distance_to_train_station  \n",
       "0                    2622             19986                        734  \n",
       "1                     658             20006                        935  \n",
       "2                     999             20011                       1382  \n",
       "3                     390             19872                        357  \n",
       "4                    1865             20030                       1776  "
      ]
     },
     "execution_count": 33,
     "metadata": {},
     "output_type": "execute_result"
    }
   ],
   "source": [
    "# create column train_station_id that stores the id of the nearest train station to the property\n",
    "real_state_df['train_station_id']=np.int64(real_state_df.apply(find_nearest_train,axis=1)[0])\n",
    "# create column distance_to_train_station that stores the distance from the property to the nearest train station\n",
    "real_state_df['distance_to_train_station']=np.int64(real_state_df.apply(find_nearest_train,axis=1)[1])\n",
    "# returns first 5 rows of dataframe\n",
    "real_state_df.head()"
   ]
  },
  {
   "cell_type": "markdown",
   "metadata": {},
   "source": [
    "To calculate columns `travel_min_to_CBD` and `transfer_flag`, we need to find out for each property, whether there are any direct/indirect trip to Flinders Street on weekdays from 7am to 9am.\n",
    "\n",
    "We first find out which `stop_id` does Flinders Street Railway Station belongs to.<br><br>\n",
    "The `stop_id` is <b>19854</b>."
   ]
  },
  {
   "cell_type": "code",
   "execution_count": 34,
   "metadata": {},
   "outputs": [
    {
     "data": {
      "text/html": [
       "<div>\n",
       "<style scoped>\n",
       "    .dataframe tbody tr th:only-of-type {\n",
       "        vertical-align: middle;\n",
       "    }\n",
       "\n",
       "    .dataframe tbody tr th {\n",
       "        vertical-align: top;\n",
       "    }\n",
       "\n",
       "    .dataframe thead th {\n",
       "        text-align: right;\n",
       "    }\n",
       "</style>\n",
       "<table border=\"1\" class=\"dataframe\">\n",
       "  <thead>\n",
       "    <tr style=\"text-align: right;\">\n",
       "      <th></th>\n",
       "      <th>stop_id</th>\n",
       "      <th>stop_name</th>\n",
       "      <th>stop_short_name</th>\n",
       "      <th>stop_lat</th>\n",
       "      <th>stop_lon</th>\n",
       "    </tr>\n",
       "  </thead>\n",
       "  <tbody>\n",
       "    <tr>\n",
       "      <th>29</th>\n",
       "      <td>19854</td>\n",
       "      <td>Flinders Street Railway Station</td>\n",
       "      <td>Melbourne City</td>\n",
       "      <td>-37.818305</td>\n",
       "      <td>144.966964</td>\n",
       "    </tr>\n",
       "  </tbody>\n",
       "</table>\n",
       "</div>"
      ],
      "text/plain": [
       "    stop_id                        stop_name stop_short_name   stop_lat  \\\n",
       "29    19854  Flinders Street Railway Station  Melbourne City -37.818305   \n",
       "\n",
       "      stop_lon  \n",
       "29  144.966964  "
      ]
     },
     "execution_count": 34,
     "metadata": {},
     "output_type": "execute_result"
    }
   ],
   "source": [
    "stops.loc[stops.stop_name==\"Flinders Street Railway Station\",:]"
   ]
  },
  {
   "cell_type": "markdown",
   "metadata": {},
   "source": [
    "We then read in `calender.txt` file and filter those services that only runs on all of Mondays to Fridays.<br><br>\n",
    "There is only one service that runs on all of the weekdays and it's <b>T0</b>."
   ]
  },
  {
   "cell_type": "code",
   "execution_count": 35,
   "metadata": {},
   "outputs": [
    {
     "data": {
      "text/html": [
       "<div>\n",
       "<style scoped>\n",
       "    .dataframe tbody tr th:only-of-type {\n",
       "        vertical-align: middle;\n",
       "    }\n",
       "\n",
       "    .dataframe tbody tr th {\n",
       "        vertical-align: top;\n",
       "    }\n",
       "\n",
       "    .dataframe thead th {\n",
       "        text-align: right;\n",
       "    }\n",
       "</style>\n",
       "<table border=\"1\" class=\"dataframe\">\n",
       "  <thead>\n",
       "    <tr style=\"text-align: right;\">\n",
       "      <th></th>\n",
       "      <th>service_id</th>\n",
       "      <th>monday</th>\n",
       "      <th>tuesday</th>\n",
       "      <th>wednesday</th>\n",
       "      <th>thursday</th>\n",
       "      <th>friday</th>\n",
       "      <th>saturday</th>\n",
       "      <th>sunday</th>\n",
       "      <th>start_date</th>\n",
       "      <th>end_date</th>\n",
       "    </tr>\n",
       "  </thead>\n",
       "  <tbody>\n",
       "    <tr>\n",
       "      <th>0</th>\n",
       "      <td>T0</td>\n",
       "      <td>1</td>\n",
       "      <td>1</td>\n",
       "      <td>1</td>\n",
       "      <td>1</td>\n",
       "      <td>1</td>\n",
       "      <td>0</td>\n",
       "      <td>0</td>\n",
       "      <td>20151023</td>\n",
       "      <td>20151122</td>\n",
       "    </tr>\n",
       "  </tbody>\n",
       "</table>\n",
       "</div>"
      ],
      "text/plain": [
       "  service_id  monday  tuesday  wednesday  thursday  friday  saturday  sunday  \\\n",
       "0         T0       1        1          1         1       1         0       0   \n",
       "\n",
       "   start_date  end_date  \n",
       "0    20151023  20151122  "
      ]
     },
     "execution_count": 35,
     "metadata": {},
     "output_type": "execute_result"
    }
   ],
   "source": [
    "# read in calendar.txt\n",
    "calendar = pd.read_csv(\"./calendar.txt\", sep=\",\")\n",
    "# we extract those that only have services from the whole of monday to friday\n",
    "calendar = calendar[(calendar.monday!=0)&(calendar.tuesday!=0)&(calendar.wednesday!=0)&(calendar.thursday!=0)&(calendar.friday!=0)]\n",
    "# reset index once we remove rows\n",
    "calendar = calendar.reset_index(drop=True)\n",
    "# store the service_id in a list\n",
    "weekday_service = calendar['service_id'].tolist()\n",
    "calendar.head()"
   ]
  },
  {
   "cell_type": "markdown",
   "metadata": {},
   "source": [
    "We then read in `trips.txt` file and filter the trips to those that only run on weekdays based on the `service_id` of <b>T0</b> which we found before this."
   ]
  },
  {
   "cell_type": "code",
   "execution_count": 36,
   "metadata": {},
   "outputs": [
    {
     "data": {
      "text/html": [
       "<div>\n",
       "<style scoped>\n",
       "    .dataframe tbody tr th:only-of-type {\n",
       "        vertical-align: middle;\n",
       "    }\n",
       "\n",
       "    .dataframe tbody tr th {\n",
       "        vertical-align: top;\n",
       "    }\n",
       "\n",
       "    .dataframe thead th {\n",
       "        text-align: right;\n",
       "    }\n",
       "</style>\n",
       "<table border=\"1\" class=\"dataframe\">\n",
       "  <thead>\n",
       "    <tr style=\"text-align: right;\">\n",
       "      <th></th>\n",
       "      <th>route_id</th>\n",
       "      <th>service_id</th>\n",
       "      <th>trip_id</th>\n",
       "      <th>shape_id</th>\n",
       "      <th>trip_headsign</th>\n",
       "      <th>direction_id</th>\n",
       "    </tr>\n",
       "  </thead>\n",
       "  <tbody>\n",
       "    <tr>\n",
       "      <th>0</th>\n",
       "      <td>2-ALM-F-mjp-1</td>\n",
       "      <td>T0</td>\n",
       "      <td>17067982.T0.2-ALM-F-mjp-1.1.H</td>\n",
       "      <td>2-ALM-F-mjp-1.1.H</td>\n",
       "      <td>City (Flinders Street)</td>\n",
       "      <td>0</td>\n",
       "    </tr>\n",
       "    <tr>\n",
       "      <th>1</th>\n",
       "      <td>2-ALM-F-mjp-1</td>\n",
       "      <td>T0</td>\n",
       "      <td>17067988.T0.2-ALM-F-mjp-1.1.H</td>\n",
       "      <td>2-ALM-F-mjp-1.1.H</td>\n",
       "      <td>City (Flinders Street)</td>\n",
       "      <td>0</td>\n",
       "    </tr>\n",
       "    <tr>\n",
       "      <th>2</th>\n",
       "      <td>2-ALM-F-mjp-1</td>\n",
       "      <td>T0</td>\n",
       "      <td>17067992.T0.2-ALM-F-mjp-1.1.H</td>\n",
       "      <td>2-ALM-F-mjp-1.1.H</td>\n",
       "      <td>City (Flinders Street)</td>\n",
       "      <td>0</td>\n",
       "    </tr>\n",
       "    <tr>\n",
       "      <th>3</th>\n",
       "      <td>2-ALM-F-mjp-1</td>\n",
       "      <td>T0</td>\n",
       "      <td>17067999.T0.2-ALM-F-mjp-1.1.H</td>\n",
       "      <td>2-ALM-F-mjp-1.1.H</td>\n",
       "      <td>City (Flinders Street)</td>\n",
       "      <td>0</td>\n",
       "    </tr>\n",
       "    <tr>\n",
       "      <th>4</th>\n",
       "      <td>2-ALM-F-mjp-1</td>\n",
       "      <td>T0</td>\n",
       "      <td>17068003.T0.2-ALM-F-mjp-1.1.H</td>\n",
       "      <td>2-ALM-F-mjp-1.1.H</td>\n",
       "      <td>City (Flinders Street)</td>\n",
       "      <td>0</td>\n",
       "    </tr>\n",
       "  </tbody>\n",
       "</table>\n",
       "</div>"
      ],
      "text/plain": [
       "        route_id service_id                        trip_id           shape_id  \\\n",
       "0  2-ALM-F-mjp-1         T0  17067982.T0.2-ALM-F-mjp-1.1.H  2-ALM-F-mjp-1.1.H   \n",
       "1  2-ALM-F-mjp-1         T0  17067988.T0.2-ALM-F-mjp-1.1.H  2-ALM-F-mjp-1.1.H   \n",
       "2  2-ALM-F-mjp-1         T0  17067992.T0.2-ALM-F-mjp-1.1.H  2-ALM-F-mjp-1.1.H   \n",
       "3  2-ALM-F-mjp-1         T0  17067999.T0.2-ALM-F-mjp-1.1.H  2-ALM-F-mjp-1.1.H   \n",
       "4  2-ALM-F-mjp-1         T0  17068003.T0.2-ALM-F-mjp-1.1.H  2-ALM-F-mjp-1.1.H   \n",
       "\n",
       "            trip_headsign  direction_id  \n",
       "0  City (Flinders Street)             0  \n",
       "1  City (Flinders Street)             0  \n",
       "2  City (Flinders Street)             0  \n",
       "3  City (Flinders Street)             0  \n",
       "4  City (Flinders Street)             0  "
      ]
     },
     "execution_count": 36,
     "metadata": {},
     "output_type": "execute_result"
    }
   ],
   "source": [
    "# read in trips.txt\n",
    "trips = pd.read_csv(\"./trips.txt\", sep=\",\")\n",
    "# filter the trips with only weekday services based on weekday_service extracted from calendar\n",
    "trips = trips[trips['service_id'].isin(weekday_service)]\n",
    "# reset index\n",
    "trips = trips.reset_index(drop=True)\n",
    "# store the trip_id in a list\n",
    "weekday_trips = trips['trip_id'].tolist()\n",
    "trips.head()"
   ]
  },
  {
   "cell_type": "markdown",
   "metadata": {},
   "source": [
    "We then read in `stop_times.txt` and filter the trips that are between 7am to 11am. \n",
    "Filtering to 11am instead of 9am as we want to give buffer time for a train that departs before 9am at some station but still reaches Flinders after 9am.<br>\n",
    "Afterwhich, we further filter the trips in this dataset to those that runs on weekdays."
   ]
  },
  {
   "cell_type": "code",
   "execution_count": 37,
   "metadata": {},
   "outputs": [
    {
     "data": {
      "text/html": [
       "<div>\n",
       "<style scoped>\n",
       "    .dataframe tbody tr th:only-of-type {\n",
       "        vertical-align: middle;\n",
       "    }\n",
       "\n",
       "    .dataframe tbody tr th {\n",
       "        vertical-align: top;\n",
       "    }\n",
       "\n",
       "    .dataframe thead th {\n",
       "        text-align: right;\n",
       "    }\n",
       "</style>\n",
       "<table border=\"1\" class=\"dataframe\">\n",
       "  <thead>\n",
       "    <tr style=\"text-align: right;\">\n",
       "      <th></th>\n",
       "      <th>trip_id</th>\n",
       "      <th>arrival_time</th>\n",
       "      <th>departure_time</th>\n",
       "      <th>stop_id</th>\n",
       "      <th>stop_sequence</th>\n",
       "      <th>stop_headsign</th>\n",
       "      <th>pickup_type</th>\n",
       "      <th>drop_off_type</th>\n",
       "      <th>shape_dist_traveled</th>\n",
       "    </tr>\n",
       "  </thead>\n",
       "  <tbody>\n",
       "    <tr>\n",
       "      <th>11923</th>\n",
       "      <td>17071159.T0.2-WMN-F-mjp-1.4.R</td>\n",
       "      <td>09:09:00</td>\n",
       "      <td>09:09:00</td>\n",
       "      <td>19995</td>\n",
       "      <td>8</td>\n",
       "      <td>NaN</td>\n",
       "      <td>0</td>\n",
       "      <td>0</td>\n",
       "      <td>10620.454476</td>\n",
       "    </tr>\n",
       "    <tr>\n",
       "      <th>11924</th>\n",
       "      <td>17071159.T0.2-WMN-F-mjp-1.4.R</td>\n",
       "      <td>09:11:00</td>\n",
       "      <td>09:11:00</td>\n",
       "      <td>19994</td>\n",
       "      <td>9</td>\n",
       "      <td>NaN</td>\n",
       "      <td>0</td>\n",
       "      <td>0</td>\n",
       "      <td>11980.940113</td>\n",
       "    </tr>\n",
       "    <tr>\n",
       "      <th>11925</th>\n",
       "      <td>17071159.T0.2-WMN-F-mjp-1.4.R</td>\n",
       "      <td>09:13:00</td>\n",
       "      <td>09:13:00</td>\n",
       "      <td>19993</td>\n",
       "      <td>10</td>\n",
       "      <td>NaN</td>\n",
       "      <td>0</td>\n",
       "      <td>0</td>\n",
       "      <td>13683.494873</td>\n",
       "    </tr>\n",
       "    <tr>\n",
       "      <th>11926</th>\n",
       "      <td>17071159.T0.2-WMN-F-mjp-1.4.R</td>\n",
       "      <td>09:15:00</td>\n",
       "      <td>09:15:00</td>\n",
       "      <td>19992</td>\n",
       "      <td>11</td>\n",
       "      <td>NaN</td>\n",
       "      <td>0</td>\n",
       "      <td>0</td>\n",
       "      <td>14579.679025</td>\n",
       "    </tr>\n",
       "    <tr>\n",
       "      <th>11927</th>\n",
       "      <td>17071159.T0.2-WMN-F-mjp-1.4.R</td>\n",
       "      <td>09:21:00</td>\n",
       "      <td>09:21:00</td>\n",
       "      <td>19991</td>\n",
       "      <td>12</td>\n",
       "      <td>NaN</td>\n",
       "      <td>0</td>\n",
       "      <td>0</td>\n",
       "      <td>15622.751535</td>\n",
       "    </tr>\n",
       "  </tbody>\n",
       "</table>\n",
       "</div>"
      ],
      "text/plain": [
       "                             trip_id arrival_time departure_time  stop_id  \\\n",
       "11923  17071159.T0.2-WMN-F-mjp-1.4.R     09:09:00       09:09:00    19995   \n",
       "11924  17071159.T0.2-WMN-F-mjp-1.4.R     09:11:00       09:11:00    19994   \n",
       "11925  17071159.T0.2-WMN-F-mjp-1.4.R     09:13:00       09:13:00    19993   \n",
       "11926  17071159.T0.2-WMN-F-mjp-1.4.R     09:15:00       09:15:00    19992   \n",
       "11927  17071159.T0.2-WMN-F-mjp-1.4.R     09:21:00       09:21:00    19991   \n",
       "\n",
       "       stop_sequence  stop_headsign  pickup_type  drop_off_type  \\\n",
       "11923              8            NaN            0              0   \n",
       "11924              9            NaN            0              0   \n",
       "11925             10            NaN            0              0   \n",
       "11926             11            NaN            0              0   \n",
       "11927             12            NaN            0              0   \n",
       "\n",
       "       shape_dist_traveled  \n",
       "11923         10620.454476  \n",
       "11924         11980.940113  \n",
       "11925         13683.494873  \n",
       "11926         14579.679025  \n",
       "11927         15622.751535  "
      ]
     },
     "execution_count": 37,
     "metadata": {},
     "output_type": "execute_result"
    }
   ],
   "source": [
    "# read in stop_times.txt\n",
    "stop_times = pd.read_csv(\"./stop_times.txt\", sep=\",\")\n",
    "# convert departure_time and arrival_time to datetime format\n",
    "stop_times.departure_time = stop_times.departure_time.astype(dt.datetime)\n",
    "stop_times.arrival_time = stop_times.arrival_time.astype(dt.datetime)\n",
    "# filter those with departure time between 07:00:00 to 11:00:00\n",
    "# 11:00:00 as we want give buffer time for a train that departs before 9am at some station but still reaches Flinders after 9am\n",
    "stop_times = stop_times.loc[((stop_times.departure_time>=\"07:00:00\")&(stop_times.departure_time<=\"11:00:00\")),:]\n",
    "# filter trip_id to those on weekdays only\n",
    "stop_times = stop_times.loc[(stop_times.trip_id.isin(weekday_trips)),:]\n",
    "# reset index\n",
    "stop_times = stop_times.reset_index(drop=True)\n",
    "# return last 5 rows of the dataframe\n",
    "stop_times.tail()"
   ]
  },
  {
   "cell_type": "markdown",
   "metadata": {},
   "source": [
    "We first write a function that converts a timestring to minutes."
   ]
  },
  {
   "cell_type": "code",
   "execution_count": 38,
   "metadata": {},
   "outputs": [],
   "source": [
    "# create a function to convert a timestamp in string to minutes\n",
    "def time_to_min(timestamp):\n",
    "    [h,m,s]=timestamp.split(':')\n",
    "    return (int(h)*60)+int(m)+(int(s)/60)"
   ]
  },
  {
   "cell_type": "markdown",
   "metadata": {},
   "source": [
    "We then store in a list all the trips that goes to Flinders Street Railway Station during weekdays and with service between 7am to 11am."
   ]
  },
  {
   "cell_type": "code",
   "execution_count": 39,
   "metadata": {},
   "outputs": [],
   "source": [
    "# based on the stop_times dataframe, find those trip_id that contains 19854 as they are the city trains\n",
    "city_trips=stop_times.loc[stop_times.stop_id==19854,'trip_id'].tolist()"
   ]
  },
  {
   "cell_type": "markdown",
   "metadata": {},
   "source": [
    "We then write a function that first store all the trips a particular station belongs to, and loop through this trips and compare with the list of trips that goes to Flinders Street stored in list `city_trips`. Once a trip is found in the `city_trips`, we further check if the `stop_sequence` at this particular station comes before `stop_sequence` of Flinders Street Railway Station as we only want capture trips that goes to the city and not from the city to this station. Another check is also done to ensure the `departure_time` at this particular station is before 9am as earlier on, we filtered our data based on 7am to 11am instead. <br><br>\n",
    "Once all these checks are cleared, we will add this trips into a list and storing their travel time by using the difference between `departure_time` at this particular station and `arrival_time` at Flinders Street Railway Station. This function will then return `transfer_flag` as 0 if there are any trips found which indicate there's a direct trip to Flinders Street from this particular station and 1 if there are no direct trip found. <br>The `travel_min_to_CBD` is also returned for those with `transfer_flag` 0."
   ]
  },
  {
   "cell_type": "code",
   "execution_count": 40,
   "metadata": {},
   "outputs": [],
   "source": [
    "# function to find transfer_flag and average travel time to CBD\n",
    "def find_flag(station_id):\n",
    "    station_city_trips=[]\n",
    "    travel_time=[]\n",
    "    # store all trips that contain this particular station in a list\n",
    "    station_trips=stop_times.loc[stop_times.stop_id==station_id,'trip_id'].tolist()\n",
    "    # loop through these trips and compare with the city_trips, if trip is in city_trips, it means there is a direct train\n",
    "    for each in station_trips:\n",
    "        if each in city_trips:\n",
    "            # ensure this trip departs this station before 9am (i.e. 540 minutes)\n",
    "            if (time_to_min(stop_times.loc[(stop_times.trip_id==each)&(stop_times.stop_id==station_id),'departure_time'].tolist()[0]))<=540:\n",
    "                # ensure that the stop_sequence of this station comes before Flinders\n",
    "                if (stop_times.loc[(stop_times.stop_id==19854)&(stop_times.trip_id==each),'stop_sequence'].tolist()[0])>\\\n",
    "                (stop_times.loc[(stop_times.stop_id==station_id)&(stop_times.trip_id==each),'stop_sequence'].tolist()[0]):\n",
    "                    station_city_trips.append(each)\n",
    "                    # add the travel time to list by using departure time from this station - arrival time in Flinders\n",
    "                    travel_time.append(time_to_min(stop_times.loc[(stop_times.trip_id==each)&(stop_times.stop_id==19854),'arrival_time'].tolist()[0])- \\\n",
    "                               time_to_min(stop_times.loc[(stop_times.trip_id==each)&(stop_times.stop_id==station_id),'departure_time'].tolist()[0]))\n",
    "    \n",
    "    # if there are any direct trip to Flinders, transfer_flag is 0 and compute avg travel time\n",
    "    if len(station_city_trips)>0:\n",
    "        transfer_flag=0\n",
    "        avg_travel_time=sum(travel_time)/len(travel_time)\n",
    "    # if there are no direct trip to Flinders, transfer_flag is 1 and we set avg travel time as 0 first\n",
    "    else:\n",
    "        transfer_flag=1\n",
    "        avg_travel_time=0\n",
    "    \n",
    "    return pd.Series([transfer_flag,avg_travel_time])"
   ]
  },
  {
   "cell_type": "markdown",
   "metadata": {},
   "source": [
    "We then apply this function `find_flag` on the `real_state_df` dataframe and create columns `transfer_flag` and `travel_min_to_CBD` which stores the transfer flag if there are direct trip to Flinders Street Railway Station and the average travel time in minutes from the closest train station of the property to Flinders Street Railway Station."
   ]
  },
  {
   "cell_type": "code",
   "execution_count": 41,
   "metadata": {},
   "outputs": [
    {
     "data": {
      "text/plain": [
       "0    1939\n",
       "1       4\n",
       "Name: transfer_flag, dtype: int64"
      ]
     },
     "execution_count": 41,
     "metadata": {},
     "output_type": "execute_result"
    }
   ],
   "source": [
    "# create transfer_flag column based on output of find_flag function\n",
    "real_state_df['transfer_flag']=np.int64(real_state_df.train_station_id.apply(find_flag)[0])\n",
    "# create travel_min_to_CBD column based on output of find_flag function\n",
    "real_state_df['travel_min_to_CBD']=np.int64(real_state_df.train_station_id.apply(find_flag)[1])\n",
    "# there are 4 properties with no direct train to Flinders\n",
    "real_state_df.transfer_flag.value_counts()"
   ]
  },
  {
   "cell_type": "markdown",
   "metadata": {},
   "source": [
    "There are a total of 4 properties whereby there are no direct train to Flinders Street Railway Station based on the nearest train station to these properties.<br><br>\n",
    "If we explore these 4 rows, they all belonged to the same station of id <b>20027</b> which belongs to <b>Flemington Racecourse Railway Station</b>."
   ]
  },
  {
   "cell_type": "code",
   "execution_count": 42,
   "metadata": {},
   "outputs": [
    {
     "data": {
      "text/html": [
       "<div>\n",
       "<style scoped>\n",
       "    .dataframe tbody tr th:only-of-type {\n",
       "        vertical-align: middle;\n",
       "    }\n",
       "\n",
       "    .dataframe tbody tr th {\n",
       "        vertical-align: top;\n",
       "    }\n",
       "\n",
       "    .dataframe thead th {\n",
       "        text-align: right;\n",
       "    }\n",
       "</style>\n",
       "<table border=\"1\" class=\"dataframe\">\n",
       "  <thead>\n",
       "    <tr style=\"text-align: right;\">\n",
       "      <th></th>\n",
       "      <th>stop_id</th>\n",
       "      <th>stop_name</th>\n",
       "      <th>stop_short_name</th>\n",
       "      <th>stop_lat</th>\n",
       "      <th>stop_lon</th>\n",
       "    </tr>\n",
       "  </thead>\n",
       "  <tbody>\n",
       "    <tr>\n",
       "      <th>195</th>\n",
       "      <td>20027</td>\n",
       "      <td>Flemington Racecourse Railway Station</td>\n",
       "      <td>Flemington</td>\n",
       "      <td>-37.787202</td>\n",
       "      <td>144.907589</td>\n",
       "    </tr>\n",
       "  </tbody>\n",
       "</table>\n",
       "</div>"
      ],
      "text/plain": [
       "     stop_id                              stop_name stop_short_name  \\\n",
       "195    20027  Flemington Racecourse Railway Station      Flemington   \n",
       "\n",
       "      stop_lat    stop_lon  \n",
       "195 -37.787202  144.907589  "
      ]
     },
     "execution_count": 42,
     "metadata": {},
     "output_type": "execute_result"
    }
   ],
   "source": [
    "# belongs to one train station of 20027\n",
    "real_state_df.loc[real_state_df.transfer_flag==1,:]\n",
    "# we know stop_id of 20027 belongs to Flemington Racecourse Railway Station\n",
    "stops.loc[stops.stop_id==20027,:]"
   ]
  },
  {
   "cell_type": "markdown",
   "metadata": {},
   "source": [
    "For this 4 rows, we are suppose to find the next nearest train station that has a direct trip to Flinders Street Railway Station.\n",
    "\n",
    "We first store all the train stations that has direct trip to Flinders Street in a list."
   ]
  },
  {
   "cell_type": "code",
   "execution_count": 43,
   "metadata": {},
   "outputs": [],
   "source": [
    "# using city_trips which contain all trips that goes to city, we get the list of station_ids that's part of these trips\n",
    "# i.e. these station_ids are those with direct trip to Flinders\n",
    "direct_stations=[]\n",
    "# loop through all trips that contains flinders street railway station (i.e. 19854)\n",
    "for trip in city_trips:\n",
    "    temp_stops=stop_times.loc[stop_times.trip_id==trip,'stop_id'].tolist()\n",
    "    for each in temp_stops:\n",
    "        if each not in direct_stations:\n",
    "            direct_stations.append(each)"
   ]
  },
  {
   "cell_type": "markdown",
   "metadata": {},
   "source": [
    "Afterwhich, we edit the function `find_nearest_train` to find the next nearest train station that has direct trip to Flinders Street. We first find the first 5 nearest stations from the property and for each of this station, we compare them with the list of all stations that has a direct trip to Flinders Street based on `direct_stations` found above. Once we find a station that has a direct trip to Flinders Street, this function will then return this station id and the distance of this station to the property."
   ]
  },
  {
   "cell_type": "code",
   "execution_count": 44,
   "metadata": {},
   "outputs": [],
   "source": [
    "def find_next_nearest_train(dataframe):\n",
    "    all_dist=[]\n",
    "    close_5_train=[]\n",
    "    # store the distances of each train station to the property\n",
    "    for i in range(0,len(stops)):\n",
    "        all_dist.append(haversine(dataframe.lng,dataframe.lat,stops.iloc[i,4],stops.iloc[i,3]))\n",
    "    # find the first 5 smallest distance\n",
    "    temp_dist=sorted(all_dist)[0:5]\n",
    "    # find the stop id that belongs to each of the 5 smallest distance\n",
    "    for each in temp_dist:\n",
    "        close_5_train.append(stops.iloc[all_dist.index(each),0])\n",
    "    # we then compare each of the 5 smallest train station from the smallest to the largest with the list of all station_ids\n",
    "    # that has direct trip to Flinders based on direct_stations, and return the first station_id that is found in the list\n",
    "    # i.e. the nearest train station that has direct trip to Flinders\n",
    "    for i in range(0,len(close_5_train)):\n",
    "        if close_5_train[i] in direct_stations:\n",
    "            next_station = close_5_train[i]\n",
    "            new_distance = temp_dist[i]\n",
    "            break\n",
    "    \n",
    "    return pd.Series([next_station,new_distance])"
   ]
  },
  {
   "cell_type": "markdown",
   "metadata": {},
   "source": [
    "We apply this function `find_next_nearest_train` on the `real_state_df` dataframe of the 4 rows with `transfer_flag` 1 and recalculate it's `travel_min_to_CBD` based on `find_flag` function. We also replace the `train_station_id` and `distance_to_train_station` to the new station which is the next nearest train station with a direct trip to Flinders Street Railway Station and the new distance to this new station."
   ]
  },
  {
   "cell_type": "code",
   "execution_count": 45,
   "metadata": {},
   "outputs": [
    {
     "data": {
      "text/html": [
       "<div>\n",
       "<style scoped>\n",
       "    .dataframe tbody tr th:only-of-type {\n",
       "        vertical-align: middle;\n",
       "    }\n",
       "\n",
       "    .dataframe tbody tr th {\n",
       "        vertical-align: top;\n",
       "    }\n",
       "\n",
       "    .dataframe thead th {\n",
       "        text-align: right;\n",
       "    }\n",
       "</style>\n",
       "<table border=\"1\" class=\"dataframe\">\n",
       "  <thead>\n",
       "    <tr style=\"text-align: right;\">\n",
       "      <th></th>\n",
       "      <th>property_id</th>\n",
       "      <th>lat</th>\n",
       "      <th>lng</th>\n",
       "      <th>addr_street</th>\n",
       "      <th>price</th>\n",
       "      <th>property_type</th>\n",
       "      <th>year</th>\n",
       "      <th>bedrooms</th>\n",
       "      <th>bathrooms</th>\n",
       "      <th>parking_space</th>\n",
       "      <th>hospital_id</th>\n",
       "      <th>distance_to_hospital</th>\n",
       "      <th>shopping_center_id</th>\n",
       "      <th>distance_to_sc</th>\n",
       "      <th>supermarket_id</th>\n",
       "      <th>distance_to_supermaket</th>\n",
       "      <th>train_station_id</th>\n",
       "      <th>distance_to_train_station</th>\n",
       "      <th>transfer_flag</th>\n",
       "      <th>travel_min_to_CBD</th>\n",
       "    </tr>\n",
       "  </thead>\n",
       "  <tbody>\n",
       "    <tr>\n",
       "      <th>336</th>\n",
       "      <td>2060</td>\n",
       "      <td>-37.777848</td>\n",
       "      <td>144.880095</td>\n",
       "      <td>25 Smith Street</td>\n",
       "      <td>6650000</td>\n",
       "      <td>house</td>\n",
       "      <td>2015</td>\n",
       "      <td>2</td>\n",
       "      <td>1</td>\n",
       "      <td>2</td>\n",
       "      <td>hospital_056</td>\n",
       "      <td>1784</td>\n",
       "      <td>SC_052</td>\n",
       "      <td>755</td>\n",
       "      <td>S_049</td>\n",
       "      <td>956</td>\n",
       "      <td>20023</td>\n",
       "      <td>2706</td>\n",
       "      <td>1</td>\n",
       "      <td>19</td>\n",
       "    </tr>\n",
       "    <tr>\n",
       "      <th>903</th>\n",
       "      <td>227</td>\n",
       "      <td>-37.787785</td>\n",
       "      <td>144.890379</td>\n",
       "      <td>11/3 Gordon Street</td>\n",
       "      <td>4800000</td>\n",
       "      <td>house</td>\n",
       "      <td>2009</td>\n",
       "      <td>1</td>\n",
       "      <td>1</td>\n",
       "      <td>2</td>\n",
       "      <td>hospital_003</td>\n",
       "      <td>506</td>\n",
       "      <td>SC_085</td>\n",
       "      <td>1599</td>\n",
       "      <td>S_201</td>\n",
       "      <td>1591</td>\n",
       "      <td>20023</td>\n",
       "      <td>1623</td>\n",
       "      <td>1</td>\n",
       "      <td>19</td>\n",
       "    </tr>\n",
       "    <tr>\n",
       "      <th>937</th>\n",
       "      <td>11075</td>\n",
       "      <td>-37.770573</td>\n",
       "      <td>144.875660</td>\n",
       "      <td>11 Sandpiper Grove</td>\n",
       "      <td>14560000</td>\n",
       "      <td>house</td>\n",
       "      <td>2015</td>\n",
       "      <td>4</td>\n",
       "      <td>3</td>\n",
       "      <td>2</td>\n",
       "      <td>hospital_056</td>\n",
       "      <td>2676</td>\n",
       "      <td>SC_052</td>\n",
       "      <td>925</td>\n",
       "      <td>S_131</td>\n",
       "      <td>1136</td>\n",
       "      <td>20022</td>\n",
       "      <td>3382</td>\n",
       "      <td>1</td>\n",
       "      <td>21</td>\n",
       "    </tr>\n",
       "    <tr>\n",
       "      <th>1067</th>\n",
       "      <td>11345</td>\n",
       "      <td>-37.783875</td>\n",
       "      <td>144.885387</td>\n",
       "      <td>3 Valnere Street</td>\n",
       "      <td>10340000</td>\n",
       "      <td>house</td>\n",
       "      <td>2016</td>\n",
       "      <td>4</td>\n",
       "      <td>2</td>\n",
       "      <td>1</td>\n",
       "      <td>hospital_003</td>\n",
       "      <td>986</td>\n",
       "      <td>SC_085</td>\n",
       "      <td>1212</td>\n",
       "      <td>S_049</td>\n",
       "      <td>1235</td>\n",
       "      <td>20023</td>\n",
       "      <td>1996</td>\n",
       "      <td>1</td>\n",
       "      <td>19</td>\n",
       "    </tr>\n",
       "  </tbody>\n",
       "</table>\n",
       "</div>"
      ],
      "text/plain": [
       "      property_id        lat         lng         addr_street     price  \\\n",
       "336          2060 -37.777848  144.880095     25 Smith Street   6650000   \n",
       "903           227 -37.787785  144.890379  11/3 Gordon Street   4800000   \n",
       "937         11075 -37.770573  144.875660  11 Sandpiper Grove  14560000   \n",
       "1067        11345 -37.783875  144.885387    3 Valnere Street  10340000   \n",
       "\n",
       "     property_type  year  bedrooms  bathrooms  parking_space   hospital_id  \\\n",
       "336          house  2015         2          1              2  hospital_056   \n",
       "903          house  2009         1          1              2  hospital_003   \n",
       "937          house  2015         4          3              2  hospital_056   \n",
       "1067         house  2016         4          2              1  hospital_003   \n",
       "\n",
       "      distance_to_hospital shopping_center_id  distance_to_sc supermarket_id  \\\n",
       "336                   1784             SC_052             755          S_049   \n",
       "903                    506             SC_085            1599          S_201   \n",
       "937                   2676             SC_052             925          S_131   \n",
       "1067                   986             SC_085            1212          S_049   \n",
       "\n",
       "      distance_to_supermaket  train_station_id  distance_to_train_station  \\\n",
       "336                      956             20023                       2706   \n",
       "903                     1591             20023                       1623   \n",
       "937                     1136             20022                       3382   \n",
       "1067                    1235             20023                       1996   \n",
       "\n",
       "      transfer_flag  travel_min_to_CBD  \n",
       "336               1                 19  \n",
       "903               1                 19  \n",
       "937               1                 21  \n",
       "1067              1                 19  "
      ]
     },
     "execution_count": 45,
     "metadata": {},
     "output_type": "execute_result"
    }
   ],
   "source": [
    "# apply function find_next_nearest_train to get the next nearest station_id that has direct trip to Flinders\n",
    "# and use this station_id to run find_flag function again to get the average travel time to CBD\n",
    "real_state_df.loc[real_state_df.transfer_flag==1,'travel_min_to_CBD']=real_state_df.loc[real_state_df.transfer_flag==1,:].apply(find_next_nearest_train,axis=1)[0].apply(find_flag)[1]\n",
    "# change the train_station_id to the new station that is the nearest and contains direct trip to CBD\n",
    "real_state_df.loc[real_state_df.transfer_flag==1,'train_station_id']=real_state_df.loc[real_state_df.transfer_flag==1,:].apply(find_next_nearest_train,axis=1)[0]\n",
    "# change the distance_to_train_station as well\n",
    "real_state_df.loc[real_state_df.transfer_flag==1,'distance_to_train_station']=real_state_df.loc[real_state_df.transfer_flag==1,:].apply(find_next_nearest_train,axis=1)[1]\n",
    "# change the data types\n",
    "real_state_df.loc[:,['train_station_id','distance_to_train_station','travel_min_to_CBD']]=real_state_df.loc[:,['train_station_id','distance_to_train_station','travel_min_to_CBD']].astype(np.int64)\n",
    "real_state_df.loc[real_state_df.transfer_flag==1,:]"
   ]
  },
  {
   "cell_type": "markdown",
   "metadata": {},
   "source": [
    "## A8. Integrating VIC_suburb_boundary shapefiles\n",
    "We are given a set of Victoria's suburbs boundary shapefiles which we can use to calculate the column `suburb` in the final dataframe.\n",
    "\n",
    "We first read in `VIC_LOCALITY_POLYGON_shp` files using `shapefile.Reader`."
   ]
  },
  {
   "cell_type": "code",
   "execution_count": 46,
   "metadata": {},
   "outputs": [],
   "source": [
    "# read in the shape files\n",
    "sf = shapefile.Reader(\"./VIC_LOCALITY_POLYGON_shp\")\n",
    "# store the records of each shape in a file\n",
    "recs = sf.records()\n",
    "# store all shapes in a file\n",
    "shapes = sf.shapes()"
   ]
  },
  {
   "cell_type": "markdown",
   "metadata": {},
   "source": [
    "Exploring the records of these shapes, the suburbs information is stored in the 7th element of the record of each shape (i.e. Python index 6)"
   ]
  },
  {
   "cell_type": "code",
   "execution_count": 47,
   "metadata": {},
   "outputs": [
    {
     "data": {
      "text/plain": [
       "['7796',\n",
       " datetime.date(2011, 8, 31),\n",
       " None,\n",
       " 'VIC1071',\n",
       " datetime.date(2012, 4, 27),\n",
       " None,\n",
       " 'GOWANFORD',\n",
       " '',\n",
       " '',\n",
       " 'G',\n",
       " None,\n",
       " '2']"
      ]
     },
     "execution_count": 47,
     "metadata": {},
     "output_type": "execute_result"
    }
   ],
   "source": [
    "recs[1000]"
   ]
  },
  {
   "cell_type": "markdown",
   "metadata": {},
   "source": [
    "If we were to loop through all the shapes and returning their shapetypes, the results are all 5 which indicates all the shapes are polygons [2]."
   ]
  },
  {
   "cell_type": "code",
   "execution_count": 48,
   "metadata": {},
   "outputs": [
    {
     "data": {
      "text/plain": [
       "[5]"
      ]
     },
     "execution_count": 48,
     "metadata": {},
     "output_type": "execute_result"
    }
   ],
   "source": [
    "# loop through all shapes and return their shapetypes\n",
    "result=[]\n",
    "for shape in shapes:\n",
    "    result.append(shape.shapeType)\n",
    "# a shape type of 5 is a polygon, \n",
    "list(set(result))"
   ]
  },
  {
   "cell_type": "markdown",
   "metadata": {},
   "source": [
    "Hence, we can determine the particular suburb of a property by determining which shape/polygon does the property's latitude and longitude lies in. \n",
    "\n",
    "We write a function that create instances of a Point (using `shapely.geometry` package) based on each property's longitude and latitude, and loop through all Polygon (using `shapely.geometry.polygon` package) instances of all the shapes in the suburbs dataset. Once the Point is found to be in any of the Polygon, we will return the suburb by returning the 7th element in the records file of this particular Polygon/shape."
   ]
  },
  {
   "cell_type": "code",
   "execution_count": 49,
   "metadata": {},
   "outputs": [],
   "source": [
    "# write a function that loops through each shape and create a polygon, and for each property's (lat,lng), find which polygon it lies in\n",
    "# and return the suburb\n",
    "def find_suburb(dataframe):\n",
    "    # create a Point instance using the property's lat and lng\n",
    "    point = Point(dataframe.lng,dataframe.lat)\n",
    "    # loop through the shapes\n",
    "    for i in range(0,len(shapes)):\n",
    "        # for each shape, create a polygon instance\n",
    "        polygon = Polygon(shapes[i].points)\n",
    "        # check if Point lies inside the Polygon\n",
    "        if polygon.contains(point) is True:\n",
    "            # return the suburb if Point is in Polygon and break the loop\n",
    "            return((recs[i][6]).lower().capitalize())\n",
    "            break"
   ]
  },
  {
   "cell_type": "markdown",
   "metadata": {},
   "source": [
    "We apply the function `find_suburb` on the `real_state_df` dataframe and create column `suburb` which stores the suburb each property belongs to based on it's longitude and latitude."
   ]
  },
  {
   "cell_type": "code",
   "execution_count": 50,
   "metadata": {},
   "outputs": [
    {
     "data": {
      "text/html": [
       "<div>\n",
       "<style scoped>\n",
       "    .dataframe tbody tr th:only-of-type {\n",
       "        vertical-align: middle;\n",
       "    }\n",
       "\n",
       "    .dataframe tbody tr th {\n",
       "        vertical-align: top;\n",
       "    }\n",
       "\n",
       "    .dataframe thead th {\n",
       "        text-align: right;\n",
       "    }\n",
       "</style>\n",
       "<table border=\"1\" class=\"dataframe\">\n",
       "  <thead>\n",
       "    <tr style=\"text-align: right;\">\n",
       "      <th></th>\n",
       "      <th>property_id</th>\n",
       "      <th>lat</th>\n",
       "      <th>lng</th>\n",
       "      <th>addr_street</th>\n",
       "      <th>price</th>\n",
       "      <th>property_type</th>\n",
       "      <th>year</th>\n",
       "      <th>bedrooms</th>\n",
       "      <th>bathrooms</th>\n",
       "      <th>parking_space</th>\n",
       "      <th>...</th>\n",
       "      <th>distance_to_hospital</th>\n",
       "      <th>shopping_center_id</th>\n",
       "      <th>distance_to_sc</th>\n",
       "      <th>supermarket_id</th>\n",
       "      <th>distance_to_supermaket</th>\n",
       "      <th>train_station_id</th>\n",
       "      <th>distance_to_train_station</th>\n",
       "      <th>transfer_flag</th>\n",
       "      <th>travel_min_to_CBD</th>\n",
       "      <th>suburb</th>\n",
       "    </tr>\n",
       "  </thead>\n",
       "  <tbody>\n",
       "    <tr>\n",
       "      <th>0</th>\n",
       "      <td>45745</td>\n",
       "      <td>-37.721855</td>\n",
       "      <td>145.120599</td>\n",
       "      <td>1/41 Coventry Street</td>\n",
       "      <td>7440000</td>\n",
       "      <td>house</td>\n",
       "      <td>2012</td>\n",
       "      <td>3</td>\n",
       "      <td>1</td>\n",
       "      <td>1</td>\n",
       "      <td>...</td>\n",
       "      <td>2269</td>\n",
       "      <td>SC_009</td>\n",
       "      <td>5490</td>\n",
       "      <td>S_210</td>\n",
       "      <td>2622</td>\n",
       "      <td>19986</td>\n",
       "      <td>734</td>\n",
       "      <td>0</td>\n",
       "      <td>40</td>\n",
       "      <td>Montmorency</td>\n",
       "    </tr>\n",
       "    <tr>\n",
       "      <th>1</th>\n",
       "      <td>36585</td>\n",
       "      <td>-37.672008</td>\n",
       "      <td>145.024414</td>\n",
       "      <td>83 Derrick Street</td>\n",
       "      <td>3285000</td>\n",
       "      <td>house</td>\n",
       "      <td>2012</td>\n",
       "      <td>3</td>\n",
       "      <td>1</td>\n",
       "      <td>1</td>\n",
       "      <td>...</td>\n",
       "      <td>2379</td>\n",
       "      <td>SC_062</td>\n",
       "      <td>5839</td>\n",
       "      <td>S_228</td>\n",
       "      <td>658</td>\n",
       "      <td>20006</td>\n",
       "      <td>935</td>\n",
       "      <td>0</td>\n",
       "      <td>39</td>\n",
       "      <td>Lalor</td>\n",
       "    </tr>\n",
       "    <tr>\n",
       "      <th>2</th>\n",
       "      <td>35545</td>\n",
       "      <td>-37.728758</td>\n",
       "      <td>145.018468</td>\n",
       "      <td>748 Plenty Road</td>\n",
       "      <td>7700000</td>\n",
       "      <td>house</td>\n",
       "      <td>2014</td>\n",
       "      <td>3</td>\n",
       "      <td>1</td>\n",
       "      <td>1</td>\n",
       "      <td>...</td>\n",
       "      <td>2186</td>\n",
       "      <td>SC_047</td>\n",
       "      <td>1508</td>\n",
       "      <td>S_225</td>\n",
       "      <td>999</td>\n",
       "      <td>20011</td>\n",
       "      <td>1382</td>\n",
       "      <td>0</td>\n",
       "      <td>29</td>\n",
       "      <td>Reservoir</td>\n",
       "    </tr>\n",
       "    <tr>\n",
       "      <th>3</th>\n",
       "      <td>88657</td>\n",
       "      <td>-37.950095</td>\n",
       "      <td>145.045347</td>\n",
       "      <td>22 View Street</td>\n",
       "      <td>21000000</td>\n",
       "      <td>house</td>\n",
       "      <td>2016</td>\n",
       "      <td>4</td>\n",
       "      <td>2</td>\n",
       "      <td>2</td>\n",
       "      <td>...</td>\n",
       "      <td>1530</td>\n",
       "      <td>SC_079</td>\n",
       "      <td>390</td>\n",
       "      <td>S_069</td>\n",
       "      <td>390</td>\n",
       "      <td>19872</td>\n",
       "      <td>357</td>\n",
       "      <td>0</td>\n",
       "      <td>39</td>\n",
       "      <td>Highett</td>\n",
       "    </tr>\n",
       "    <tr>\n",
       "      <th>4</th>\n",
       "      <td>19711</td>\n",
       "      <td>-37.678000</td>\n",
       "      <td>144.900481</td>\n",
       "      <td>33 Raleigh Street</td>\n",
       "      <td>6320000</td>\n",
       "      <td>house</td>\n",
       "      <td>2014</td>\n",
       "      <td>4</td>\n",
       "      <td>2</td>\n",
       "      <td>1</td>\n",
       "      <td>...</td>\n",
       "      <td>3510</td>\n",
       "      <td>SC_059</td>\n",
       "      <td>1778</td>\n",
       "      <td>S_153</td>\n",
       "      <td>1865</td>\n",
       "      <td>20030</td>\n",
       "      <td>1776</td>\n",
       "      <td>0</td>\n",
       "      <td>36</td>\n",
       "      <td>Westmeadows</td>\n",
       "    </tr>\n",
       "  </tbody>\n",
       "</table>\n",
       "<p>5 rows × 21 columns</p>\n",
       "</div>"
      ],
      "text/plain": [
       "   property_id        lat         lng           addr_street     price  \\\n",
       "0        45745 -37.721855  145.120599  1/41 Coventry Street   7440000   \n",
       "1        36585 -37.672008  145.024414     83 Derrick Street   3285000   \n",
       "2        35545 -37.728758  145.018468       748 Plenty Road   7700000   \n",
       "3        88657 -37.950095  145.045347        22 View Street  21000000   \n",
       "4        19711 -37.678000  144.900481     33 Raleigh Street   6320000   \n",
       "\n",
       "  property_type  year  bedrooms  bathrooms  parking_space     ...       \\\n",
       "0         house  2012         3          1              1     ...        \n",
       "1         house  2012         3          1              1     ...        \n",
       "2         house  2014         3          1              1     ...        \n",
       "3         house  2016         4          2              2     ...        \n",
       "4         house  2014         4          2              1     ...        \n",
       "\n",
       "  distance_to_hospital  shopping_center_id distance_to_sc  supermarket_id  \\\n",
       "0                 2269              SC_009           5490           S_210   \n",
       "1                 2379              SC_062           5839           S_228   \n",
       "2                 2186              SC_047           1508           S_225   \n",
       "3                 1530              SC_079            390           S_069   \n",
       "4                 3510              SC_059           1778           S_153   \n",
       "\n",
       "  distance_to_supermaket  train_station_id  distance_to_train_station  \\\n",
       "0                   2622             19986                        734   \n",
       "1                    658             20006                        935   \n",
       "2                    999             20011                       1382   \n",
       "3                    390             19872                        357   \n",
       "4                   1865             20030                       1776   \n",
       "\n",
       "   transfer_flag  travel_min_to_CBD       suburb  \n",
       "0              0                 40  Montmorency  \n",
       "1              0                 39        Lalor  \n",
       "2              0                 29    Reservoir  \n",
       "3              0                 39      Highett  \n",
       "4              0                 36  Westmeadows  \n",
       "\n",
       "[5 rows x 21 columns]"
      ]
     },
     "execution_count": 50,
     "metadata": {},
     "output_type": "execute_result"
    }
   ],
   "source": [
    "# create column 'suburb' which finds the suburb based on the property's lat and lng using find_suburb function\n",
    "real_state_df['suburb']=real_state_df.apply(find_suburb,axis=1)\n",
    "# returns first 5 rows of the dataframe\n",
    "real_state_df.head()"
   ]
  },
  {
   "cell_type": "markdown",
   "metadata": {},
   "source": [
    "## A9. Exporting the final dataframe\n",
    "Once we have finish integrating the 7 datasets into a single dataframe based on the given final schema, we output it into a .csv file accordingly."
   ]
  },
  {
   "cell_type": "code",
   "execution_count": 51,
   "metadata": {},
   "outputs": [
    {
     "name": "stdout",
     "output_type": "stream",
     "text": [
      "(1943, 21)\n"
     ]
    }
   ],
   "source": [
    "# print number of rows and columns\n",
    "print(real_state_df.shape)\n",
    "# change the sequence of the columns in final dataframe\n",
    "cols=['property_id', 'lat', 'lng', 'addr_street','suburb', 'price', 'property_type','year', 'bedrooms', 'bathrooms', \n",
    "      'parking_space', 'shopping_center_id','distance_to_sc','train_station_id','distance_to_train_station', \n",
    "      'travel_min_to_CBD','transfer_flag','hospital_id','distance_to_hospital','supermarket_id', 'distance_to_supermaket']\n",
    "real_state_df=real_state_df[cols]\n",
    "# output file to csv\n",
    "real_state_df.to_csv('29442826_solution.csv',index=False)"
   ]
  },
  {
   "cell_type": "markdown",
   "metadata": {},
   "source": [
    "## Summary for Task 1\n",
    "We have integrated 7 different datasets into 1 final dataframe based on a given final schema.<br>\n",
    "Integration of the datasets are done as follows in the respective sections:<br>\n",
    "* Section A3 - Integration of `real_state.json` and `real_state.xml`\n",
    "* Section A4 - Integration of `hospitals.xlsx`\n",
    "* Section A5 - Integration of `shopingcenters.json`\n",
    "* Section A6 - Integration of `supermarkets.html`\n",
    "* Section A7 - Integration of GTFS Melbourne Train Information datasets\n",
    "* Section A8 - Integration of VIC Suburb Boundary datasets<br><br>\n",
    "The final dataframe is then output to `29442826_solution.csv` in Section A9 and it contains 1943 rows and 21 columns."
   ]
  },
  {
   "cell_type": "markdown",
   "metadata": {},
   "source": [
    "# ------------------------------------------- End of Task 1-------------------------------------------"
   ]
  },
  {
   "cell_type": "markdown",
   "metadata": {},
   "source": [
    "# Task 2 - Data Reshaping\n",
    "\n",
    "Environment: Python 3.6.6 and Jupyter notebook\n",
    "Libraries used: \n",
    "* pandas (for using of dataframes, included in Anaconda Python 3.6.6) \n",
    "* matplotlib.pyplot (for data visualisations, included in Anaconda Python 3.6.6)\n",
    "* sklearn (for Z-score normalization, included in Anaconda Python 3.6.6)\n",
    "* math (for sqrt, log function, included in Anaconda Python 3.6.6)\n",
    "\n",
    "\n",
    "## B1. Introduction\n",
    "In the second task, we need to study the effect of different normalization/transformation methods (i.e. standardization, minmax normalization, log, power and sqrt transformation) on the <b>price</b> attribute in the dataset in Task 1, and observe and explain their effect on the price distribution.\n",
    "<br><br>\n",
    "Also, we need to compare the different normalization/transformation methods assuming we want to build a linear model on <b>price</b> using <b>bedrooms</b>, <b>bathrooms</b>, <b>parking_space</b> and <b>property_type</b> as the predictors of the linear model and recommend which one(s) would work better on this data. "
   ]
  },
  {
   "cell_type": "markdown",
   "metadata": {},
   "source": [
    "## B2. Import libraries"
   ]
  },
  {
   "cell_type": "code",
   "execution_count": 52,
   "metadata": {},
   "outputs": [],
   "source": [
    "import pandas as pd\n",
    "import matplotlib.pyplot as plt\n",
    "%matplotlib inline\n",
    "from sklearn import preprocessing\n",
    "import math"
   ]
  },
  {
   "cell_type": "markdown",
   "metadata": {},
   "source": [
    "## B3. Exploring the price attribute\n",
    "We first look at the distribution of the `price` attribute:<br>\n",
    "* The minimum is 1568000 while the maximum is 43350000.<br>\n",
    "* The maximum is roughly 27 times that of the minimum value (i.e. 43350000/1568000).<br>\n",
    "* The mean is 9051454 while the median is 7700000 which indicates this is right-skewed distribution."
   ]
  },
  {
   "cell_type": "code",
   "execution_count": 53,
   "metadata": {},
   "outputs": [
    {
     "data": {
      "text/plain": [
       "count    1.943000e+03\n",
       "mean     9.051454e+06\n",
       "std      5.629396e+06\n",
       "min      1.568000e+06\n",
       "25%      5.322500e+06\n",
       "50%      7.700000e+06\n",
       "75%      1.107000e+07\n",
       "max      4.335000e+07\n",
       "Name: price, dtype: float64"
      ]
     },
     "execution_count": 53,
     "metadata": {},
     "output_type": "execute_result"
    }
   ],
   "source": [
    "# create a copy of the dataframe integrated in Task 1\n",
    "subdata=real_state_df.copy()\n",
    "# extract the columns we are interested in\n",
    "subdata=subdata.loc[:,['property_id','bedrooms','bathrooms','parking_space','property_type','price']]\n",
    "subdata.price.describe()"
   ]
  },
  {
   "cell_type": "markdown",
   "metadata": {},
   "source": [
    "Plotting a histogram of <b>price</b>, it is indeed a right-skewed distribution."
   ]
  },
  {
   "cell_type": "code",
   "execution_count": 54,
   "metadata": {},
   "outputs": [
    {
     "data": {
      "image/png": "[encoded data removed]",
      "text/plain": [
       "<Figure size 432x288 with 1 Axes>"
      ]
     },
     "metadata": {
      "needs_background": "light"
     },
     "output_type": "display_data"
    }
   ],
   "source": [
    "plt.hist(subdata.price)\n",
    "plt.show()"
   ]
  },
  {
   "cell_type": "markdown",
   "metadata": {},
   "source": [
    "Plotting a boxplot on <b>price</b>, there seems to be possible outliers given the current scale of the data values in <b>price</b>."
   ]
  },
  {
   "cell_type": "code",
   "execution_count": 55,
   "metadata": {},
   "outputs": [
    {
     "data": {
      "image/png": "[encoded data removed]",
      "text/plain": [
       "<Figure size 432x288 with 1 Axes>"
      ]
     },
     "metadata": {
      "needs_background": "light"
     },
     "output_type": "display_data"
    }
   ],
   "source": [
    "plt.boxplot(subdata.price)\n",
    "plt.show()"
   ]
  },
  {
   "cell_type": "markdown",
   "metadata": {},
   "source": [
    "We try to explore if there are indeed outliers in <b>price</b> based on the distribution and what was observed in the boxplot. \n",
    "\n",
    "From the lecture notes in Week 8, for a point x to be classified as an outlier based on boxplots:\n",
    "- Lower outlier if x < Q1 - 1.5 (IQR)\n",
    "- Upper outlier if x > Q3 + 1.5 (IQR)<br>\n",
    "where Q1 refers to 25% quartile, Q3 refers to 75% quartile and IQR refers to Interquartile range (Q3 - Q1)\n",
    "\n",
    "We know that Q1 is 5322500, Q3 is 11070000. Hence IQR = Q3 - Q1 = 5747500.\n",
    "Hence, point x is an outlier in <b>price</b> if:\n",
    "- Lower outlier if x < 5322500 - 1.5 (5747500) = -3298750\n",
    "- Upper outlier if x > 11070000 + 1.5 (5747500) = 19691250\n",
    "\n",
    "Since we know the minimum is 1568000 while the maximum is 43350000, there are no lower outliers but there are <b>96</b> upper outliers."
   ]
  },
  {
   "cell_type": "code",
   "execution_count": 56,
   "metadata": {},
   "outputs": [
    {
     "data": {
      "text/plain": [
       "96"
      ]
     },
     "execution_count": 56,
     "metadata": {},
     "output_type": "execute_result"
    }
   ],
   "source": [
    "len(subdata.loc[subdata.price>19691250,:])"
   ]
  },
  {
   "cell_type": "markdown",
   "metadata": {},
   "source": [
    "## B4. Normalization\n",
    "### B4.1 Standardization (Z-score Normalization)\n",
    "We first explore standardizing the data so that they are centered around 0 (i.e. mean around 0) and standard deviation of 1. <br><br>\n",
    "We make use of the `scikit-learn` package and standardised the <b>price</b> column.<br>"
   ]
  },
  {
   "cell_type": "code",
   "execution_count": 57,
   "metadata": {},
   "outputs": [
    {
     "name": "stderr",
     "output_type": "stream",
     "text": [
      "C:\\Users\\tanka\\Anaconda3\\lib\\site-packages\\sklearn\\preprocessing\\data.py:617: DataConversionWarning: Data with input dtype int64 were all converted to float64 by StandardScaler.\n",
      "  return self.partial_fit(X, y)\n",
      "C:\\Users\\tanka\\Anaconda3\\lib\\site-packages\\ipykernel_launcher.py:4: DataConversionWarning: Data with input dtype int64 were all converted to float64 by StandardScaler.\n",
      "  after removing the cwd from sys.path.\n"
     ]
    },
    {
     "data": {
      "text/html": [
       "<div>\n",
       "<style scoped>\n",
       "    .dataframe tbody tr th:only-of-type {\n",
       "        vertical-align: middle;\n",
       "    }\n",
       "\n",
       "    .dataframe tbody tr th {\n",
       "        vertical-align: top;\n",
       "    }\n",
       "\n",
       "    .dataframe thead th {\n",
       "        text-align: right;\n",
       "    }\n",
       "</style>\n",
       "<table border=\"1\" class=\"dataframe\">\n",
       "  <thead>\n",
       "    <tr style=\"text-align: right;\">\n",
       "      <th></th>\n",
       "      <th>price</th>\n",
       "      <th>Zscore</th>\n",
       "    </tr>\n",
       "  </thead>\n",
       "  <tbody>\n",
       "    <tr>\n",
       "      <th>0</th>\n",
       "      <td>7440000</td>\n",
       "      <td>-0.286331</td>\n",
       "    </tr>\n",
       "    <tr>\n",
       "      <th>1</th>\n",
       "      <td>3285000</td>\n",
       "      <td>-1.024611</td>\n",
       "    </tr>\n",
       "    <tr>\n",
       "      <th>2</th>\n",
       "      <td>7700000</td>\n",
       "      <td>-0.240133</td>\n",
       "    </tr>\n",
       "    <tr>\n",
       "      <th>3</th>\n",
       "      <td>21000000</td>\n",
       "      <td>2.123074</td>\n",
       "    </tr>\n",
       "    <tr>\n",
       "      <th>4</th>\n",
       "      <td>6320000</td>\n",
       "      <td>-0.485338</td>\n",
       "    </tr>\n",
       "    <tr>\n",
       "      <th>5</th>\n",
       "      <td>9490000</td>\n",
       "      <td>0.077923</td>\n",
       "    </tr>\n",
       "    <tr>\n",
       "      <th>6</th>\n",
       "      <td>19650000</td>\n",
       "      <td>1.883199</td>\n",
       "    </tr>\n",
       "    <tr>\n",
       "      <th>7</th>\n",
       "      <td>7072000</td>\n",
       "      <td>-0.351719</td>\n",
       "    </tr>\n",
       "    <tr>\n",
       "      <th>8</th>\n",
       "      <td>4125000</td>\n",
       "      <td>-0.875355</td>\n",
       "    </tr>\n",
       "    <tr>\n",
       "      <th>9</th>\n",
       "      <td>7040000</td>\n",
       "      <td>-0.357405</td>\n",
       "    </tr>\n",
       "  </tbody>\n",
       "</table>\n",
       "</div>"
      ],
      "text/plain": [
       "      price    Zscore\n",
       "0   7440000 -0.286331\n",
       "1   3285000 -1.024611\n",
       "2   7700000 -0.240133\n",
       "3  21000000  2.123074\n",
       "4   6320000 -0.485338\n",
       "5   9490000  0.077923\n",
       "6  19650000  1.883199\n",
       "7   7072000 -0.351719\n",
       "8   4125000 -0.875355\n",
       "9   7040000 -0.357405"
      ]
     },
     "execution_count": 57,
     "metadata": {},
     "output_type": "execute_result"
    }
   ],
   "source": [
    "# fit the standard normal scale to 'price'\n",
    "std_scale = preprocessing.StandardScaler().fit(subdata[['price']])\n",
    "# transform the value of 'price' based on the new standard normal scale\n",
    "df_std = std_scale.transform(subdata[['price']])\n",
    "# create a column 'Zscore' that stores the values of 'price' after standardization\n",
    "subdata['Zscore'] = df_std\n",
    "# print out first 10 rows of the original 'price' and the standardized 'price'\n",
    "subdata.loc[:,['price','Zscore']].head(10)"
   ]
  },
  {
   "cell_type": "markdown",
   "metadata": {},
   "source": [
    "Looking at the distribution of the <b>Zscore</b> column below:\n",
    "* The mean is approximately 0 and it's standard deviation is approximately 1.<br>\n",
    "* The minimum is now -1.329695 while the maximum is 6.094326.<br>\n",
    "* The maximum is roughly 5 times that of the minimum value (i.e. 6.094326/1.329695), which is significantly lower than the 27 times as compared in the original <b>price</b> (i.e. 43350000/1568000).\n",
    "* The mean is greater than the median, which indicates a right-skewed distribution."
   ]
  },
  {
   "cell_type": "code",
   "execution_count": 58,
   "metadata": {},
   "outputs": [
    {
     "data": {
      "text/html": [
       "<div>\n",
       "<style scoped>\n",
       "    .dataframe tbody tr th:only-of-type {\n",
       "        vertical-align: middle;\n",
       "    }\n",
       "\n",
       "    .dataframe tbody tr th {\n",
       "        vertical-align: top;\n",
       "    }\n",
       "\n",
       "    .dataframe thead th {\n",
       "        text-align: right;\n",
       "    }\n",
       "</style>\n",
       "<table border=\"1\" class=\"dataframe\">\n",
       "  <thead>\n",
       "    <tr style=\"text-align: right;\">\n",
       "      <th></th>\n",
       "      <th>price</th>\n",
       "      <th>Zscore</th>\n",
       "    </tr>\n",
       "  </thead>\n",
       "  <tbody>\n",
       "    <tr>\n",
       "      <th>count</th>\n",
       "      <td>1.943000e+03</td>\n",
       "      <td>1.943000e+03</td>\n",
       "    </tr>\n",
       "    <tr>\n",
       "      <th>mean</th>\n",
       "      <td>9.051454e+06</td>\n",
       "      <td>1.422777e-17</td>\n",
       "    </tr>\n",
       "    <tr>\n",
       "      <th>std</th>\n",
       "      <td>5.629396e+06</td>\n",
       "      <td>1.000257e+00</td>\n",
       "    </tr>\n",
       "    <tr>\n",
       "      <th>min</th>\n",
       "      <td>1.568000e+06</td>\n",
       "      <td>-1.329695e+00</td>\n",
       "    </tr>\n",
       "    <tr>\n",
       "      <th>25%</th>\n",
       "      <td>5.322500e+06</td>\n",
       "      <td>-6.625780e-01</td>\n",
       "    </tr>\n",
       "    <tr>\n",
       "      <th>50%</th>\n",
       "      <td>7.700000e+06</td>\n",
       "      <td>-2.401327e-01</td>\n",
       "    </tr>\n",
       "    <tr>\n",
       "      <th>75%</th>\n",
       "      <td>1.107000e+07</td>\n",
       "      <td>3.586647e-01</td>\n",
       "    </tr>\n",
       "    <tr>\n",
       "      <th>max</th>\n",
       "      <td>4.335000e+07</td>\n",
       "      <td>6.094326e+00</td>\n",
       "    </tr>\n",
       "  </tbody>\n",
       "</table>\n",
       "</div>"
      ],
      "text/plain": [
       "              price        Zscore\n",
       "count  1.943000e+03  1.943000e+03\n",
       "mean   9.051454e+06  1.422777e-17\n",
       "std    5.629396e+06  1.000257e+00\n",
       "min    1.568000e+06 -1.329695e+00\n",
       "25%    5.322500e+06 -6.625780e-01\n",
       "50%    7.700000e+06 -2.401327e-01\n",
       "75%    1.107000e+07  3.586647e-01\n",
       "max    4.335000e+07  6.094326e+00"
      ]
     },
     "execution_count": 58,
     "metadata": {},
     "output_type": "execute_result"
    }
   ],
   "source": [
    "subdata.loc[:,['price','Zscore']].describe()"
   ]
  },
  {
   "cell_type": "markdown",
   "metadata": {},
   "source": [
    "Looking at the boxplot and histogram of <b>Zscore</b>, the distribution is right-skewed and there's possibility of upper outliers."
   ]
  },
  {
   "cell_type": "code",
   "execution_count": 59,
   "metadata": {},
   "outputs": [
    {
     "data": {
      "image/png": "[encoded data removed]",
      "text/plain": [
       "<Figure size 720x360 with 2 Axes>"
      ]
     },
     "metadata": {
      "needs_background": "light"
     },
     "output_type": "display_data"
    }
   ],
   "source": [
    "# histogram of Zscore\n",
    "plt.figure(figsize=(10,5))\n",
    "plt.subplot(1,2,1)\n",
    "plt.hist(subdata.Zscore,bins=50)\n",
    "# boxplot of Zscore\n",
    "plt.subplot(1,2,2)\n",
    "plt.boxplot(subdata.Zscore)\n",
    "plt.show()"
   ]
  },
  {
   "cell_type": "markdown",
   "metadata": {},
   "source": [
    "We try to explore if there are indeed outliers in <b>Zscore</b> based on the distribution. \n",
    "\n",
    "We know that Q1 is -0.6625780, Q3 is 0.3586647. Hence IQR = Q3 - Q1 = 1.021243.\n",
    "Hence, point x is an outlier in <b>Zscore</b> if:\n",
    "- Lower outlier if x < -0.6625780 - 1.5 (1.021243) = -2.194442\n",
    "- Upper outlier if x > 0.3586647 + 1.5 (1.021243) = 1.890529\n",
    "\n",
    "Since we know the minimum is -1.329695 while the maximum is 6.094326, there are no lower outliers but there are <b>96</b> upper outliers, which was the same compared to the original <b>price</b>."
   ]
  },
  {
   "cell_type": "code",
   "execution_count": 60,
   "metadata": {},
   "outputs": [
    {
     "data": {
      "text/plain": [
       "96"
      ]
     },
     "execution_count": 60,
     "metadata": {},
     "output_type": "execute_result"
    }
   ],
   "source": [
    "len(subdata.loc[subdata.Zscore>1.890529,:])"
   ]
  },
  {
   "cell_type": "markdown",
   "metadata": {},
   "source": [
    "### B4.2  Minmax Normalization\n",
    "The next method of data normalization we will explore is minmax normalization which involves rescaling the variable so that their values are in a specific range.\n",
    "<br><br>\n",
    "We make use of the `MinMaxScaler` function in `scikit-learn` package and normalized the <b>price</b> column.<br>\n",
    "This will normalize the values to between 0 and 1."
   ]
  },
  {
   "cell_type": "code",
   "execution_count": 61,
   "metadata": {},
   "outputs": [
    {
     "name": "stderr",
     "output_type": "stream",
     "text": [
      "C:\\Users\\tanka\\Anaconda3\\lib\\site-packages\\sklearn\\preprocessing\\data.py:323: DataConversionWarning: Data with input dtype int64 were all converted to float64 by MinMaxScaler.\n",
      "  return self.partial_fit(X, y)\n"
     ]
    },
    {
     "data": {
      "text/html": [
       "<div>\n",
       "<style scoped>\n",
       "    .dataframe tbody tr th:only-of-type {\n",
       "        vertical-align: middle;\n",
       "    }\n",
       "\n",
       "    .dataframe tbody tr th {\n",
       "        vertical-align: top;\n",
       "    }\n",
       "\n",
       "    .dataframe thead th {\n",
       "        text-align: right;\n",
       "    }\n",
       "</style>\n",
       "<table border=\"1\" class=\"dataframe\">\n",
       "  <thead>\n",
       "    <tr style=\"text-align: right;\">\n",
       "      <th></th>\n",
       "      <th>price</th>\n",
       "      <th>minmax</th>\n",
       "    </tr>\n",
       "  </thead>\n",
       "  <tbody>\n",
       "    <tr>\n",
       "      <th>0</th>\n",
       "      <td>7440000</td>\n",
       "      <td>0.140539</td>\n",
       "    </tr>\n",
       "    <tr>\n",
       "      <th>1</th>\n",
       "      <td>3285000</td>\n",
       "      <td>0.041094</td>\n",
       "    </tr>\n",
       "    <tr>\n",
       "      <th>2</th>\n",
       "      <td>7700000</td>\n",
       "      <td>0.146762</td>\n",
       "    </tr>\n",
       "    <tr>\n",
       "      <th>3</th>\n",
       "      <td>21000000</td>\n",
       "      <td>0.465081</td>\n",
       "    </tr>\n",
       "    <tr>\n",
       "      <th>4</th>\n",
       "      <td>6320000</td>\n",
       "      <td>0.113733</td>\n",
       "    </tr>\n",
       "    <tr>\n",
       "      <th>5</th>\n",
       "      <td>9490000</td>\n",
       "      <td>0.189603</td>\n",
       "    </tr>\n",
       "    <tr>\n",
       "      <th>6</th>\n",
       "      <td>19650000</td>\n",
       "      <td>0.432770</td>\n",
       "    </tr>\n",
       "    <tr>\n",
       "      <th>7</th>\n",
       "      <td>7072000</td>\n",
       "      <td>0.131731</td>\n",
       "    </tr>\n",
       "    <tr>\n",
       "      <th>8</th>\n",
       "      <td>4125000</td>\n",
       "      <td>0.061199</td>\n",
       "    </tr>\n",
       "    <tr>\n",
       "      <th>9</th>\n",
       "      <td>7040000</td>\n",
       "      <td>0.130965</td>\n",
       "    </tr>\n",
       "  </tbody>\n",
       "</table>\n",
       "</div>"
      ],
      "text/plain": [
       "      price    minmax\n",
       "0   7440000  0.140539\n",
       "1   3285000  0.041094\n",
       "2   7700000  0.146762\n",
       "3  21000000  0.465081\n",
       "4   6320000  0.113733\n",
       "5   9490000  0.189603\n",
       "6  19650000  0.432770\n",
       "7   7072000  0.131731\n",
       "8   4125000  0.061199\n",
       "9   7040000  0.130965"
      ]
     },
     "execution_count": 61,
     "metadata": {},
     "output_type": "execute_result"
    }
   ],
   "source": [
    "# fit the minmax scale to 'price'\n",
    "minmax_scale = preprocessing.MinMaxScaler().fit(subdata[['price']])\n",
    "# transform the value of 'price' based on the new minmax scale\n",
    "df_minmax = minmax_scale.transform(subdata[['price']])\n",
    "# create a column 'minmax' that stores the values of 'price' after minmax normalization\n",
    "subdata['minmax'] = df_minmax\n",
    "# print out first 10 rows of the original 'price' and the normalized 'price'\n",
    "subdata.loc[:,['price','minmax']].head(10)"
   ]
  },
  {
   "cell_type": "markdown",
   "metadata": {},
   "source": [
    "Looking at the distribution of the <b>minmax</b> column below:\n",
    "* The mean is 0.179107 and it's standard deviation is 0.134733.<br>\n",
    "* The minimum is now 0 while the maximum is 1, which was expected as we scaled the data based on the range [0,1]<br>\n",
    "* The mean is greater than the median, which indicates a right-skewed distribution."
   ]
  },
  {
   "cell_type": "code",
   "execution_count": 62,
   "metadata": {},
   "outputs": [
    {
     "data": {
      "text/html": [
       "<div>\n",
       "<style scoped>\n",
       "    .dataframe tbody tr th:only-of-type {\n",
       "        vertical-align: middle;\n",
       "    }\n",
       "\n",
       "    .dataframe tbody tr th {\n",
       "        vertical-align: top;\n",
       "    }\n",
       "\n",
       "    .dataframe thead th {\n",
       "        text-align: right;\n",
       "    }\n",
       "</style>\n",
       "<table border=\"1\" class=\"dataframe\">\n",
       "  <thead>\n",
       "    <tr style=\"text-align: right;\">\n",
       "      <th></th>\n",
       "      <th>price</th>\n",
       "      <th>minmax</th>\n",
       "    </tr>\n",
       "  </thead>\n",
       "  <tbody>\n",
       "    <tr>\n",
       "      <th>count</th>\n",
       "      <td>1.943000e+03</td>\n",
       "      <td>1943.000000</td>\n",
       "    </tr>\n",
       "    <tr>\n",
       "      <th>mean</th>\n",
       "      <td>9.051454e+06</td>\n",
       "      <td>0.179107</td>\n",
       "    </tr>\n",
       "    <tr>\n",
       "      <th>std</th>\n",
       "      <td>5.629396e+06</td>\n",
       "      <td>0.134733</td>\n",
       "    </tr>\n",
       "    <tr>\n",
       "      <th>min</th>\n",
       "      <td>1.568000e+06</td>\n",
       "      <td>0.000000</td>\n",
       "    </tr>\n",
       "    <tr>\n",
       "      <th>25%</th>\n",
       "      <td>5.322500e+06</td>\n",
       "      <td>0.089859</td>\n",
       "    </tr>\n",
       "    <tr>\n",
       "      <th>50%</th>\n",
       "      <td>7.700000e+06</td>\n",
       "      <td>0.146762</td>\n",
       "    </tr>\n",
       "    <tr>\n",
       "      <th>75%</th>\n",
       "      <td>1.107000e+07</td>\n",
       "      <td>0.227419</td>\n",
       "    </tr>\n",
       "    <tr>\n",
       "      <th>max</th>\n",
       "      <td>4.335000e+07</td>\n",
       "      <td>1.000000</td>\n",
       "    </tr>\n",
       "  </tbody>\n",
       "</table>\n",
       "</div>"
      ],
      "text/plain": [
       "              price       minmax\n",
       "count  1.943000e+03  1943.000000\n",
       "mean   9.051454e+06     0.179107\n",
       "std    5.629396e+06     0.134733\n",
       "min    1.568000e+06     0.000000\n",
       "25%    5.322500e+06     0.089859\n",
       "50%    7.700000e+06     0.146762\n",
       "75%    1.107000e+07     0.227419\n",
       "max    4.335000e+07     1.000000"
      ]
     },
     "execution_count": 62,
     "metadata": {},
     "output_type": "execute_result"
    }
   ],
   "source": [
    "subdata.loc[:,['price','minmax']].describe()"
   ]
  },
  {
   "cell_type": "markdown",
   "metadata": {},
   "source": [
    "Looking at the boxplot and histogram of <b>minmax</b>, the distribution is right-skewed and there's possibility of upper outliers."
   ]
  },
  {
   "cell_type": "code",
   "execution_count": 63,
   "metadata": {},
   "outputs": [
    {
     "data": {
      "image/png": "[encoded data removed]",
      "text/plain": [
       "<Figure size 720x360 with 2 Axes>"
      ]
     },
     "metadata": {
      "needs_background": "light"
     },
     "output_type": "display_data"
    }
   ],
   "source": [
    "# histogram of minmax\n",
    "plt.figure(figsize=(10,5))\n",
    "plt.subplot(1,2,1)\n",
    "plt.hist(subdata.minmax,bins=50)\n",
    "# boxplot of minmax\n",
    "plt.subplot(1,2,2)\n",
    "plt.boxplot(subdata.minmax)\n",
    "plt.show()"
   ]
  },
  {
   "cell_type": "markdown",
   "metadata": {},
   "source": [
    "We try to explore if there are indeed outliers in <b>minmax</b> based on the distribution. \n",
    "\n",
    "We know that Q1 is 0.089859, Q3 is 0.227419. Hence IQR = Q3 - Q1 = 0.13756.\n",
    "Hence, point x is an outlier in <b>minmax</b> if:\n",
    "- Lower outlier if x < 0.089859 - 1.5 (0.13756) = -0.116481\n",
    "- Upper outlier if x > 0.227419 + 1.5 (0.13756) = 0.433759\n",
    "\n",
    "Since we know the minimum is 0 while the maximum is 1, there are no lower outliers but there are <b>96</b> upper outliers, which was the same compared to the original <b>price</b>."
   ]
  },
  {
   "cell_type": "code",
   "execution_count": 64,
   "metadata": {},
   "outputs": [
    {
     "data": {
      "text/plain": [
       "96"
      ]
     },
     "execution_count": 64,
     "metadata": {},
     "output_type": "execute_result"
    }
   ],
   "source": [
    "len(subdata.loc[subdata.minmax>0.433759,:])"
   ]
  },
  {
   "cell_type": "markdown",
   "metadata": {},
   "source": [
    "## B5. Transformation\n",
    "### B5.1 Root Transformation\n",
    "We first explore the method of root transformation on <b>price</b> by taking the root of the value of <b>price</b>."
   ]
  },
  {
   "cell_type": "code",
   "execution_count": 65,
   "metadata": {},
   "outputs": [
    {
     "data": {
      "text/html": [
       "<div>\n",
       "<style scoped>\n",
       "    .dataframe tbody tr th:only-of-type {\n",
       "        vertical-align: middle;\n",
       "    }\n",
       "\n",
       "    .dataframe tbody tr th {\n",
       "        vertical-align: top;\n",
       "    }\n",
       "\n",
       "    .dataframe thead th {\n",
       "        text-align: right;\n",
       "    }\n",
       "</style>\n",
       "<table border=\"1\" class=\"dataframe\">\n",
       "  <thead>\n",
       "    <tr style=\"text-align: right;\">\n",
       "      <th></th>\n",
       "      <th>property_id</th>\n",
       "      <th>bedrooms</th>\n",
       "      <th>bathrooms</th>\n",
       "      <th>parking_space</th>\n",
       "      <th>property_type</th>\n",
       "      <th>price</th>\n",
       "      <th>Zscore</th>\n",
       "      <th>minmax</th>\n",
       "      <th>root</th>\n",
       "    </tr>\n",
       "  </thead>\n",
       "  <tbody>\n",
       "    <tr>\n",
       "      <th>0</th>\n",
       "      <td>45745</td>\n",
       "      <td>3</td>\n",
       "      <td>1</td>\n",
       "      <td>1</td>\n",
       "      <td>house</td>\n",
       "      <td>7440000</td>\n",
       "      <td>-0.286331</td>\n",
       "      <td>0.140539</td>\n",
       "      <td>2727.636339</td>\n",
       "    </tr>\n",
       "    <tr>\n",
       "      <th>1</th>\n",
       "      <td>36585</td>\n",
       "      <td>3</td>\n",
       "      <td>1</td>\n",
       "      <td>1</td>\n",
       "      <td>house</td>\n",
       "      <td>3285000</td>\n",
       "      <td>-1.024611</td>\n",
       "      <td>0.041094</td>\n",
       "      <td>1812.456896</td>\n",
       "    </tr>\n",
       "    <tr>\n",
       "      <th>2</th>\n",
       "      <td>35545</td>\n",
       "      <td>3</td>\n",
       "      <td>1</td>\n",
       "      <td>1</td>\n",
       "      <td>house</td>\n",
       "      <td>7700000</td>\n",
       "      <td>-0.240133</td>\n",
       "      <td>0.146762</td>\n",
       "      <td>2774.887385</td>\n",
       "    </tr>\n",
       "    <tr>\n",
       "      <th>3</th>\n",
       "      <td>88657</td>\n",
       "      <td>4</td>\n",
       "      <td>2</td>\n",
       "      <td>2</td>\n",
       "      <td>house</td>\n",
       "      <td>21000000</td>\n",
       "      <td>2.123074</td>\n",
       "      <td>0.465081</td>\n",
       "      <td>4582.575695</td>\n",
       "    </tr>\n",
       "    <tr>\n",
       "      <th>4</th>\n",
       "      <td>19711</td>\n",
       "      <td>4</td>\n",
       "      <td>2</td>\n",
       "      <td>1</td>\n",
       "      <td>house</td>\n",
       "      <td>6320000</td>\n",
       "      <td>-0.485338</td>\n",
       "      <td>0.113733</td>\n",
       "      <td>2513.961018</td>\n",
       "    </tr>\n",
       "  </tbody>\n",
       "</table>\n",
       "</div>"
      ],
      "text/plain": [
       "   property_id  bedrooms  bathrooms  parking_space property_type     price  \\\n",
       "0        45745         3          1              1         house   7440000   \n",
       "1        36585         3          1              1         house   3285000   \n",
       "2        35545         3          1              1         house   7700000   \n",
       "3        88657         4          2              2         house  21000000   \n",
       "4        19711         4          2              1         house   6320000   \n",
       "\n",
       "     Zscore    minmax         root  \n",
       "0 -0.286331  0.140539  2727.636339  \n",
       "1 -1.024611  0.041094  1812.456896  \n",
       "2 -0.240133  0.146762  2774.887385  \n",
       "3  2.123074  0.465081  4582.575695  \n",
       "4 -0.485338  0.113733  2513.961018  "
      ]
     },
     "execution_count": 65,
     "metadata": {},
     "output_type": "execute_result"
    }
   ],
   "source": [
    "# empty list to store the root price\n",
    "root_price=[]\n",
    "# loop through each price and append to list it's root price\n",
    "for each in subdata.price.tolist():\n",
    "    root_price.append(math.sqrt(each))\n",
    "# create column 'root' which stores the root price\n",
    "subdata['root']=root_price\n",
    "# returns first 5 rows of the data\n",
    "subdata.head()"
   ]
  },
  {
   "cell_type": "markdown",
   "metadata": {},
   "source": [
    "Looking at the distribution of the <b>root</b> column below:\n",
    "* The mean is 2891.204394 and it's standard deviation is 832.314775.<br>\n",
    "* The minimum is now 1252.198067 while the maximum is 6584.071689.<br>\n",
    "* The maximum is roughly 5 times that of the minimum value (i.e. 6584.071689/1252.198067), which is significantly lower than the 27 times as compared in the original <b>price</b> (i.e. 43350000/1568000).\n",
    "* The mean and median is quite close although the mean is still greater than the median, indicating a right-skewed distribution."
   ]
  },
  {
   "cell_type": "code",
   "execution_count": 66,
   "metadata": {},
   "outputs": [
    {
     "data": {
      "text/html": [
       "<div>\n",
       "<style scoped>\n",
       "    .dataframe tbody tr th:only-of-type {\n",
       "        vertical-align: middle;\n",
       "    }\n",
       "\n",
       "    .dataframe tbody tr th {\n",
       "        vertical-align: top;\n",
       "    }\n",
       "\n",
       "    .dataframe thead th {\n",
       "        text-align: right;\n",
       "    }\n",
       "</style>\n",
       "<table border=\"1\" class=\"dataframe\">\n",
       "  <thead>\n",
       "    <tr style=\"text-align: right;\">\n",
       "      <th></th>\n",
       "      <th>price</th>\n",
       "      <th>root</th>\n",
       "    </tr>\n",
       "  </thead>\n",
       "  <tbody>\n",
       "    <tr>\n",
       "      <th>count</th>\n",
       "      <td>1.943000e+03</td>\n",
       "      <td>1943.000000</td>\n",
       "    </tr>\n",
       "    <tr>\n",
       "      <th>mean</th>\n",
       "      <td>9.051454e+06</td>\n",
       "      <td>2891.204394</td>\n",
       "    </tr>\n",
       "    <tr>\n",
       "      <th>std</th>\n",
       "      <td>5.629396e+06</td>\n",
       "      <td>832.314775</td>\n",
       "    </tr>\n",
       "    <tr>\n",
       "      <th>min</th>\n",
       "      <td>1.568000e+06</td>\n",
       "      <td>1252.198067</td>\n",
       "    </tr>\n",
       "    <tr>\n",
       "      <th>25%</th>\n",
       "      <td>5.322500e+06</td>\n",
       "      <td>2307.054335</td>\n",
       "    </tr>\n",
       "    <tr>\n",
       "      <th>50%</th>\n",
       "      <td>7.700000e+06</td>\n",
       "      <td>2774.887385</td>\n",
       "    </tr>\n",
       "    <tr>\n",
       "      <th>75%</th>\n",
       "      <td>1.107000e+07</td>\n",
       "      <td>3327.160952</td>\n",
       "    </tr>\n",
       "    <tr>\n",
       "      <th>max</th>\n",
       "      <td>4.335000e+07</td>\n",
       "      <td>6584.071689</td>\n",
       "    </tr>\n",
       "  </tbody>\n",
       "</table>\n",
       "</div>"
      ],
      "text/plain": [
       "              price         root\n",
       "count  1.943000e+03  1943.000000\n",
       "mean   9.051454e+06  2891.204394\n",
       "std    5.629396e+06   832.314775\n",
       "min    1.568000e+06  1252.198067\n",
       "25%    5.322500e+06  2307.054335\n",
       "50%    7.700000e+06  2774.887385\n",
       "75%    1.107000e+07  3327.160952\n",
       "max    4.335000e+07  6584.071689"
      ]
     },
     "execution_count": 66,
     "metadata": {},
     "output_type": "execute_result"
    }
   ],
   "source": [
    "subdata.loc[:,['price','root']].describe()"
   ]
  },
  {
   "cell_type": "markdown",
   "metadata": {},
   "source": [
    "Looking at the boxplot and histogram of <b>root</b>, the distribution is right-skewed and there's possibility of upper outliers."
   ]
  },
  {
   "cell_type": "code",
   "execution_count": 67,
   "metadata": {},
   "outputs": [
    {
     "data": {
      "image/png": "[encoded data removed]",
      "text/plain": [
       "<Figure size 720x360 with 2 Axes>"
      ]
     },
     "metadata": {
      "needs_background": "light"
     },
     "output_type": "display_data"
    }
   ],
   "source": [
    "# histogram of root\n",
    "plt.figure(figsize=(10,5))\n",
    "plt.subplot(1,2,1)\n",
    "plt.hist(subdata.root,bins=50)\n",
    "# boxplot of root\n",
    "plt.subplot(1,2,2)\n",
    "plt.boxplot(subdata.root)\n",
    "plt.show()"
   ]
  },
  {
   "cell_type": "markdown",
   "metadata": {},
   "source": [
    "We try to explore if there are indeed outliers in <b>root</b> based on the distribution. \n",
    "\n",
    "We know that Q1 is 2307.054335, Q3 is 3327.160952. Hence IQR = Q3 - Q1 = 1020.107.\n",
    "Hence, point x is an outlier in <b>root</b> if:\n",
    "- Lower outlier if x < 2307.054335 - 1.5 (1020.107) = 776.8938\n",
    "- Upper outlier if x > 3327.160952 + 1.5 (1020.107) = 4857.321\n",
    "\n",
    "Since we know the minimum is 1252.198067 while the maximum is 6584.071689, there are no lower outliers but there are <b>56</b> upper outliers, which was smaller compared to the original <b>price</b> which had 96 outliers."
   ]
  },
  {
   "cell_type": "code",
   "execution_count": 68,
   "metadata": {},
   "outputs": [
    {
     "data": {
      "text/plain": [
       "56"
      ]
     },
     "execution_count": 68,
     "metadata": {},
     "output_type": "execute_result"
    }
   ],
   "source": [
    "len(subdata.loc[subdata.root>4857.321,:])"
   ]
  },
  {
   "cell_type": "markdown",
   "metadata": {},
   "source": [
    "### B5.2 Power Transformation\n",
    "We then explore the method of power transformation on <b>price</b> by taking the power 2 of the value of <b>price</b>."
   ]
  },
  {
   "cell_type": "code",
   "execution_count": 69,
   "metadata": {},
   "outputs": [
    {
     "data": {
      "text/html": [
       "<div>\n",
       "<style scoped>\n",
       "    .dataframe tbody tr th:only-of-type {\n",
       "        vertical-align: middle;\n",
       "    }\n",
       "\n",
       "    .dataframe tbody tr th {\n",
       "        vertical-align: top;\n",
       "    }\n",
       "\n",
       "    .dataframe thead th {\n",
       "        text-align: right;\n",
       "    }\n",
       "</style>\n",
       "<table border=\"1\" class=\"dataframe\">\n",
       "  <thead>\n",
       "    <tr style=\"text-align: right;\">\n",
       "      <th></th>\n",
       "      <th>property_id</th>\n",
       "      <th>bedrooms</th>\n",
       "      <th>bathrooms</th>\n",
       "      <th>parking_space</th>\n",
       "      <th>property_type</th>\n",
       "      <th>price</th>\n",
       "      <th>Zscore</th>\n",
       "      <th>minmax</th>\n",
       "      <th>root</th>\n",
       "      <th>power</th>\n",
       "    </tr>\n",
       "  </thead>\n",
       "  <tbody>\n",
       "    <tr>\n",
       "      <th>0</th>\n",
       "      <td>45745</td>\n",
       "      <td>3</td>\n",
       "      <td>1</td>\n",
       "      <td>1</td>\n",
       "      <td>house</td>\n",
       "      <td>7440000</td>\n",
       "      <td>-0.286331</td>\n",
       "      <td>0.140539</td>\n",
       "      <td>2727.636339</td>\n",
       "      <td>55353600000000</td>\n",
       "    </tr>\n",
       "    <tr>\n",
       "      <th>1</th>\n",
       "      <td>36585</td>\n",
       "      <td>3</td>\n",
       "      <td>1</td>\n",
       "      <td>1</td>\n",
       "      <td>house</td>\n",
       "      <td>3285000</td>\n",
       "      <td>-1.024611</td>\n",
       "      <td>0.041094</td>\n",
       "      <td>1812.456896</td>\n",
       "      <td>10791225000000</td>\n",
       "    </tr>\n",
       "    <tr>\n",
       "      <th>2</th>\n",
       "      <td>35545</td>\n",
       "      <td>3</td>\n",
       "      <td>1</td>\n",
       "      <td>1</td>\n",
       "      <td>house</td>\n",
       "      <td>7700000</td>\n",
       "      <td>-0.240133</td>\n",
       "      <td>0.146762</td>\n",
       "      <td>2774.887385</td>\n",
       "      <td>59290000000000</td>\n",
       "    </tr>\n",
       "    <tr>\n",
       "      <th>3</th>\n",
       "      <td>88657</td>\n",
       "      <td>4</td>\n",
       "      <td>2</td>\n",
       "      <td>2</td>\n",
       "      <td>house</td>\n",
       "      <td>21000000</td>\n",
       "      <td>2.123074</td>\n",
       "      <td>0.465081</td>\n",
       "      <td>4582.575695</td>\n",
       "      <td>441000000000000</td>\n",
       "    </tr>\n",
       "    <tr>\n",
       "      <th>4</th>\n",
       "      <td>19711</td>\n",
       "      <td>4</td>\n",
       "      <td>2</td>\n",
       "      <td>1</td>\n",
       "      <td>house</td>\n",
       "      <td>6320000</td>\n",
       "      <td>-0.485338</td>\n",
       "      <td>0.113733</td>\n",
       "      <td>2513.961018</td>\n",
       "      <td>39942400000000</td>\n",
       "    </tr>\n",
       "  </tbody>\n",
       "</table>\n",
       "</div>"
      ],
      "text/plain": [
       "   property_id  bedrooms  bathrooms  parking_space property_type     price  \\\n",
       "0        45745         3          1              1         house   7440000   \n",
       "1        36585         3          1              1         house   3285000   \n",
       "2        35545         3          1              1         house   7700000   \n",
       "3        88657         4          2              2         house  21000000   \n",
       "4        19711         4          2              1         house   6320000   \n",
       "\n",
       "     Zscore    minmax         root            power  \n",
       "0 -0.286331  0.140539  2727.636339   55353600000000  \n",
       "1 -1.024611  0.041094  1812.456896   10791225000000  \n",
       "2 -0.240133  0.146762  2774.887385   59290000000000  \n",
       "3  2.123074  0.465081  4582.575695  441000000000000  \n",
       "4 -0.485338  0.113733  2513.961018   39942400000000  "
      ]
     },
     "execution_count": 69,
     "metadata": {},
     "output_type": "execute_result"
    }
   ],
   "source": [
    "# empty list to store the power 2 price\n",
    "power_price=[]\n",
    "# loop through each price and append to list it's power 2 price\n",
    "for each in subdata.price.tolist():\n",
    "    power_price.append(each*each)\n",
    "# create column 'power' which stores the power 2 price\n",
    "subdata['power']=power_price\n",
    "# returns first 5 rows of the data\n",
    "subdata.head()"
   ]
  },
  {
   "cell_type": "markdown",
   "metadata": {},
   "source": [
    "Looking at the distribution of the <b>power</b> column below:\n",
    "* The mean is 1.136 * 10^14 and it's standard deviation is 1.792 * 10^14.<br>\n",
    "* The minimum is now 2.459 * 10^12 while the maximum is 1.879 * 10^15.<br>\n",
    "* The maximum is roughly 765 times that of the minimum value (i.e. 1.879 * 10^15/2.459 * 10^12), which is significantly higher than the 27 times as compared in the original <b>price</b> (i.e. 43350000/1568000).\n",
    "* The mean is greater than the median, which indicates a right-skewed distribution."
   ]
  },
  {
   "cell_type": "code",
   "execution_count": 70,
   "metadata": {},
   "outputs": [
    {
     "data": {
      "text/html": [
       "<div>\n",
       "<style scoped>\n",
       "    .dataframe tbody tr th:only-of-type {\n",
       "        vertical-align: middle;\n",
       "    }\n",
       "\n",
       "    .dataframe tbody tr th {\n",
       "        vertical-align: top;\n",
       "    }\n",
       "\n",
       "    .dataframe thead th {\n",
       "        text-align: right;\n",
       "    }\n",
       "</style>\n",
       "<table border=\"1\" class=\"dataframe\">\n",
       "  <thead>\n",
       "    <tr style=\"text-align: right;\">\n",
       "      <th></th>\n",
       "      <th>price</th>\n",
       "      <th>power</th>\n",
       "    </tr>\n",
       "  </thead>\n",
       "  <tbody>\n",
       "    <tr>\n",
       "      <th>count</th>\n",
       "      <td>1.943000e+03</td>\n",
       "      <td>1.943000e+03</td>\n",
       "    </tr>\n",
       "    <tr>\n",
       "      <th>mean</th>\n",
       "      <td>9.051454e+06</td>\n",
       "      <td>1.136026e+14</td>\n",
       "    </tr>\n",
       "    <tr>\n",
       "      <th>std</th>\n",
       "      <td>5.629396e+06</td>\n",
       "      <td>1.792059e+14</td>\n",
       "    </tr>\n",
       "    <tr>\n",
       "      <th>min</th>\n",
       "      <td>1.568000e+06</td>\n",
       "      <td>2.458624e+12</td>\n",
       "    </tr>\n",
       "    <tr>\n",
       "      <th>25%</th>\n",
       "      <td>5.322500e+06</td>\n",
       "      <td>2.832901e+13</td>\n",
       "    </tr>\n",
       "    <tr>\n",
       "      <th>50%</th>\n",
       "      <td>7.700000e+06</td>\n",
       "      <td>5.929000e+13</td>\n",
       "    </tr>\n",
       "    <tr>\n",
       "      <th>75%</th>\n",
       "      <td>1.107000e+07</td>\n",
       "      <td>1.225449e+14</td>\n",
       "    </tr>\n",
       "    <tr>\n",
       "      <th>max</th>\n",
       "      <td>4.335000e+07</td>\n",
       "      <td>1.879222e+15</td>\n",
       "    </tr>\n",
       "  </tbody>\n",
       "</table>\n",
       "</div>"
      ],
      "text/plain": [
       "              price         power\n",
       "count  1.943000e+03  1.943000e+03\n",
       "mean   9.051454e+06  1.136026e+14\n",
       "std    5.629396e+06  1.792059e+14\n",
       "min    1.568000e+06  2.458624e+12\n",
       "25%    5.322500e+06  2.832901e+13\n",
       "50%    7.700000e+06  5.929000e+13\n",
       "75%    1.107000e+07  1.225449e+14\n",
       "max    4.335000e+07  1.879222e+15"
      ]
     },
     "execution_count": 70,
     "metadata": {},
     "output_type": "execute_result"
    }
   ],
   "source": [
    "subdata.loc[:,['price','power']].describe()"
   ]
  },
  {
   "cell_type": "markdown",
   "metadata": {},
   "source": [
    "Looking at the boxplot and histogram of <b>power</b>, the distribution is right-skewed and comparing with the original <b>price</b>, the skew towards the right is actually more significant in the power transformation. Futhermore, there's possibility of upper outliers."
   ]
  },
  {
   "cell_type": "code",
   "execution_count": 71,
   "metadata": {},
   "outputs": [
    {
     "data": {
      "image/png": "[encoded data removed]",
      "text/plain": [
       "<Figure size 720x360 with 2 Axes>"
      ]
     },
     "metadata": {
      "needs_background": "light"
     },
     "output_type": "display_data"
    }
   ],
   "source": [
    "# histogram of power\n",
    "plt.figure(figsize=(10,5))\n",
    "plt.subplot(1,2,1)\n",
    "plt.hist(subdata.power,bins=100)\n",
    "# boxplot of power\n",
    "plt.subplot(1,2,2)\n",
    "plt.boxplot(subdata.power)\n",
    "plt.show()"
   ]
  },
  {
   "cell_type": "markdown",
   "metadata": {},
   "source": [
    "We try to explore if there are indeed outliers in <b>power</b> based on the distribution. \n",
    "\n",
    "We know that Q1 is 2.832901 * 10^13, Q3 is 1.225449 * 10^14. Hence IQR = Q3 - Q1 = 9.421589 * 10^13.\n",
    "Hence, point x is an outlier in <b>power</b> if:\n",
    "- Lower outlier if x < 2.832901 * 10^13 - 1.5 (9.421589 * 10^13) = -1.129948 * 10^14\n",
    "- Upper outlier if x > 1.225449 * 10^14 + 1.5 (9.421589 * 10^13) = 2.638687 * 10^14\n",
    "\n",
    "Since we know the minimum is 2.459 * 10^12 while the maximum is 1.879 * 10^15, there are no lower outliers but there are <b>164</b> upper outliers, which was greater compared to the original <b>price</b> which had 96 outliers."
   ]
  },
  {
   "cell_type": "code",
   "execution_count": 72,
   "metadata": {},
   "outputs": [
    {
     "data": {
      "text/plain": [
       "164"
      ]
     },
     "execution_count": 72,
     "metadata": {},
     "output_type": "execute_result"
    }
   ],
   "source": [
    "len(subdata.loc[subdata.power>2.638687e+14,:])"
   ]
  },
  {
   "cell_type": "markdown",
   "metadata": {},
   "source": [
    "### B5.3 Log Transformation\n",
    "Finally we explore the method of log transformation on <b>price</b> by taking the log of the value of <b>price</b>."
   ]
  },
  {
   "cell_type": "code",
   "execution_count": 73,
   "metadata": {},
   "outputs": [
    {
     "data": {
      "text/html": [
       "<div>\n",
       "<style scoped>\n",
       "    .dataframe tbody tr th:only-of-type {\n",
       "        vertical-align: middle;\n",
       "    }\n",
       "\n",
       "    .dataframe tbody tr th {\n",
       "        vertical-align: top;\n",
       "    }\n",
       "\n",
       "    .dataframe thead th {\n",
       "        text-align: right;\n",
       "    }\n",
       "</style>\n",
       "<table border=\"1\" class=\"dataframe\">\n",
       "  <thead>\n",
       "    <tr style=\"text-align: right;\">\n",
       "      <th></th>\n",
       "      <th>property_id</th>\n",
       "      <th>bedrooms</th>\n",
       "      <th>bathrooms</th>\n",
       "      <th>parking_space</th>\n",
       "      <th>property_type</th>\n",
       "      <th>price</th>\n",
       "      <th>Zscore</th>\n",
       "      <th>minmax</th>\n",
       "      <th>root</th>\n",
       "      <th>power</th>\n",
       "      <th>log</th>\n",
       "    </tr>\n",
       "  </thead>\n",
       "  <tbody>\n",
       "    <tr>\n",
       "      <th>0</th>\n",
       "      <td>45745</td>\n",
       "      <td>3</td>\n",
       "      <td>1</td>\n",
       "      <td>1</td>\n",
       "      <td>house</td>\n",
       "      <td>7440000</td>\n",
       "      <td>-0.286331</td>\n",
       "      <td>0.140539</td>\n",
       "      <td>2727.636339</td>\n",
       "      <td>55353600000000</td>\n",
       "      <td>15.822381</td>\n",
       "    </tr>\n",
       "    <tr>\n",
       "      <th>1</th>\n",
       "      <td>36585</td>\n",
       "      <td>3</td>\n",
       "      <td>1</td>\n",
       "      <td>1</td>\n",
       "      <td>house</td>\n",
       "      <td>3285000</td>\n",
       "      <td>-1.024611</td>\n",
       "      <td>0.041094</td>\n",
       "      <td>1812.456896</td>\n",
       "      <td>10791225000000</td>\n",
       "      <td>15.004877</td>\n",
       "    </tr>\n",
       "    <tr>\n",
       "      <th>2</th>\n",
       "      <td>35545</td>\n",
       "      <td>3</td>\n",
       "      <td>1</td>\n",
       "      <td>1</td>\n",
       "      <td>house</td>\n",
       "      <td>7700000</td>\n",
       "      <td>-0.240133</td>\n",
       "      <td>0.146762</td>\n",
       "      <td>2774.887385</td>\n",
       "      <td>59290000000000</td>\n",
       "      <td>15.856731</td>\n",
       "    </tr>\n",
       "    <tr>\n",
       "      <th>3</th>\n",
       "      <td>88657</td>\n",
       "      <td>4</td>\n",
       "      <td>2</td>\n",
       "      <td>2</td>\n",
       "      <td>house</td>\n",
       "      <td>21000000</td>\n",
       "      <td>2.123074</td>\n",
       "      <td>0.465081</td>\n",
       "      <td>4582.575695</td>\n",
       "      <td>441000000000000</td>\n",
       "      <td>16.860033</td>\n",
       "    </tr>\n",
       "    <tr>\n",
       "      <th>4</th>\n",
       "      <td>19711</td>\n",
       "      <td>4</td>\n",
       "      <td>2</td>\n",
       "      <td>1</td>\n",
       "      <td>house</td>\n",
       "      <td>6320000</td>\n",
       "      <td>-0.485338</td>\n",
       "      <td>0.113733</td>\n",
       "      <td>2513.961018</td>\n",
       "      <td>39942400000000</td>\n",
       "      <td>15.659230</td>\n",
       "    </tr>\n",
       "  </tbody>\n",
       "</table>\n",
       "</div>"
      ],
      "text/plain": [
       "   property_id  bedrooms  bathrooms  parking_space property_type     price  \\\n",
       "0        45745         3          1              1         house   7440000   \n",
       "1        36585         3          1              1         house   3285000   \n",
       "2        35545         3          1              1         house   7700000   \n",
       "3        88657         4          2              2         house  21000000   \n",
       "4        19711         4          2              1         house   6320000   \n",
       "\n",
       "     Zscore    minmax         root            power        log  \n",
       "0 -0.286331  0.140539  2727.636339   55353600000000  15.822381  \n",
       "1 -1.024611  0.041094  1812.456896   10791225000000  15.004877  \n",
       "2 -0.240133  0.146762  2774.887385   59290000000000  15.856731  \n",
       "3  2.123074  0.465081  4582.575695  441000000000000  16.860033  \n",
       "4 -0.485338  0.113733  2513.961018   39942400000000  15.659230  "
      ]
     },
     "execution_count": 73,
     "metadata": {},
     "output_type": "execute_result"
    }
   ],
   "source": [
    "# empty list to store the log price\n",
    "log_price=[]\n",
    "# loop through each price and append to list it's log price\n",
    "for each in subdata.price.tolist():\n",
    "    log_price.append(math.log(each))\n",
    "# create column 'log' which stores the log price\n",
    "subdata['log']=log_price\n",
    "# returns first 5 rows of the data\n",
    "subdata.head()"
   ]
  },
  {
   "cell_type": "markdown",
   "metadata": {},
   "source": [
    "Looking at the distribution of the <b>log</b> column below:\n",
    "* The mean is 15.861206 and it's standard deviation is 0.553863.<br>\n",
    "* The minimum is now 14.265311 while the maximum is 17.584817.<br>\n",
    "* The maximum is roughly 1.2 times that of the minimum value (i.e. 17.584817/14.265311), which is significantly lower than the 27 times as compared in the original <b>price</b> (i.e. 43350000/1568000).\n",
    "* The mean is roughly equal to the median, which indicates a symmetrical distribution."
   ]
  },
  {
   "cell_type": "code",
   "execution_count": 74,
   "metadata": {},
   "outputs": [
    {
     "data": {
      "text/html": [
       "<div>\n",
       "<style scoped>\n",
       "    .dataframe tbody tr th:only-of-type {\n",
       "        vertical-align: middle;\n",
       "    }\n",
       "\n",
       "    .dataframe tbody tr th {\n",
       "        vertical-align: top;\n",
       "    }\n",
       "\n",
       "    .dataframe thead th {\n",
       "        text-align: right;\n",
       "    }\n",
       "</style>\n",
       "<table border=\"1\" class=\"dataframe\">\n",
       "  <thead>\n",
       "    <tr style=\"text-align: right;\">\n",
       "      <th></th>\n",
       "      <th>price</th>\n",
       "      <th>log</th>\n",
       "    </tr>\n",
       "  </thead>\n",
       "  <tbody>\n",
       "    <tr>\n",
       "      <th>count</th>\n",
       "      <td>1.943000e+03</td>\n",
       "      <td>1943.000000</td>\n",
       "    </tr>\n",
       "    <tr>\n",
       "      <th>mean</th>\n",
       "      <td>9.051454e+06</td>\n",
       "      <td>15.861206</td>\n",
       "    </tr>\n",
       "    <tr>\n",
       "      <th>std</th>\n",
       "      <td>5.629396e+06</td>\n",
       "      <td>0.553863</td>\n",
       "    </tr>\n",
       "    <tr>\n",
       "      <th>min</th>\n",
       "      <td>1.568000e+06</td>\n",
       "      <td>14.265311</td>\n",
       "    </tr>\n",
       "    <tr>\n",
       "      <th>25%</th>\n",
       "      <td>5.322500e+06</td>\n",
       "      <td>15.487454</td>\n",
       "    </tr>\n",
       "    <tr>\n",
       "      <th>50%</th>\n",
       "      <td>7.700000e+06</td>\n",
       "      <td>15.856731</td>\n",
       "    </tr>\n",
       "    <tr>\n",
       "      <th>75%</th>\n",
       "      <td>1.107000e+07</td>\n",
       "      <td>16.219749</td>\n",
       "    </tr>\n",
       "    <tr>\n",
       "      <th>max</th>\n",
       "      <td>4.335000e+07</td>\n",
       "      <td>17.584817</td>\n",
       "    </tr>\n",
       "  </tbody>\n",
       "</table>\n",
       "</div>"
      ],
      "text/plain": [
       "              price          log\n",
       "count  1.943000e+03  1943.000000\n",
       "mean   9.051454e+06    15.861206\n",
       "std    5.629396e+06     0.553863\n",
       "min    1.568000e+06    14.265311\n",
       "25%    5.322500e+06    15.487454\n",
       "50%    7.700000e+06    15.856731\n",
       "75%    1.107000e+07    16.219749\n",
       "max    4.335000e+07    17.584817"
      ]
     },
     "execution_count": 74,
     "metadata": {},
     "output_type": "execute_result"
    }
   ],
   "source": [
    "subdata.loc[:,['price','log']].describe()"
   ]
  },
  {
   "cell_type": "markdown",
   "metadata": {},
   "source": [
    "Looking at the boxplot and histogram of <b>log</b>, the distribution is symmetrical and log transformation reduced the skew in <b>price</b> distribution. Furthermore, there's possibility of both lower and upper outliers."
   ]
  },
  {
   "cell_type": "code",
   "execution_count": 75,
   "metadata": {},
   "outputs": [
    {
     "data": {
      "image/png": "[encoded data removed]",
      "text/plain": [
       "<Figure size 720x360 with 2 Axes>"
      ]
     },
     "metadata": {
      "needs_background": "light"
     },
     "output_type": "display_data"
    }
   ],
   "source": [
    "# histogram of log\n",
    "plt.figure(figsize=(10,5))\n",
    "plt.subplot(1,2,1)\n",
    "plt.hist(subdata.log)\n",
    "# boxplot of log\n",
    "plt.subplot(1,2,2)\n",
    "plt.boxplot(subdata.log)\n",
    "plt.show()"
   ]
  },
  {
   "cell_type": "markdown",
   "metadata": {},
   "source": [
    "We try to explore if there are indeed outliers in <b>log</b> based on the distribution. \n",
    "\n",
    "We know that Q1 is 15.487454, Q3 is 16.219749. Hence IQR = Q3 - Q1 = 0.732295.\n",
    "Hence, point x is an outlier in <b>log</b> if:\n",
    "- Lower outlier if x < 15.487454 - 1.5 (0.732295) = 14.38901\n",
    "- Upper outlier if x > 16.219749 + 1.5 (0.732295) = 17.31819\n",
    "\n",
    "Since we know the minimum is 14.265311 while the maximum is 17.584817:\n",
    "- there are 3 lower outliers\n",
    "- there are 14 upper outliers<br>\n",
    "<br>\n",
    "In total, there's 17 outliers which was lower than the 96 in the original <b>price</b>."
   ]
  },
  {
   "cell_type": "code",
   "execution_count": 76,
   "metadata": {},
   "outputs": [
    {
     "name": "stdout",
     "output_type": "stream",
     "text": [
      "3\n",
      "14\n"
     ]
    }
   ],
   "source": [
    "# print number of lower outliers\n",
    "print(len(subdata.loc[subdata.log<14.38901,:]))\n",
    "# print number of upper outliers\n",
    "print(len(subdata.loc[subdata.log>17.31819,:]))"
   ]
  },
  {
   "cell_type": "markdown",
   "metadata": {},
   "source": [
    "## B6. Overall Comparison\n",
    "If we were to plot the data points for each of the methods and comparing to the original <b>price</b> in the plots below:\n",
    "<br>\n",
    "1) Standardised (Z-Score) Price:\n",
    "- similar to the original price\n",
    "\n",
    "2) Minmax normalised Price:\n",
    "- similar to the original price\n",
    "\n",
    "3) Root Transformed Price:\n",
    "- slightly more symmetrical compared to the right skewed distribution in the original price\n",
    "- data points are more spread out and less outliers\n",
    "\n",
    "4) Power 2 Transformed Price:\n",
    "- more right skewed distributed than the original price\n",
    "- data points are more concentrated in the left extreme and there are more outliers\n",
    "\n",
    "5) Log Transformed Price:\n",
    "- symmetrical distribution compared to the right skewed distribution in the original price\n",
    "- data points are more spread out and significantly less outliers"
   ]
  },
  {
   "cell_type": "code",
   "execution_count": 77,
   "metadata": {},
   "outputs": [
    {
     "data": {
      "image/png": "[encoded data removed]",
      "text/plain": [
       "<Figure size 1440x720 with 6 Axes>"
      ]
     },
     "metadata": {
      "needs_background": "light"
     },
     "output_type": "display_data"
    }
   ],
   "source": [
    "plt.figure(figsize=(20,10))\n",
    "# plot the original price\n",
    "plt.subplot(2,3,1)\n",
    "plt.scatter(subdata.price, subdata.index,color='green', alpha=0.5)\n",
    "plt.title('Original Price')\n",
    "# plot the Zscore price\n",
    "plt.subplot(2,3,2)\n",
    "plt.scatter(subdata.Zscore, subdata.index,color='blue', alpha=0.5)\n",
    "plt.title('Standardized (Z-Score) Price')\n",
    "# plot the minmax price\n",
    "plt.subplot(2,3,3)\n",
    "plt.scatter(subdata.minmax, subdata.index,color='red', alpha=0.5)\n",
    "plt.title('Minmax Normalised Price')\n",
    "# plot the root transformed price\n",
    "plt.subplot(2,3,4)\n",
    "plt.scatter(subdata.root, subdata.index,color='orange', alpha=0.5)\n",
    "plt.title('Root Transformed Price')\n",
    "# plot the power 2 price\n",
    "plt.subplot(2,3,5)\n",
    "plt.scatter(subdata.power, subdata.index,color='black', alpha=0.5)\n",
    "plt.title('Power 2 Transformed Price')\n",
    "# plot the log price\n",
    "plt.subplot(2,3,6)\n",
    "plt.scatter(subdata.log, subdata.index,color='purple', alpha=0.5)\n",
    "plt.title('Log Transformed Price')\n",
    "plt.show()"
   ]
  },
  {
   "cell_type": "markdown",
   "metadata": {},
   "source": [
    "Concluding the effects of different normalization/transformation methods on the <b>price</b> attribute and assuming we want to build a linear model on <b>price</b> as the target variable, the best method is <b>log transformation</b> followed by <b>root transformation</b>.\n",
    "<br><br>\n",
    "As the data of <b>price</b> is positively skewed and is in high powers of 10, we will need to compress these large values. Normalizing <b>price</b> using <b>standardization (Z-score)</b> and <b>minmax normalization</b> will not affect the data distribution much. We measure the mean-square error in a regression linear model to gauge whether the model is a good fit, if the distribution of the <b>standardized</b> and <b>minmax normalized</b> price remains the same as the original price, the mean-square error of the 2 will be the same as that of the <b>price</b>. Furthermore, the number of outliers is the same compared to the original <b>price</b> which is 96. If we were to remove the outliers before training the model, the fit of the model might be worse and the MSE might be greater as we are losing data points.\n",
    "<br><br>\n",
    "Similarly for <b>Power transformation</b>, since the data values of <b>price</b> is already in high powers of 10, increasing the power of the values will make the data values larger resulting in more extreme values (larger values get larger), which was what was observed in the plot above as we saw the distribution becoming more skewed. The number of outliers in this transformation for <b>price</b> is 164 which is greater than the 96 in the original <b>price</b>. Hence if we were to remove more data points, the fit of the model might be worse and MSE might be greater as compared to the original <b>price</b>.\n",
    "<br><br>\n",
    "For <b>Root transformation</b>, firstly the large values are being suppressed resulting in the model being more symmetrical and the number of outliers has been reduced from 96 to 56. The linear regression model will have a better fit and lower MSE as we are removing less data points/outliers compared to the original <b>price</b>.\n",
    "<br><br>\n",
    "<b>Log transformation</b> is better than <b>Root transformation</b> as firstly, the large values are suppressed to a greater extent resulting in distribution being more symmetrical and the number of outliers is just 17. MSE of the linear model using <b>Log transformation</b> will definitely be lower than <b>Root transformation</b>, and definitely lower than the model using the original <b>price</b>."
   ]
  },
  {
   "cell_type": "markdown",
   "metadata": {},
   "source": [
    "## Summary for Task 2\n",
    "The following normalization/transformation methods were performed on the <b>price</b> attribute:<br>\n",
    "* Section B4.1 - Standardization (Z-score Normalization)\n",
    "* Section B4.2 - Minmax Normalization\n",
    "* Section B5.1 - Log Transformation\n",
    "* Section B5.2 - Power Transformation\n",
    "* Section B5.3 - Sqrt Transformation\n",
    "<br><br>\n",
    "The 5 methods were then compared and concluded in Section B6."
   ]
  },
  {
   "cell_type": "markdown",
   "metadata": {},
   "source": [
    "# ------------------------------------------- End of Task 2-------------------------------------------"
   ]
  },
  {
   "cell_type": "markdown",
   "metadata": {},
   "source": [
    "## References\n",
    "[1] - https://stackoverflow.com/questions/4913349/haversine-formula-in-python-bearing-and-distance-between-two-gps-points <br>\n",
    "[2] - https://pypi.org/project/pyshp/"
   ]
  }
 ],
 "metadata": {
  "kernelspec": {
   "display_name": "Python 3",
   "language": "python",
   "name": "python3"
  },
  "language_info": {
   "codemirror_mode": {
    "name": "ipython",
    "version": 3
   },
   "file_extension": ".py",
   "mimetype": "text/x-python",
   "name": "python",
   "nbconvert_exporter": "python",
   "pygments_lexer": "ipython3",
   "version": "3.7.3"
  }
 },
 "nbformat": 4,
 "nbformat_minor": 2
}
